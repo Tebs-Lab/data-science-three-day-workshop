{
 "cells": [
  {
   "cell_type": "markdown",
   "metadata": {},
   "source": [
    "# The ML Product Lifecycle\n",
    "\n",
    "![](assets/MLLifecycle.jpg)"
   ]
  },
  {
   "cell_type": "markdown",
   "metadata": {},
   "source": [
    "Like other kinds of software, ML products are best built iteratively. Having a complete idea of what it will take to move your idea from your brain into a production server where it can benefit the masses **before you start** will increse the odds of the project's success. Additionally, being ruthlessly honest about the value the project will bring versus the cost and effort it will take can help you scrap a project before you waste too many person-hours and costly compute cycles.\n",
    "\n",
    "Although the cycle above has arrows pointing in one direction, you should not hesistate to go backwards and repeat steps early on. For example, if you collect some data and, after cleaning the data in step three, determine it's not of good quality or that you need more you should probably collect more data before moving on to model definition.\n",
    "\n",
    "Here are some ideas of what to think about during each of these phases.\n",
    "\n",
    "\n",
    "## Define The Problem\n",
    "\n",
    "* Approach the problem without prejudice about how to solve it.\n",
    "    * Don't be a solution looking for a problem.\n",
    "    * Focus on the people you want to help, not the tech you want to leverage.\n",
    "    * Machine Learning might not be the right fit — **remain open to simpler/easier/less expensive solutions**!\n",
    "* Get specific:\n",
    "    * What kind of data will you need?\n",
    "    * Where are you going to get get that data?\n",
    "    * Explicitly define success, what metrics will tell you that you're succeeding?\n",
    "* Be honest about the risks.\n",
    "    * What will the consequenees be when your model makes mistakes?\n",
    "    * Will you have consent to use the data you need?\n",
    "    * Are there legal issues involved?\n",
    "* Be honest about the benefits.\n",
    "    * Will success be game changing, or just an incremental improvement?\n",
    "* Consider the impacts throughout development and production.\n",
    "    * Do you need new infrastructure to support data storage and a data pipeline?\n",
    "    * Do you need to implement a UI so that customers can use the model?\n",
    "    * Do you need to insert the model into some existing infrastructure pipeline?\n",
    "    * Which departments will need to be involved?\n",
    "        * **Get them involved NOW not later**\n",
    "* Collect opinions from a variety of sources, especially people who might be impacted by your product.\n",
    "    * You have blind spots.\n",
    "    * Talk to lots of people with lots different perspectives.\n",
    "* Like most software anything is possible in the abstract but you have limited time and resources. \n",
    "    * Be ruthless about cutting scope and simplifying early. \n",
    "\n",
    "## Collect The Data\n",
    "\n",
    "* You have a lot of options here:\n",
    "    * Conduct surveys.\n",
    "    * Use monitoring data from your application.\n",
    "    * Buy data from data brokers.\n",
    "    * Use open source datasets.\n",
    "* Always always always examine the data yourself.\n",
    "    * You will be liable for your product at the end of the day, so it is your responsibility to validate the data you use.\n",
    "* Consider the ideas from lesson two while collecting the data:\n",
    "    * Avoid class imbalance.\n",
    "    * Does your data reflect bais in society? That bias will be passed on and possibly amplified by your model.\n",
    "    * Ensure your sample is representative of the population that will use your model. \n",
    "    * Is there actually good reason to believe that there is a mathematicall mapping between your input data and your target lables?\n",
    "    * Are there spurious corelations in the data? Your model can learn from any patterns, even if they're meaningless or coincidental.\n",
    "    * Are there contextual clues in the data that could be learned *instead* of what you want the model to learn (e.g. Wolf vs Husky and a snowy background)\n",
    "    \n",
    "## Preprocess the Data\n",
    "\n",
    "* Now that you have the data, you can tell if you need specialized datastores.\n",
    "    * SQL might be perfectly reasonable!\n",
    "    * Don't chase the new hotness if you don't need to.\n",
    "    * Every new technology you add is complexity for your team, a little computational slowness can be worth developer effiecency.\n",
    "* Reuse as much preprocessing as you can.\n",
    "    * Much like separating OLTP and OLAP databases, you may want to separate datastores for the raw and preprocessed data.\n",
    "* Carefully create a representative test set and training set.\n",
    "    * Decide if you want to explicitly do this with a validation set, or do something like cross validation. \n",
    "* Keep in mind the 5 C's of Good data:\n",
    "    * Correct\n",
    "    * Consistent\n",
    "    * Conforms (to the law)\n",
    "    * Current\n",
    "    * Consolidated\n",
    "* Do you need separate datapaths for development and production?\n",
    "    * Get DevOps, Data Scientists, and Application Engineers involved to find out.\n",
    "    \n",
    "## Define Models\n",
    "\n",
    "* Now that you have the data, you have a better idea of which models might be successful!\n",
    "* It's a good idea to build a few promising models.\n",
    "    * You might want to ensemble them together in the end.\n",
    "    * You might want to A/B test them.\n",
    "    * You might find out a promising model totally fails on the test data.\n",
    "    * But you should still set limits, you do ultimately have to go to market!\n",
    "* Read some papers and look around at possible competitors.\n",
    "    * Someone might have already solved a similar problem, start with their solution and improve it. \n",
    "    * Someone might have already failed to solve a similar problem, learn from their mistakes!\n",
    "* Start simple and add complexity for incremental improvements. \n",
    "    * Simpler is faster, easier to understand and explain, easier to debug.\n",
    "* Define, evaluate, and possibly go back to the data.\n",
    "    * If nothing is working, you might need better data or a new problem.\n",
    "    * Set limits on how long you're willing to persue a particular model.\n",
    "    \n",
    "## Evaluation\n",
    "\n",
    "* Define success BEFORE you start the evaluation process.\n",
    "    * Resist the urge to change the target unless you have **very good reasons**.\n",
    "* Things to consider:\n",
    "    * What is the impact of a false positive?\n",
    "    * What is the impact of a false negative?\n",
    "    * What is an acceptable failure rate?\n",
    "    * **What are the consequences from success**?\n",
    "* Start with smaller training sets to prove out the concept before committing to heavy duty training.\n",
    "    * Consider early stopping and enable monitoring during the training process!\n",
    "    * Nothing feels worse than a model that trained for days, cost a lot of money to train, and sucks real bad. \n",
    "* Patience is a virtue, but it's also okay to kill an experiment that isn't working.\n",
    "\n",
    "## Deployment \n",
    "\n",
    "* Who has to interact with the model?\n",
    "    * Define those interactions as explicitly as possible.\n",
    "    * Do you need new UI components?\n",
    "* How does a model go from untrained -> trained.\n",
    "    * What infrastructure is required?\n",
    "    * Where does the trained model live?\n",
    "    * How much can you automate this process?\n",
    "* How does a trained model, or it's predictions, reach a production system?\n",
    "    * Is a copy of the model embeded in the app?\n",
    "        * Then app deployment must check for new model versions!\n",
    "        * But there will be integration requirements (e.g. both written in Python)\n",
    "    * Does the model have it's own API and sever, separate from the app?\n",
    "        * The app and the model can be deployed separately!\n",
    "        * Fewer integration requirements, but more infrastructure concerns.\n",
    "        * What happens if the API servers fail?\n",
    "* Are you going to train the model continuously online or in batches?\n",
    "    * Beware of adversarial inputs!\n",
    "    * Consider the difficulty of versioning a continuously updated model. \n",
    "        * Keep snapshots to enable rollbacks.\n",
    "        \n",
    "## Monitoring\n",
    "\n",
    "* Keep data about your model's predictions.\n",
    "    * Make that data easily available in dashboards.\n",
    "    * Try to turn it into new training data!\n",
    "        * Can you label this data automatically? (e.g. users rate a movie you suggested)\n",
    "        * Can a human easily tell if a prediction was right or wrong?\n",
    "* Remember that the world can change.\n",
    "    * Revisit your assumptions regularly.\n",
    "* \"The act of observation is not passive.\" \n",
    "    * Your system might change the ecosystem within which you operate.\n",
    "    * Spam filtering is a war of attiriton, for example. \n",
    "\n",
    "## Repeat!\n",
    "\n",
    "* Continous improvement is the name of the game. \n",
    "* New models, new data, and new infrastructure might become available.\n",
    "    "
   ]
  },
  {
   "cell_type": "markdown",
   "metadata": {},
   "source": [
    "# Practice / Case Studies\n",
    "\n",
    "Consider the following problems as a possible opportunity for a machine learning system, and discuss what you should  to consider at each stage of the lifecycle:"
   ]
  },
  {
   "cell_type": "markdown",
   "metadata": {
    "heading_collapsed": true
   },
   "source": [
    "### Credit Card Fraud Detection"
   ]
  },
  {
   "cell_type": "markdown",
   "metadata": {
    "hidden": true
   },
   "source": [
    "Some non-exhaustive considerations:\n",
    "\n",
    "* Data:\n",
    "    * Beware of class imbalance, in the real world there are vastly more legit purchases than fraudulent ones. \n",
    "    * Your model probably needs to incorporate historical information about the individual whose card it is. \n",
    "* Definitely want to look beyond plain old accuracy:\n",
    "    * False positives result in small annoyances: \"hey, did you buy this?\"\n",
    "    * False negatives result in successful fraud, which is **much** worse!\n",
    "* This is infrastructural, but you might also need some application specific code as well:\n",
    "    * You probably want to automatically pause or maybe even just cancel the transaction.\n",
    "    * Your employees need a dashboard.\n",
    "    * Your customers will want to be notified, and probably want historical info too. \n",
    "* Consider the audience:\n",
    "    * Are there cohorts of people who are more likely to be defrauded? \n",
    "    * Can we get data about them?\n",
    "    * Learning about how fraudsters actually behave could also be quite useful in the early stages, and point us towards interesting ideas for putting together our training data.\n",
    "* Are there easier ways to do this?\n",
    "    * Some simpler preliminary checks might do a good job.\n",
    "* Lots of companies are already doing this, find out what they're doing!!\n",
    "* War of attrition — you'll improve then the fraudsters react then you have to improve more. \n",
    "    * So dashboards and regular monitoring should be prioritized. "
   ]
  },
  {
   "cell_type": "markdown",
   "metadata": {
    "heading_collapsed": true
   },
   "source": [
    "### Email Spam Detection"
   ]
  },
  {
   "cell_type": "markdown",
   "metadata": {
    "hidden": true
   },
   "source": [
    "Some non-exhaustive considerations:\n",
    "\n",
    "* Data:\n",
    "    * Consider looking at metadata in addition to processing the contents of the email. \n",
    "    * The world of spam evolves quickly, you want to continuously collect new samples.\n",
    "* Needs to be accurate, but lives aren't at stake:\n",
    "    * False positive means your user doesn't get an important email.\n",
    "    * False negative puts your user at risk of being phished.\n",
    "    * Both are relatively small cost... the customer can look in the spam box and you can blame them for not being suspicious of a phishing email. \n",
    "* Mostly infrastructural, and when it works well you want it to be invisible. \n",
    "    * But you need to expose a SPAM box for your customers to check.\n",
    "    * and you WANT a \"mark as spam\" feature to collect new training data.\n",
    "* Simpler checks before running an expensive algorithm might help:\n",
    "    * Check for links and run them through a reputation API\n",
    "    * Same thing with the IP of the sender / email server\n",
    "    * Check for high occurance of typos / misspelled works with a standard spellcheck\n",
    "    * You could also use these as \"engineered features\"\n",
    "* Another war of attrition."
   ]
  },
  {
   "cell_type": "markdown",
   "metadata": {
    "heading_collapsed": true
   },
   "source": [
    "### Facial Recognition for Law Enforcement"
   ]
  },
  {
   "cell_type": "markdown",
   "metadata": {
    "hidden": true
   },
   "source": [
    "* Data: \n",
    "    * Tons of potentail legal issues here, if you want to persue this you should hire a legal specialist.\n",
    "    * Ideally, you want the tool to work with security footage which is usually at an awkward angle, building a training set with the right angle (or even better, MANY angles) will help.\n",
    "    * Smart criminals also obscure their faces, so adversarial samples with glasses, bandanas, and other face coverings could also help.\n",
    "    * Most state of the art systems display major racial bias in terms of accuracy (as of January 2020).\n",
    "        * Be sure to get a dataset that is representative of the whole population. \n",
    "* Needs to be accurate, and especially should not deliver false positives. Lives are literally at stake:\n",
    "    * False positives can potentially lead to false arrests or worse if the situation escalates.\n",
    "    * False negatives might result in a criminal not getting caught — but police have plenty of other tactics they can try in this case. \n",
    "    * Beware the doppleganger effect — some people genuinely look similar.\n",
    "* User interface considerations:\n",
    "    * Beware the over-confidence effect — if your system says \"match\" at 51% confidence you are misleading the police.\n",
    "    * Users will not be highly technical and they will be highly motivated to track down \"leads\" your software provides.\n"
   ]
  },
  {
   "cell_type": "markdown",
   "metadata": {
    "heading_collapsed": true
   },
   "source": [
    "### Image Based Cancer Screening"
   ]
  },
  {
   "cell_type": "markdown",
   "metadata": {
    "hidden": true
   },
   "source": [
    "* Data:\n",
    "    * There are LOTS of different machines that perform similar functions, but whose output will differ somewhat. You need lots of examples from all these machines, or different models for each machine. \n",
    "    * Rare cancers are rare, your system will only work well with LOTS of data. \n",
    "* User interface concerns:\n",
    "    * Hospitals are notorious for not adopting technology, your system will have to be compelling and easy to use.\n",
    "    * Simple classification is not that helpful, but segmentation / localization will be.\n",
    "    * Might want to automate this to just run every time a machine prodces a new image, but you might want it to be on-demand. Consider the audience and try to perform some interviews to get a better idea of how to integrate the system. \n",
    "* Accuracy is again very critical:\n",
    "    * False positive -> scare the shit out of some poor person who will now ALWAYS wonder if they have cancer or not. \n",
    "    * False negative -> someone who has cancer is not told they have cancer. \n",
    "    * An expert should ALWAYS vet EVERY prediction from such a system before a patient is given the output. Lives are on the line and there is serious legal liability."
   ]
  },
  {
   "cell_type": "code",
   "execution_count": null,
   "metadata": {
    "hidden": true
   },
   "outputs": [],
   "source": []
  }
 ],
 "metadata": {
  "kernelspec": {
   "display_name": "Python 3",
   "language": "python",
   "name": "python3"
  },
  "language_info": {
   "codemirror_mode": {
    "name": "ipython",
    "version": 3
   },
   "file_extension": ".py",
   "mimetype": "text/x-python",
   "name": "python",
   "nbconvert_exporter": "python",
   "pygments_lexer": "ipython3",
   "version": "3.8.5"
  }
 },
 "nbformat": 4,
 "nbformat_minor": 2
}
