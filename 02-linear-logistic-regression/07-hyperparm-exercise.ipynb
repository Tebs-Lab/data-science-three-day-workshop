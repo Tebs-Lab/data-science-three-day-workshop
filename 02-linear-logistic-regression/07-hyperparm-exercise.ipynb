{
 "cells": [
  {
   "cell_type": "markdown",
   "metadata": {},
   "source": [
    "# Hyperparameter Search, Cross Validation, and Metrics Exercise\n",
    "\n",
    "Return to your logistic regression exercises and expand your answer by doing the following:\n",
    "\n",
    "1. Select at least 3 hyperparameters from the Logistic Regression model (see documentation [https://scikit-learn.org/stable/modules/generated/sklearn.linear_model.LogisticRegression.html#sklearn.linear_model.LogisticRegression](https://scikit-learn.org/stable/modules/generated/sklearn.linear_model.LogisticRegression.html#sklearn.linear_model.LogisticRegression)\n",
    "    * Select at least 2 values for each of your selected hyperparameters.\n",
    "2. Select at least 3 metrics to track.\n",
    "3. Perform a Grid Search search using KFold cross validation with k=5\n",
    "4. Examine the results...\n",
    "    * Is the most accurate model the one with the best values in your other metrics?\n",
    "    * Can you find any evidence of a \"tradeoff\" where one metric is typically high when another is low?\n",
    "    * Is there anything you find particularly interesting about the results?"
   ]
  },
  {
   "cell_type": "code",
   "execution_count": null,
   "metadata": {},
   "outputs": [],
   "source": []
  }
 ],
 "metadata": {
  "kernelspec": {
   "display_name": "Python 3 (ipykernel)",
   "language": "python",
   "name": "python3"
  },
  "language_info": {
   "codemirror_mode": {
    "name": "ipython",
    "version": 3
   },
   "file_extension": ".py",
   "mimetype": "text/x-python",
   "name": "python",
   "nbconvert_exporter": "python",
   "pygments_lexer": "ipython3",
   "version": "3.8.12"
  }
 },
 "nbformat": 4,
 "nbformat_minor": 4
}
