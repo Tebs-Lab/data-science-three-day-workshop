{
 "cells": [
  {
   "cell_type": "markdown",
   "metadata": {},
   "source": [
    "## Exercise: Build a linear regression model to predict fish weight\n",
    "\n",
    "Using the fish dataset in this repo (location relative to this notebook: `../datasets/fish/Fish.csv`) do the following:\n",
    "\n",
    "1. Split the data into labels and features, with the \"weight\" column being the label and the other columns as features.\n",
    "2. Drop all the \"species\" information from the input features (we'll assume all fish are similarly dense...).\n",
    "3. Split the fish data into training and validation sets.\n",
    "4. Fit the model!\n",
    "5. Score the model, what is this value? How should you interpret it?\n",
    "    * Hint, the default is this: [https://scikit-learn.org/stable/modules/generated/sklearn.metrics.r2_score.html](https://scikit-learn.org/stable/modules/generated/sklearn.metrics.r2_score.html)\n",
    "6. Examine the coefficents and intercept value...\n",
    "    * Which coefficent is tied to which input feature?\n",
    "    * Are there any that seem especially large?\n",
    "    * According to your model, what is the formula that maps fish features to fish weight?\n",
    "7. Compute and plot the residuals (error) of the validation scores.\n",
    "    * Hint, computing residuals: [https://stackoverflow.com/questions/55095437/in-python-sklearn-regression-is-there-a-command-to-return-residuals-for-all-rec](https://stackoverflow.com/questions/55095437/in-python-sklearn-regression-is-there-a-command-to-return-residuals-for-all-rec)\n",
    "    * Hint, creating a scatterplot: [https://matplotlib.org/3.3.3/api/_as_gen/matplotlib.pyplot.scatter.html](https://matplotlib.org/3.3.3/api/_as_gen/matplotlib.pyplot.scatter.html)\n",
    "    * Do you see any signs of heteroscedasticity or autocorrelation?\n",
    "    "
   ]
  },
  {
   "cell_type": "code",
   "execution_count": null,
   "metadata": {},
   "outputs": [],
   "source": [
    "# All your code below here! Make as many new cells as you'd like."
   ]
  }
 ],
 "metadata": {
  "kernelspec": {
   "display_name": "Python 3",
   "language": "python",
   "name": "python3"
  },
  "language_info": {
   "codemirror_mode": {
    "name": "ipython",
    "version": 3
   },
   "file_extension": ".py",
   "mimetype": "text/x-python",
   "name": "python",
   "nbconvert_exporter": "python",
   "pygments_lexer": "ipython3",
   "version": "3.7.9"
  }
 },
 "nbformat": 4,
 "nbformat_minor": 4
}
