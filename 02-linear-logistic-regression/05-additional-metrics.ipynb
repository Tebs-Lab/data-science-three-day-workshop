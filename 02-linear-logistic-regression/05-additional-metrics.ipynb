{
 "cells": [
  {
   "cell_type": "markdown",
   "metadata": {},
   "source": [
    "# Metrics\n",
    "\n",
    "A central question in machine learning: How do I know if my model is working? Or the related: How do I know which of my models is working best?\n",
    "\n",
    "Typically, we use a variety of metrics to measure model performance. In this section we'll introduce a few of the most commonly used metrics and discuss why we'd want to track them.\n",
    "\n",
    "### Metrics\n",
    "\n",
    "Metrics are computed values related to something we care about. We've seen 2 common metrics in the context of the \"score\" function: the \"coefficent of determination\" R^2, and accuracy.\n",
    "\n",
    "Scikit learn has many metrics built into the library which it can track and compute automatically. See the documentation for a big list: [https://scikit-learn.org/stable/modules/model_evaluation.html](https://scikit-learn.org/stable/modules/model_evaluation.html)\n",
    "\n",
    "It's also possible to build custom metrics in SKLearn, which can be helpful when you have specific domain knowledge about what to track. See an example here: [https://chrisalbon.com/machine_learning/model_evaluation/custom_performance_metric/](https://chrisalbon.com/machine_learning/model_evaluation/custom_performance_metric/)\n",
    "\n",
    "Metrics are always computed with respect to the model's prediction and the true labels from the training or test data. \n",
    "\n",
    "### An Exercise in 3 parts:\n",
    "\n",
    "In pairs you'll spend 8 minutes (per question) researching and discussing the following 3 questions about some of SKLearns built in metrics. (Keep in mind, they're built in because they're popular!)\n",
    "\n",
    "After each research period we'll discuss the answer as a class.\n",
    "\n",
    "##### Question 1: What are precision, recall, and specificity? \n",
    "\n",
    "Additionally...Can you think of an example where one of these would be more important than plain old accuracy?\n",
    "\n",
    "##### Question 2: What are Mean Squared Error and Mean Absolute Error?\n",
    "\n",
    "Additionally, can think of an example for when you might want to prefer one over the other?\n",
    "\n",
    "##### Question 3: What is R^2?\n",
    "\n",
    "Additionally, can you relate this value to MSE or MAE? Is R^2 telling you something similar, or something quite different from those other error metrics?"
   ]
  },
  {
   "cell_type": "code",
   "execution_count": null,
   "metadata": {},
   "outputs": [],
   "source": []
  }
 ],
 "metadata": {
  "kernelspec": {
   "display_name": "Python 3",
   "language": "python",
   "name": "python3"
  },
  "language_info": {
   "codemirror_mode": {
    "name": "ipython",
    "version": 3
   },
   "file_extension": ".py",
   "mimetype": "text/x-python",
   "name": "python",
   "nbconvert_exporter": "python",
   "pygments_lexer": "ipython3",
   "version": "3.7.9"
  }
 },
 "nbformat": 4,
 "nbformat_minor": 4
}
