{
 "cells": [
  {
   "cell_type": "markdown",
   "metadata": {},
   "source": [
    "# Tips and Tactics for Production\n",
    "\n",
    "This notebook is more or less a collection of tricks and ideas that can help you build deep learning software for production systems. It is not an exhaustive collection of such tips by any stretch. \n",
    "\n",
    "## Sections:\n",
    "\n",
    "* Saving models.\n",
    "* Training with checkpoints.\n",
    "* Persisting metrics for dashboards and reports.\n",
    "* Collect incoming data as potential future training data and to reproduce failures."
   ]
  },
  {
   "cell_type": "markdown",
   "metadata": {},
   "source": [
    "### Saving Models\n",
    "\n",
    "We don't want to retrain a neural network every time we spin up a new server. Instead, we want to load a pretrained model from a file (which could live in Amazon's S3, another cloud storage service, or as a blob in a database). The following code would be written in standard python files, versioned with `git` or some other version control system, and deployed to a powerful machine with a good GPU or cluster. "
   ]
  },
  {
   "cell_type": "code",
   "execution_count": 1,
   "metadata": {},
   "outputs": [
    {
     "name": "stdout",
     "output_type": "stream",
     "text": [
      "Train on 54000 samples, validate on 6000 samples\n",
      "Epoch 1/2\n",
      "54000/54000 [==============================] - 1s 28us/sample - loss: 2.1609 - accuracy: 0.8476 - val_loss: 0.3504 - val_accuracy: 0.9313\n",
      "Epoch 2/2\n",
      "54000/54000 [==============================] - 1s 22us/sample - loss: 0.2889 - accuracy: 0.9346 - val_loss: 0.2516 - val_accuracy: 0.9448\n",
      "Train on 54000 samples, validate on 6000 samples\n",
      "Epoch 1/2\n",
      "54000/54000 [==============================] - 2s 29us/sample - loss: 1.2411 - accuracy: 0.8071 - val_loss: 0.3365 - val_accuracy: 0.8995\n",
      "Epoch 2/2\n",
      "54000/54000 [==============================] - 1s 22us/sample - loss: 0.2928 - accuracy: 0.9212 - val_loss: 0.2215 - val_accuracy: 0.9452\n",
      "WARNING:tensorflow:From /Users/tylerbettilyon/.local/share/virtualenvs/deep-learning-intro-1Adgpw9A/lib/python3.7/site-packages/tensorflow_core/python/ops/resource_variable_ops.py:1786: calling BaseResourceVariable.__init__ (from tensorflow.python.ops.resource_variable_ops) with constraint is deprecated and will be removed in a future version.\n",
      "Instructions for updating:\n",
      "If using Keras pass *_constraint arguments to layers.\n",
      "INFO:tensorflow:Assets written to: save_files/trained-model-tensorflow-generic/assets\n"
     ]
    }
   ],
   "source": [
    "## Simple neural network example.\n",
    "## So far this should all look very familiar.\n",
    "from tensorflow.keras.datasets import mnist\n",
    "from tensorflow.keras.models import Sequential\n",
    "from tensorflow.keras.layers import Dense\n",
    "from tensorflow.keras.utils import to_categorical\n",
    "\n",
    "num_classes = 10 \n",
    "image_size = 784\n",
    "\n",
    "(training_images, training_labels), (test_images, test_labels) = mnist.load_data()\n",
    "training_data = training_images.reshape(training_images.shape[0], image_size) \n",
    "test_data = test_images.reshape(test_images.shape[0], image_size)\n",
    "\n",
    "training_labels = to_categorical(training_labels, num_classes)\n",
    "test_labels = to_categorical(test_labels, num_classes)\n",
    "\n",
    "model = Sequential()\n",
    "model.add(Dense(units=256, activation='relu', input_shape=(image_size,)))\n",
    "model.add(Dense(units=128, activation='relu'))\n",
    "model.add(Dense(units=64, activation='relu'))\n",
    "model.add(Dense(units=num_classes, activation='softmax'))\n",
    "\n",
    "model.compile(optimizer=\"adam\", loss='categorical_crossentropy', metrics=['accuracy'])\n",
    "model.fit(training_data, training_labels, batch_size=128, epochs=2, verbose=True, validation_split=.1)\n",
    "\n",
    "model.save('save_files/trained-model-filename-keras-only.h5')\n",
    "\n",
    "# If you use Keras via tensorflow can also save in a more generic tensorflow format\n",
    "# That works in all tensorflow implementations, which can give you some nice flexibility\n",
    "# if you're already invested in a language other than Python.\n",
    "# See: https://www.tensorflow.org/guide/keras/save_and_serialize\n",
    "from tensorflow import keras as tf_keras\n",
    "\n",
    "model_2 = tf_keras.models.Sequential()\n",
    "model_2.add(tf_keras.layers.Dense(units=256, activation='relu', input_shape=(image_size,)))\n",
    "model_2.add(tf_keras.layers.Dense(units=128, activation='relu'))\n",
    "model_2.add(tf_keras.layers.Dense(units=64, activation='relu'))\n",
    "model_2.add(tf_keras.layers.Dense(units=num_classes, activation='softmax'))\n",
    "\n",
    "model_2.compile(optimizer=\"adam\", loss='categorical_crossentropy', metrics=['accuracy'])\n",
    "model_2.fit(training_data, training_labels, batch_size=128, epochs=2, verbose=True, validation_split=.1)\n",
    "\n",
    "model_2.save('save_files/trained-model-tensorflow-generic', save_format='tf')"
   ]
  },
  {
   "cell_type": "code",
   "execution_count": 2,
   "metadata": {},
   "outputs": [
    {
     "name": "stdout",
     "output_type": "stream",
     "text": [
      "{'layers': [{'class_name': 'Dense',\n",
      "             'config': {'activation': 'relu',\n",
      "                        'activity_regularizer': None,\n",
      "                        'batch_input_shape': (None, 784),\n",
      "                        'bias_constraint': None,\n",
      "                        'bias_initializer': {'class_name': 'Zeros',\n",
      "                                             'config': {}},\n",
      "                        'bias_regularizer': None,\n",
      "                        'dtype': 'float32',\n",
      "                        'kernel_constraint': None,\n",
      "                        'kernel_initializer': {'class_name': 'GlorotUniform',\n",
      "                                               'config': {'seed': None}},\n",
      "                        'kernel_regularizer': None,\n",
      "                        'name': 'dense',\n",
      "                        'trainable': True,\n",
      "                        'units': 256,\n",
      "                        'use_bias': True}},\n",
      "            {'class_name': 'Dense',\n",
      "             'config': {'activation': 'relu',\n",
      "                        'activity_regularizer': None,\n",
      "                        'bias_constraint': None,\n",
      "                        'bias_initializer': {'class_name': 'Zeros',\n",
      "                                             'config': {}},\n",
      "                        'bias_regularizer': None,\n",
      "                        'dtype': 'float32',\n",
      "                        'kernel_constraint': None,\n",
      "                        'kernel_initializer': {'class_name': 'GlorotUniform',\n",
      "                                               'config': {'seed': None}},\n",
      "                        'kernel_regularizer': None,\n",
      "                        'name': 'dense_1',\n",
      "                        'trainable': True,\n",
      "                        'units': 128,\n",
      "                        'use_bias': True}},\n",
      "            {'class_name': 'Dense',\n",
      "             'config': {'activation': 'relu',\n",
      "                        'activity_regularizer': None,\n",
      "                        'bias_constraint': None,\n",
      "                        'bias_initializer': {'class_name': 'Zeros',\n",
      "                                             'config': {}},\n",
      "                        'bias_regularizer': None,\n",
      "                        'dtype': 'float32',\n",
      "                        'kernel_constraint': None,\n",
      "                        'kernel_initializer': {'class_name': 'GlorotUniform',\n",
      "                                               'config': {'seed': None}},\n",
      "                        'kernel_regularizer': None,\n",
      "                        'name': 'dense_2',\n",
      "                        'trainable': True,\n",
      "                        'units': 64,\n",
      "                        'use_bias': True}},\n",
      "            {'class_name': 'Dense',\n",
      "             'config': {'activation': 'softmax',\n",
      "                        'activity_regularizer': None,\n",
      "                        'bias_constraint': None,\n",
      "                        'bias_initializer': {'class_name': 'Zeros',\n",
      "                                             'config': {}},\n",
      "                        'bias_regularizer': None,\n",
      "                        'dtype': 'float32',\n",
      "                        'kernel_constraint': None,\n",
      "                        'kernel_initializer': {'class_name': 'GlorotUniform',\n",
      "                                               'config': {'seed': None}},\n",
      "                        'kernel_regularizer': None,\n",
      "                        'name': 'dense_3',\n",
      "                        'trainable': True,\n",
      "                        'units': 10,\n",
      "                        'use_bias': True}}],\n",
      " 'name': 'sequential'}\n",
      "{\"class_name\": \"Sequential\", \"config\": {\"name\": \"sequential\", \"layers\": [{\"class_name\": \"Dense\", \"config\": {\"name\": \"dense\", \"trainable\": true, \"batch_input_shape\": [null, 784], \"dtype\": \"float32\", \"units\": 256, \"activation\": \"relu\", \"use_bias\": true, \"kernel_initializer\": {\"class_name\": \"GlorotUniform\", \"config\": {\"seed\": null}}, \"bias_initializer\": {\"class_name\": \"Zeros\", \"config\": {}}, \"kernel_regularizer\": null, \"bias_regularizer\": null, \"activity_regularizer\": null, \"kernel_constraint\": null, \"bias_constraint\": null}}, {\"class_name\": \"Dense\", \"config\": {\"name\": \"dense_1\", \"trainable\": true, \"dtype\": \"float32\", \"units\": 128, \"activation\": \"relu\", \"use_bias\": true, \"kernel_initializer\": {\"class_name\": \"GlorotUniform\", \"config\": {\"seed\": null}}, \"bias_initializer\": {\"class_name\": \"Zeros\", \"config\": {}}, \"kernel_regularizer\": null, \"bias_regularizer\": null, \"activity_regularizer\": null, \"kernel_constraint\": null, \"bias_constraint\": null}}, {\"class_name\": \"Dense\", \"config\": {\"name\": \"dense_2\", \"trainable\": true, \"dtype\": \"float32\", \"units\": 64, \"activation\": \"relu\", \"use_bias\": true, \"kernel_initializer\": {\"class_name\": \"GlorotUniform\", \"config\": {\"seed\": null}}, \"bias_initializer\": {\"class_name\": \"Zeros\", \"config\": {}}, \"kernel_regularizer\": null, \"bias_regularizer\": null, \"activity_regularizer\": null, \"kernel_constraint\": null, \"bias_constraint\": null}}, {\"class_name\": \"Dense\", \"config\": {\"name\": \"dense_3\", \"trainable\": true, \"dtype\": \"float32\", \"units\": 10, \"activation\": \"softmax\", \"use_bias\": true, \"kernel_initializer\": {\"class_name\": \"GlorotUniform\", \"config\": {\"seed\": null}}, \"bias_initializer\": {\"class_name\": \"Zeros\", \"config\": {}}, \"kernel_regularizer\": null, \"bias_regularizer\": null, \"activity_regularizer\": null, \"kernel_constraint\": null, \"bias_constraint\": null}}]}, \"keras_version\": \"2.2.4-tf\", \"backend\": \"tensorflow\"}\n"
     ]
    }
   ],
   "source": [
    "from pprint import pprint\n",
    "import pickle\n",
    "import json\n",
    "\n",
    "# You can also save JUST the configuration / network architecture.\n",
    "# This will not persist the results of training — all your learned \n",
    "# parameters will be randomly reinitialized. The config is a plain\n",
    "# old Python dictionary, so it can be saved with something like Pickle \n",
    "# or serialized to JSON. \n",
    "config = model.get_config()\n",
    "pprint(config)\n",
    "pickle.dump(config, open('save_files/pickled-config.p', \"wb\"))\n",
    "\n",
    "# You can use the json module to write the config dict to a json file\n",
    "json.dump(config, open('save_files/json-config.json', 'w')) \n",
    "\n",
    "# You can also get the config AS JSON FORMATTED TEXT from Keras.\n",
    "json_string_config = model.to_json()\n",
    "print(json_string_config)\n",
    "\n",
    "# And write it directly to a file\n",
    "with open('save_files/json-from-keras-config.json', 'w') as json_file:\n",
    "    json_file.write(json_string_config)"
   ]
  },
  {
   "cell_type": "markdown",
   "metadata": {},
   "source": [
    "### Loading Models\n",
    "\n",
    "The result of your training on the GPU is a file. Part of your service deployment is now fetching the latest version of that file and putting it in the right place. Part of your server or application code now has to load the saved model into it's memory and run it. \n",
    "\n",
    "This **does require** a significant degree of integration, specifically your server code now has to be in Python and must depend on Keras. In some cases this is not a problem, in some cases it might require standing up a standalone API server in Python and having your (say) Ruby on Rails webserver make web requests to the Python server, which runs the model and returns the predictions. "
   ]
  },
  {
   "cell_type": "code",
   "execution_count": 3,
   "metadata": {
    "scrolled": false
   },
   "outputs": [
    {
     "name": "stdout",
     "output_type": "stream",
     "text": [
      "[0.29273637280445547, 0.9363]\n",
      "[0.23916887150686233, 0.9377]\n"
     ]
    }
   ],
   "source": [
    "# Loading models from save files is pretty easy. \n",
    "from tensorflow.keras.models import load_model\n",
    "import numpy as np\n",
    "\n",
    "trained_loaded_model = load_model('save_files/trained-model-filename-keras-only')\n",
    "tf_trained_loaded_model = tf_keras.models.load_model('save_files/trained-model-tensorflow-generic')\n",
    "\n",
    "# Loss, Accuracy\n",
    "a = trained_loaded_model.evaluate(test_data, test_labels, verbose=False)\n",
    "print(a)\n",
    "\n",
    "b = tf_trained_loaded_model.evaluate(test_data, test_labels, verbose=False)\n",
    "print(b)"
   ]
  },
  {
   "cell_type": "code",
   "execution_count": 4,
   "metadata": {
    "scrolled": false
   },
   "outputs": [
    {
     "name": "stdout",
     "output_type": "stream",
     "text": [
      "Model: \"sequential\"\n",
      "_________________________________________________________________\n",
      "Layer (type)                 Output Shape              Param #   \n",
      "=================================================================\n",
      "dense (Dense)                (None, 256)               200960    \n",
      "_________________________________________________________________\n",
      "dense_1 (Dense)              (None, 128)               32896     \n",
      "_________________________________________________________________\n",
      "dense_2 (Dense)              (None, 64)                8256      \n",
      "_________________________________________________________________\n",
      "dense_3 (Dense)              (None, 10)                650       \n",
      "=================================================================\n",
      "Total params: 242,762\n",
      "Trainable params: 242,762\n",
      "Non-trainable params: 0\n",
      "_________________________________________________________________\n",
      "Model: \"sequential\"\n",
      "_________________________________________________________________\n",
      "Layer (type)                 Output Shape              Param #   \n",
      "=================================================================\n",
      "dense (Dense)                (None, 256)               200960    \n",
      "_________________________________________________________________\n",
      "dense_1 (Dense)              (None, 128)               32896     \n",
      "_________________________________________________________________\n",
      "dense_2 (Dense)              (None, 64)                8256      \n",
      "_________________________________________________________________\n",
      "dense_3 (Dense)              (None, 10)                650       \n",
      "=================================================================\n",
      "Total params: 242,762\n",
      "Trainable params: 242,762\n",
      "Non-trainable params: 0\n",
      "_________________________________________________________________\n",
      "Model: \"sequential\"\n",
      "_________________________________________________________________\n",
      "Layer (type)                 Output Shape              Param #   \n",
      "=================================================================\n",
      "dense (Dense)                (None, 256)               200960    \n",
      "_________________________________________________________________\n",
      "dense_1 (Dense)              (None, 128)               32896     \n",
      "_________________________________________________________________\n",
      "dense_2 (Dense)              (None, 64)                8256      \n",
      "_________________________________________________________________\n",
      "dense_3 (Dense)              (None, 10)                650       \n",
      "=================================================================\n",
      "Total params: 242,762\n",
      "Trainable params: 242,762\n",
      "Non-trainable params: 0\n",
      "_________________________________________________________________\n",
      "\n",
      " Bad Results (loss, accuracy):  [139.33779013671875, 0.1273]\n"
     ]
    }
   ],
   "source": [
    "# Loading a fresh (untrained) version of the model from configuration files\n",
    "# is straight forward:\n",
    "config_from_pickle = pickle.load(open('save_files/pickled-config.p', \"rb\"))\n",
    "config_from_json = json.load(open('save_files/json-config.json', 'r'))\n",
    "alternate_json_config = json.load(open('save_files/json-from-keras-config.json', 'r'))\n",
    "\n",
    "untrained_model_from_pickle = Sequential.from_config(config_from_pickle)\n",
    "untrained_model_from_json = Sequential.from_config(config_from_json)\n",
    "alt_untrained_from_json = Sequential.from_config(alternate_json_config['config']) # NOTE THIS SUBTLE DIFFERENCE!\n",
    "\n",
    "# Note, if you used Model rather than Sequental to create the model\n",
    "# you should use this instead: Model.from_config(config)\n",
    "\n",
    "# Lets see that these have the same config:\n",
    "# Note that even the names of the layers are the same.\n",
    "untrained_model_from_pickle.summary()\n",
    "untrained_model_from_json.summary()\n",
    "alt_untrained_from_json.summary()\n",
    "\n",
    "# But note, all of these will still be untrained and uncompiled!\n",
    "untrained_model_from_json.compile(optimizer=\"adam\", loss='categorical_crossentropy', metrics=['accuracy'])\n",
    "results = untrained_model_from_json.evaluate(test_data, test_labels, verbose=False)\n",
    "print(\"\\n Bad Results (loss, accuracy): \", results)"
   ]
  },
  {
   "cell_type": "markdown",
   "metadata": {},
   "source": [
    "### Weights Only\n",
    "\n",
    "There are also ways to save and restore the weights of a model separately. For example, you could save the config file exactly once and then save the weights for different versions of the same model over time (e.g. as training goes on), or with different subsets of the training data. This can reduce storage costs at some cost to configuration. See the examples here: https://www.tensorflow.org/guide/keras/save_and_serialize\n",
    "\n",
    "For this to be useful you'll either need code that can recreate a matching architecuture, or a config file. "
   ]
  },
  {
   "cell_type": "code",
   "execution_count": 5,
   "metadata": {},
   "outputs": [
    {
     "name": "stdout",
     "output_type": "stream",
     "text": [
      "10000/10000 [==============================] - 0s 37us/sample - loss: 0.2927 - accuracy: 0.9363\n",
      "[0.29273637280445547, 0.9363]\n",
      "WARNING:tensorflow:Unresolved object in checkpoint: (root).optimizer.iter\n",
      "WARNING:tensorflow:Unresolved object in checkpoint: (root).optimizer.beta_1\n",
      "WARNING:tensorflow:Unresolved object in checkpoint: (root).optimizer.beta_2\n",
      "WARNING:tensorflow:Unresolved object in checkpoint: (root).optimizer.decay\n",
      "WARNING:tensorflow:Unresolved object in checkpoint: (root).optimizer.learning_rate\n",
      "WARNING:tensorflow:A checkpoint was restored (e.g. tf.train.Checkpoint.restore or tf.keras.Model.load_weights) but not all checkpointed values were used. See above for specific issues. Use expect_partial() on the load status object, e.g. tf.train.Checkpoint.restore(...).expect_partial(), to silence these warnings, or use assert_consumed() to make the check explicit. See https://www.tensorflow.org/guide/checkpoint#loading_mechanics for details.\n",
      "10000/10000 [==============================] - 0s 35us/sample - loss: 0.2927 - accuracy: 0.9363\n",
      "[0.29273637280445547, 0.9363]\n"
     ]
    }
   ],
   "source": [
    "# Fetching weights within python\n",
    "weights = trained_loaded_model.get_weights()  # Retrieves the state of the model.\n",
    "untrained_model_from_pickle.set_weights(weights)  # Sets the state of the model.\n",
    "untrained_model_from_pickle.compile(optimizer=\"adam\", loss='categorical_crossentropy', metrics=['accuracy'])\n",
    "print(untrained_model_from_pickle.evaluate(test_data, test_labels))\n",
    "\n",
    "# persisting/restoring weights\n",
    "trained_loaded_model.save_weights('save_files/trained_weights')\n",
    "untrained_model_from_json.load_weights('save_files/trained_weights')\n",
    "untrained_model_from_json.compile(optimizer=\"adam\", loss='categorical_crossentropy', metrics=['accuracy'])\n",
    "print(untrained_model_from_json.evaluate(test_data, test_labels))"
   ]
  },
  {
   "cell_type": "markdown",
   "metadata": {},
   "source": [
    "### Where Should We Load The Model?\n",
    "\n",
    "With the ability to save and restore models (even restoring them to other languages using the Tensorflow format!) the question is... where **SHOULD** we have the model live? While it's not completely exhaustive, one of these three options will cover most use cases:\n",
    "\n",
    "* In the existing webserver that supports the application.\n",
    "* In a standalone webserver that exposes an API for using the model.\n",
    "* In the application itself. \n",
    "\n",
    "All of these options have strengths and weaknesses. Here are some advantages to keeping the model on one of your servers (standalone or an existing server):\n",
    "\n",
    "* You don't have to configure and deploy a new set of servers.\n",
    "* You might consider the trained model to be an important piece of intellectual property, so you wouldn't want to just ship that critical secret to all your customers application.\n",
    "* Your model might be computationally expensive to run and your app might be running on phones or other not-so-powerful computers.\n",
    "* It's much easier for you to collect a lot of metrics about how the code is being used, if it's running fast enough,  what data is being sent to it, and so on. \n",
    "    * But remember to get your customers consent before collecting that data!\n",
    "\n",
    "Some advantages to shipping the model in the application:\n",
    "\n",
    "* You don't have to configure and deploy a new set of servers.\n",
    "* Your customers hardware executes the model, saving you from the cost of computation.\n",
    "* Your customers data can stay on their device, so you use this strategy to protect consumer privacy.\n",
    "    * But you'll likely lose a lot of data if you do in fact respect their privacy. Potential future training data as well as performance metrics.\n",
    "* The application can still work without network connectivity. \n",
    "\n",
    "There are some reasons to consider a standalone API even when the application code is also in Python, for example:\n",
    "\n",
    "* You might not want to pay for beefy webservers when most of the time they won't be using their full power just serving standard HTTPS requests. \n",
    "* It will probably be easier to administer the standalone web service than integrate the model into your existing web app.\n",
    "* You can more easily deploy new versions of the model independently from new versions of the app"
   ]
  },
  {
   "cell_type": "markdown",
   "metadata": {},
   "source": [
    "## Create Checkpoints While Training\n",
    "\n",
    "Your code or computer could crash for any number of reasons at any time. If you've been training for 10 hours and the server running that training goes down but you haven't persisted the results of your training to the hard drive, then you're going to be very sad. Instead of training with `.fit` and `epochs=999999` consider building some custom code that wraps calls to `fit` to ensure that you're periodically saving the model."
   ]
  },
  {
   "cell_type": "code",
   "execution_count": 7,
   "metadata": {},
   "outputs": [
    {
     "name": "stdout",
     "output_type": "stream",
     "text": [
      "Persisting checkpoint:  save_files/descriptive-model-name-e5.h5\n",
      "Persisting checkpoint:  save_files/descriptive-model-name-e10.h5\n",
      "Persisting checkpoint:  save_files/descriptive-model-name-e15.h5\n",
      "Persisting checkpoint:  save_files/descriptive-model-name-e20.h5\n",
      "Persisting checkpoint:  save_files/descriptive-model-name-e25.h5\n",
      "Persisting checkpoint:  save_files/descriptive-model-name-e30.h5\n",
      "Persisting checkpoint:  save_files/descriptive-model-name-e35.h5\n",
      "Persisting checkpoint:  save_files/descriptive-model-name-e40.h5\n",
      "Persisting checkpoint:  save_files/descriptive-model-name-e45.h5\n",
      "Persisting checkpoint:  save_files/descriptive-model-name-e50.h5\n"
     ]
    }
   ],
   "source": [
    "# This is the simplest version of the idea. Again, you may wish to save the configuration\n",
    "# once, and persist only the weights during the training process instead of saving the whole\n",
    "# model every checkpoint.\n",
    "\n",
    "EPOCHS_PER_CHECKPOINT = 5\n",
    "CHECKPOINTS = 10\n",
    "\n",
    "for i in range(CHECKPOINTS):\n",
    "    model.fit(training_data, training_labels, batch_size=128, epochs=EPOCHS_PER_CHECKPOINT, verbose=False, validation_split=.1)\n",
    "    cp_name = f'save_files/descriptive-model-name-e{(i+1)*EPOCHS_PER_CHECKPOINT}.h5'\n",
    "    print(\"Persisting checkpoint: \", cp_name)\n",
    "    model.save(cp_name)"
   ]
  },
  {
   "cell_type": "markdown",
   "metadata": {},
   "source": [
    "### The Checkpoint Callback\n",
    "\n",
    "Keras also has a helpful callback class that can automatically persist the model during the training process based on the results. For example, this callback makes it easy to make a checkpoint of the model every time validation accuracy improves, instead of over a fixed number of epochs. This callback can also be configured to only save the weights, see  the [ModelCheckpoint Documentation](https://keras.io/callbacks/#modelcheckpoint)."
   ]
  },
  {
   "cell_type": "code",
   "execution_count": 8,
   "metadata": {
    "scrolled": false
   },
   "outputs": [
    {
     "name": "stdout",
     "output_type": "stream",
     "text": [
      "WARNING:tensorflow:`period` argument is deprecated. Please use `save_freq` to specify the frequency in number of samples seen.\n",
      "\n",
      "Epoch 00001: val_accuracy improved from -inf to 0.93017, saving model to save_files/model-checkpoint.01-0.36.h5\n",
      "\n",
      "Epoch 00002: val_accuracy improved from 0.93017 to 0.94933, saving model to save_files/model-checkpoint.02-0.22.h5\n",
      "\n",
      "Epoch 00003: val_accuracy improved from 0.94933 to 0.95683, saving model to save_files/model-checkpoint.03-0.19.h5\n",
      "\n",
      "Epoch 00004: val_accuracy improved from 0.95683 to 0.95900, saving model to save_files/model-checkpoint.04-0.16.h5\n",
      "\n",
      "Epoch 00005: val_accuracy improved from 0.95900 to 0.96450, saving model to save_files/model-checkpoint.05-0.15.h5\n",
      "\n",
      "Epoch 00006: val_accuracy improved from 0.96450 to 0.96633, saving model to save_files/model-checkpoint.06-0.15.h5\n",
      "\n",
      "Epoch 00007: val_accuracy did not improve from 0.96633\n",
      "\n",
      "Epoch 00008: val_accuracy improved from 0.96633 to 0.96750, saving model to save_files/model-checkpoint.08-0.15.h5\n",
      "\n",
      "Epoch 00009: val_accuracy did not improve from 0.96750\n",
      "\n",
      "Epoch 00010: val_accuracy improved from 0.96750 to 0.96850, saving model to save_files/model-checkpoint.10-0.15.h5\n",
      "\n",
      "Epoch 00011: val_accuracy did not improve from 0.96850\n",
      "\n",
      "Epoch 00012: val_accuracy improved from 0.96850 to 0.97033, saving model to save_files/model-checkpoint.12-0.14.h5\n",
      "\n",
      "Epoch 00013: val_accuracy did not improve from 0.97033\n",
      "\n",
      "Epoch 00014: val_accuracy improved from 0.97033 to 0.97300, saving model to save_files/model-checkpoint.14-0.14.h5\n",
      "\n",
      "Epoch 00015: val_accuracy did not improve from 0.97300\n",
      "\n",
      "Epoch 00016: val_accuracy did not improve from 0.97300\n",
      "\n",
      "Epoch 00017: val_accuracy improved from 0.97300 to 0.97383, saving model to save_files/model-checkpoint.17-0.15.h5\n",
      "\n",
      "Epoch 00018: val_accuracy improved from 0.97383 to 0.97550, saving model to save_files/model-checkpoint.18-0.12.h5\n",
      "\n",
      "Epoch 00019: val_accuracy did not improve from 0.97550\n",
      "\n",
      "Epoch 00020: val_accuracy improved from 0.97550 to 0.97700, saving model to save_files/model-checkpoint.20-0.12.h5\n",
      "\n",
      "Epoch 00021: val_accuracy improved from 0.97700 to 0.97750, saving model to save_files/model-checkpoint.21-0.11.h5\n",
      "\n",
      "Epoch 00022: val_accuracy did not improve from 0.97750\n",
      "\n",
      "Epoch 00023: val_accuracy did not improve from 0.97750\n",
      "\n",
      "Epoch 00024: val_accuracy did not improve from 0.97750\n",
      "\n",
      "Epoch 00025: val_accuracy did not improve from 0.97750\n",
      "\n",
      "Epoch 00026: val_accuracy improved from 0.97750 to 0.97967, saving model to save_files/model-checkpoint.26-0.10.h5\n",
      "\n",
      "Epoch 00027: val_accuracy improved from 0.97967 to 0.98133, saving model to save_files/model-checkpoint.27-0.11.h5\n",
      "\n",
      "Epoch 00028: val_accuracy did not improve from 0.98133\n",
      "\n",
      "Epoch 00029: val_accuracy did not improve from 0.98133\n",
      "\n",
      "Epoch 00030: val_accuracy did not improve from 0.98133\n"
     ]
    },
    {
     "data": {
      "text/plain": [
       "<tensorflow.python.keras.callbacks.History at 0x13f97da10>"
      ]
     },
     "execution_count": 8,
     "metadata": {},
     "output_type": "execute_result"
    }
   ],
   "source": [
    "from tensorflow.keras.callbacks import ModelCheckpoint\n",
    "\n",
    "filename_format = 'save_files/model-checkpoint.{epoch:02d}-{val_loss:.2f}.h5'\n",
    "\n",
    "model_checkpointer = ModelCheckpoint(\n",
    "    filename_format,\n",
    "    monitor='val_accuracy', \n",
    "    verbose=1, \n",
    "    save_best_only=True,     # If True, the checkpoint will be replaced every time the model improves on val_accuracy.\n",
    "    save_weights_only=False, # If True the saved files will be the weights only, not the whole model.\n",
    "    mode='auto', \n",
    "    period=1 # If larger, the checkpointer will only run every n epochs.\n",
    ")\n",
    "\n",
    "fresh_model = Sequential()\n",
    "fresh_model.add(Dense(units=256, activation='relu', input_shape=(image_size,)))\n",
    "fresh_model.add(Dense(units=128, activation='relu'))\n",
    "fresh_model.add(Dense(units=64, activation='relu'))\n",
    "fresh_model.add(Dense(units=num_classes, activation='softmax'))\n",
    "\n",
    "fresh_model.compile(optimizer=\"adam\", loss='categorical_crossentropy', metrics=['accuracy'])\n",
    "fresh_model.fit(\n",
    "    training_data, \n",
    "    training_labels, \n",
    "    batch_size=128, \n",
    "    epochs=30, \n",
    "    verbose=False, \n",
    "    validation_split=.1,\n",
    "    callbacks=[model_checkpointer]\n",
    ")"
   ]
  },
  {
   "cell_type": "markdown",
   "metadata": {},
   "source": [
    "## Persisting Metrics For Dashboards\n",
    "\n",
    "You should save important success metrics both the training process AND when your model is being used to make predictions in the wild. In addition to the metrics that Keras provides, you might consider adding some timing code or performance tracking code and persist that information as well. Saving this data into a standard database (e.g. some kind of SQL) can make it much easier to share this information with other teams, make it available to other programs, and make it much easier to compare model performance over time. \n",
    "\n",
    "Consider establishing a set of metrics you'll collect early on and add code that persists that data into a database. \n",
    "\n",
    "Also consider creating custom metrics if they make sense for your use case. Examples: \n",
    "\n",
    "* Union over Intersection for segmentation and object localization.\n",
    "* Precision, Recall, F1 score.\n",
    "* ..."
   ]
  },
  {
   "cell_type": "code",
   "execution_count": 9,
   "metadata": {},
   "outputs": [
    {
     "name": "stdout",
     "output_type": "stream",
     "text": [
      "Train on 54000 samples, validate on 6000 samples\n",
      "Epoch 1/5\n",
      "54000/54000 [==============================] - 2s 33us/sample - loss: 0.0291 - accuracy: 0.9922 - recall_m: 0.9917 - precision_m: 0.9926 - f1_m: 0.9922 - val_loss: 0.1268 - val_accuracy: 0.9778 - val_recall_m: 0.9773 - val_precision_m: 0.9788 - val_f1_m: 0.9781\n",
      "Epoch 2/5\n",
      "54000/54000 [==============================] - 1s 23us/sample - loss: 0.0243 - accuracy: 0.9931 - recall_m: 0.9928 - precision_m: 0.9937 - f1_m: 0.9932 - val_loss: 0.1254 - val_accuracy: 0.9767 - val_recall_m: 0.9756 - val_precision_m: 0.9777 - val_f1_m: 0.9767\n",
      "Epoch 3/5\n",
      "54000/54000 [==============================] - 1s 21us/sample - loss: 0.0201 - accuracy: 0.9941 - recall_m: 0.9937 - precision_m: 0.9945 - f1_m: 0.9941 - val_loss: 0.1531 - val_accuracy: 0.9775 - val_recall_m: 0.9770 - val_precision_m: 0.9791 - val_f1_m: 0.9781\n",
      "Epoch 4/5\n",
      "54000/54000 [==============================] - 1s 21us/sample - loss: 0.0282 - accuracy: 0.9936 - recall_m: 0.9931 - precision_m: 0.9941 - f1_m: 0.9936 - val_loss: 0.1460 - val_accuracy: 0.9768 - val_recall_m: 0.9748 - val_precision_m: 0.9789 - val_f1_m: 0.9769\n",
      "Epoch 5/5\n",
      "54000/54000 [==============================] - 1s 22us/sample - loss: 0.0181 - accuracy: 0.9949 - recall_m: 0.9945 - precision_m: 0.9954 - f1_m: 0.9949 - val_loss: 0.1529 - val_accuracy: 0.9773 - val_recall_m: 0.9757 - val_precision_m: 0.9790 - val_f1_m: 0.9773\n"
     ]
    }
   ],
   "source": [
    "from tensorflow.keras import backend as K\n",
    "\n",
    "def recall_m(y_true, y_pred):\n",
    "        true_positives = K.sum(K.round(K.clip(y_true * y_pred, 0, 1)))\n",
    "        possible_positives = K.sum(K.round(K.clip(y_true, 0, 1)))\n",
    "        recall = true_positives / (possible_positives + K.epsilon())\n",
    "        return recall\n",
    "\n",
    "def precision_m(y_true, y_pred):\n",
    "        true_positives = K.sum(K.round(K.clip(y_true * y_pred, 0, 1)))\n",
    "        predicted_positives = K.sum(K.round(K.clip(y_pred, 0, 1)))\n",
    "        precision = true_positives / (predicted_positives + K.epsilon())\n",
    "        return precision\n",
    "\n",
    "def f1_m(y_true, y_pred):\n",
    "    precision = precision_m(y_true, y_pred)\n",
    "    recall = recall_m(y_true, y_pred)\n",
    "    return 2*((precision*recall)/(precision+recall+K.epsilon()))\n",
    "\n",
    "fresh_model.compile(\n",
    "    optimizer=\"adam\", \n",
    "    loss='categorical_crossentropy', \n",
    "    metrics=['accuracy', recall_m, precision_m, f1_m]\n",
    ")\n",
    "\n",
    "history = fresh_model.fit(\n",
    "    training_data, \n",
    "    training_labels, \n",
    "    batch_size=128, \n",
    "    epochs=5, \n",
    "    verbose=True, \n",
    "    validation_split=.1,\n",
    ")"
   ]
  },
  {
   "cell_type": "code",
   "execution_count": 10,
   "metadata": {},
   "outputs": [
    {
     "name": "stdout",
     "output_type": "stream",
     "text": [
      "{'accuracy': [0.99216664, 0.99314815, 0.99407405, 0.9936482, 0.9948518],\n",
      " 'f1_m': [0.99218994, 0.9932336, 0.9940877, 0.99363106, 0.9949228],\n",
      " 'loss': [0.02911178703129257,\n",
      "          0.02431498431325545,\n",
      "          0.02007762794816625,\n",
      "          0.028210866998346452,\n",
      "          0.018093164894014115],\n",
      " 'precision_m': [0.9926425, 0.99369496, 0.9944767, 0.99413884, 0.995368],\n",
      " 'recall_m': [0.9917432, 0.9927772, 0.9937029, 0.993129, 0.9944831],\n",
      " 'val_accuracy': [0.97783333, 0.9766667, 0.9775, 0.97683334, 0.9773333],\n",
      " 'val_f1_m': [0.97808516, 0.97668386, 0.9780868, 0.97685844, 0.9773288],\n",
      " 'val_loss': [0.12683462197775952,\n",
      "              0.12538980335365826,\n",
      "              0.1530539061570307,\n",
      "              0.14601827831566333,\n",
      "              0.1528835011962801],\n",
      " 'val_precision_m': [0.978834, 0.97774476, 0.97914827, 0.97891545, 0.9789691],\n",
      " 'val_recall_m': [0.9773461, 0.9756364, 0.9770374, 0.974829, 0.9757076]}\n"
     ]
    }
   ],
   "source": [
    "# The history object will have entries for every metric you provided in the compile function.\n",
    "pprint(history.history)"
   ]
  },
  {
   "cell_type": "code",
   "execution_count": 11,
   "metadata": {
    "scrolled": true
   },
   "outputs": [
    {
     "name": "stdout",
     "output_type": "stream",
     "text": [
      "[143.9068, 134.3935, 109.62331, 81.13052, 73.33801, 67.08039, 68.3964, 59.369225, 56.911037, 45.053886, 47.75571, 38.94652, 43.34039, 42.606865, 32.626797, 31.139101, 25.408745, 39.87616, 29.443756, 33.258076, 30.139965, 24.05362, 27.596989, 20.259838, 20.786697, 22.721388, 37.352623, 22.442198, 21.050108, 25.81966, 18.68213, 26.213871, 21.418213, 16.088514, 17.188904, 25.06511, 18.961231, 15.641539, 21.627922, 21.592358, 14.574046, 16.620975, 17.258175, 20.750778, 23.002686, 11.33976, 22.314734, 17.733006, 19.123583, 10.391592, 21.413288, 21.949339, 16.263052, 15.397123, 10.776805, 17.12458, 13.154018, 12.101742, 12.477562, 16.201181, 16.814018, 11.686541, 8.361408, 10.635086, 15.326824, 13.652922, 15.419547, 13.634888, 21.099415, 14.477655, 12.618079, 14.613989, 15.21596, 10.284824, 21.112732, 20.645874, 9.030853, 14.310209, 12.579844, 8.967873, 9.72604, 12.964922, 10.813301, 11.74852, 12.108445, 8.041573, 11.749802, 10.626911, 10.75108, 12.007942, 7.0112176, 10.59489, 10.849512, 12.472148, 6.0144205, 14.447098, 10.205573, 6.8253064, 10.680927, 11.005894, 12.851148, 6.1888294, 5.013295, 8.050205, 8.8691025, 9.396049, 11.18334, 9.430287, 15.756502, 9.81279, 9.84411, 9.979698, 6.864827, 8.327879, 8.89622, 10.204285, 10.854053, 10.710102, 11.802589, 12.712081, 8.665091, 17.448284, 11.776149, 7.0028167, 6.320589, 9.363934, 10.975266, 10.564785, 10.961957, 12.680168, 9.450653, 7.168099, 8.285922, 12.473971, 11.018566, 6.4053373, 5.9375105, 9.02988, 10.300234, 6.3887606, 6.4165015, 10.649767, 11.329163, 7.5846243, 9.275785, 12.483982, 11.391696, 9.704126, 7.9129806, 5.10543, 6.002432, 6.0941896, 12.781059, 9.414761, 5.7873564, 3.9722161, 10.248087, 10.257286, 11.617958, 7.0913115, 10.448967, 6.466011, 8.248098, 8.4864025, 10.48173, 5.8675337, 9.562603, 4.8316126, 8.053651, 8.208803, 6.372845, 8.247441, 9.140999, 6.1175327, 4.409458, 5.082806, 7.8144784, 11.162762, 8.228691, 9.187834, 8.340561, 3.0135596, 7.4542394, 9.259014, 10.085207, 9.147991, 8.06951, 6.847739, 12.045534, 8.975095, 13.102047, 12.125547, 3.490301, 7.842368, 5.4787703, 10.697897, 13.505636, 4.414156, 8.656382, 9.415982, 9.865678, 9.37723, 5.652523, 6.230563, 8.106058, 7.8549705, 4.7452707, 8.069, 4.7796316, 9.117952, 7.084281, 4.4927263, 7.4672613, 11.456186, 11.33188, 4.4191494, 15.994561, 6.0860972, 7.3740063, 10.07277, 5.9214373, 8.341948, 5.9281173, 4.733982, 8.639363, 9.309418, 9.963303, 7.719605, 6.6423225, 9.121041, 8.317926, 6.6037655, 5.9447656, 5.916504, 7.7063823, 6.4165354, 6.0619326, 8.41045, 9.017137, 7.91274, 7.164926, 6.040312, 8.085468, 7.032736, 7.901493, 10.703917, 10.919692, 3.6152415, 4.2042885, 5.8551044, 11.73808, 9.285421, 7.464198, 6.9609165, 8.775655, 8.279406, 10.492009, 3.1278074, 5.1494036, 6.6954174, 8.749352, 7.557808, 7.037692, 6.5907173, 2.591061, 9.2863865, 12.992664, 6.1496983, 8.324604, 8.632677, 4.1887016, 8.417639, 4.1306753, 5.2285247, 12.864021, 5.4104757, 3.3831334, 5.1130323, 4.096096, 5.529479, 10.029133, 5.273532, 5.427017, 3.8275137, 7.9491773, 8.274577, 7.1165314, 4.2295704, 7.230909, 9.828525, 9.502541, 6.8137603, 7.8802147, 7.1978626, 4.766782, 7.671319, 8.148903, 6.407423, 8.032394, 4.2274523, 2.8753233, 5.9010515, 4.395094, 9.832554, 9.237424, 5.420562, 6.924928, 7.4419727, 4.3206263, 5.332938, 5.7558556, 14.061637, 5.9881306, 6.2950754, 2.536532, 5.934635, 6.346921, 11.640582, 3.9206078, 8.6818695, 9.996992, 3.0835185, 7.8117037, 9.268142, 6.0286617, 5.0540667, 4.9489164, 6.8005786, 5.462922, 4.4185963, 6.2833195, 8.059179, 3.2976015, 6.180238, 8.664599, 7.0208883, 4.8693542, 8.154691, 7.640362, 7.701547, 8.970323, 5.274637, 9.319559, 5.399575, 8.598554, 7.955241, 2.8301644, 6.863376, 7.1040015, 6.323831, 8.856804, 4.826774, 5.680178, 4.4226713, 6.525003, 4.1531897, 6.6649184, 7.0739436, 4.3758073, 6.3980556, 6.3871145, 8.480761, 4.0910077, 8.142785, 7.0633116, 5.532007, 7.902431, 3.1674304, 4.7374096, 3.87843, 4.8867145, 7.217232, 5.243115, 4.8031797, 6.1125207, 5.1253104, 2.4642756, 9.848401, 4.704935, 7.645687, 3.6638231, 5.232557, 4.7068634, 8.020005, 6.6676173, 5.04933, 5.3528156, 5.7463584, 3.6871479, 8.252775, 4.911252, 10.840695, 8.085367, 7.941824, 4.6132326, 6.607923, 9.878943, 6.463868, 7.911769, 3.8468394, 9.34643, 8.462414, 7.912685, 6.0844383, 6.790807, 7.6939383, 4.341948, 7.118271, 7.1405497, 8.160306, 10.610516, 6.341917, 5.9638195, 10.806511, 4.497347, 5.9699917, 2.8992462, 7.0546217, 4.642535, 8.413674, 4.8524656, 7.0005527, 5.3438797, 4.7083635, 9.481827, 7.125084, 4.38543, 7.3765626, 10.590051, 7.0382032, 8.919239, 3.635175, 7.3695197, 4.9600687, 8.673184, 7.0027437, 6.3536615, 4.72036, 5.1998396, 10.121008, 9.019044, 8.038826, 4.8231297, 8.97082, 7.4975553, 5.0417824, 4.6033173, 6.016032, 8.682395, 9.29656, 7.424341, 8.443581, 4.450971, 4.701687, 6.4759192, 7.383834, 5.9429054, 3.8844914, 5.209612, 5.8299565, 5.995309, 7.318694, 3.0612519, 8.170592, 8.734034, 6.2915893, 5.1303444, 4.700457, 10.030263, 9.991196, 11.954758, 4.7032366, 4.993449, 3.705171, 5.3935223, 5.848324, 2.4830294, 3.077063, 5.983941, 4.555583, 6.0210176, 5.7053676, 8.590485, 2.9590254, 3.040896, 3.9487336, 6.090375, 5.9871125, 3.345433, 5.3848987, 6.0770693, 4.9109764, 6.1808653, 5.020029, 4.571393, 4.778546, 6.4889965, 6.2143903, 5.011668, 9.180014, 4.185126, 3.8325572, 3.942904, 6.252346, 6.3620005, 6.802366, 4.155366, 3.8246417, 6.4571276, 1.6962287, 6.4842224, 6.8827763, 6.373845, 4.5685816, 4.4235554, 5.0247345, 5.8357034, 3.6315138, 7.4114265, 4.9436016, 4.5852118, 7.3730965, 6.1785717, 5.9318795, 5.440689, 3.7481859, 6.3366995, 3.3119798, 3.5680256, 8.56925, 5.278541, 4.2075553, 8.892275, 6.1073093, 8.360493, 4.2676067, 6.4116807, 5.581929, 7.2837663, 3.637999, 5.9868183, 6.269432, 8.898598, 7.138071, 11.576101, 2.7492704, 2.382733, 2.23335, 5.868492, 3.7819018, 5.3983054, 3.6367888, 4.354807, 6.7705584, 4.1716447, 5.1007347, 0.7141645, 4.615962, 3.296739, 6.476308, 11.448921, 5.998079, 3.7778378, 3.6526372, 6.5207477, 2.3676517, 4.2160215, 5.3231993, 7.42094, 5.979437, 8.38166, 9.782718, 9.667837, 3.3975728, 6.267827, 5.212114, 6.048726, 3.4865308, 6.9669576, 5.3648577, 3.940768, 11.8747425, 6.5752954, 5.2511063, 4.008849, 5.076535, 5.5309443, 7.2895026, 9.16493, 5.5106435, 5.2942386, 6.205658, 3.629096, 4.409972, 5.6614146, 8.797316, 6.4564867, 4.429034, 5.3071103, 5.682388, 4.9510584, 5.3555794, 5.5443997, 4.815049, 4.8179846, 5.794888, 5.078745, 4.281305, 5.02501, 6.691102, 4.0412426, 6.6671505, 6.504181, 7.5462093, 4.876475, 4.9799423, 2.7102528, 4.7938943, 5.7090034, 9.948164, 5.6369333, 6.6364965, 5.532442, 7.003398, 6.818104, 3.9118676, 3.2496738, 4.04154, 2.9753594, 5.2309217, 4.6924067, 2.617342, 4.5584407, 8.024603, 4.8518496, 3.3684466, 5.723871, 3.6801643, 7.1513057, 8.878151, 5.397437, 11.678033, 5.114234, 5.8642426, 2.7884219, 1.6288025, 5.099462, 6.5901566, 4.9960136, 7.178131, 9.37334, 4.950035, 4.24955, 8.30116, 8.9087105, 3.9424477, 7.395049, 8.701495, 6.654461, 4.4010644, 4.2994003, 5.1945477, 5.661151, 8.677698, 2.6650715, 4.402193, 9.883522, 10.39526, 3.985715, 3.879844, 2.6899452, 7.0224004, 7.24092, 4.798547, 7.3099313, 4.18161, 5.40907, 12.589778, 4.798714, 3.624597, 5.2290287, 7.689201, 4.2549124, 6.5214405, 12.031506, 2.4664538, 3.500522, 4.172666, 4.992785, 6.427496, 4.134953, 4.418649, 5.505851, 4.6310973, 8.631348, 5.033499, 3.1443405, 3.663959, 6.1720695, 2.1237066, 5.613973, 1.814557, 4.2741637, 7.4921355, 5.0720463, 2.2353194, 5.680387, 5.9655833, 7.949367, 8.0571165, 7.5701933, 2.8580842, 3.819227, 1.4247167, 3.1309671, 4.902537, 5.761774, 2.9625418, 6.7826643, 5.356242, 5.4498477, 10.11176, 4.556377, 3.879848, 7.811706, 8.908354, 7.9188747, 6.761396, 7.166057, 2.9268475, 5.3152037, 5.112131, 4.047366, 7.5350785, 5.962822, 7.999461, 4.137272, 4.3996162, 6.0781045, 5.3456497, 3.3950608, 5.5457845, 6.6363134, 2.3813884, 5.3222313, 6.421916, 5.256855, 6.397057, 3.0334158, 4.246852, 7.2151885, 4.2394967, 4.852521, 5.6646557, 5.1041994, 4.4221706, 3.5697336, 4.023365, 4.773209, 6.763234, 5.76315, 2.7193668, 6.513261, 5.873686, 4.541172, 6.291488, 6.6647434, 4.8672776, 4.6435, 5.1050377, 4.668707, 2.8435633, 7.359531, 9.358505, 2.2375333, 5.2021556, 4.7625833, 3.745517, 6.257388, 2.1683388, 6.2869263, 2.5254397, 4.6746297, 2.2210073, 7.7986035, 1.554393, 2.7796655, 3.1578758, 7.3694086, 4.7508554, 4.1236506, 5.34869, 4.5403495, 6.5115604, 3.4036827, 3.004752, 3.4174895, 4.55522, 10.610616, 4.5556936, 4.5750475, 7.091955, 9.028733, 2.4998236, 7.413268, 3.9112847, 3.9059758, 4.4247775, 2.6244612, 3.2451534, 4.519264, 6.988446, 2.993475, 5.354097, 7.9698143, 7.468906, 4.680873, 4.5486593, 3.2566361, 4.9474773, 3.837381, 7.5447702, 3.3291051, 7.1520996, 7.5239573, 6.869806, 5.21799, 4.809467, 5.115505, 2.8478858, 7.4864407, 5.989289, 7.318299, 4.170988, 7.116192, 5.132491, 4.0032773, 8.633315, 6.2628355, 6.0844183, 4.813448, 6.186273, 7.6501374, 3.0915568, 5.2153215, 3.3795872, 4.1602087, 4.4146285, 6.2724047, 4.1688704, 2.5377276, 5.521154, 3.784306, 5.4299088, 4.750708, 4.9119596, 7.5330048, 6.9946976, 4.794442, 5.0071135, 4.714928, 6.9500647, 6.9637966, 3.860281, 5.059933, 3.334205, 7.0706024, 3.7664738, 2.9636598, 4.5579443, 4.6742496, 4.9233894, 5.432908, 1.8635223, 6.4194713, 3.4066622, 2.9223218, 9.614693, 3.3222528, 3.558692, 3.854801, 4.430087, 2.1862917, 6.437565, 2.0877888, 5.451645, 3.3954668, 5.10798, 7.3342094, 5.8599133, 6.833377, 5.208993, 5.8795576, 2.4451241, 2.9864256, 5.3632817, 5.9662113, 5.164702, 7.2354302, 2.5556743, 4.1504493, 4.2164493, 5.1584444, 5.2584257, 7.5910845, 5.894391, 2.0147004, 5.7095585, 6.5062847, 6.073115, 5.997038, 3.662044, 2.2107935, 4.898114, 5.8924036, 3.5413828, 0.84056604, 4.1281376, 8.850957, 7.2781982, 4.9131556, 3.7711253, 4.2278132, 5.094935, 3.4561243, 5.151082, 2.8611064, 3.090362, 2.7746205, 5.914357, 3.4012475, 6.268102, 7.6763134, 5.3817916, 2.5282574, 8.205786, 5.7391014, 3.5523078, 2.8795252, 1.3037077, 5.1213093, 8.179331, 3.981157, 9.173059, 6.3922377, 4.661438, 4.1674247, 6.7357225, 3.9504313, 3.99575, 5.6859255, 4.4547834, 4.5513644, 2.4509814, 7.1393538, 5.3271646, 1.7074677, 3.885276, 9.201902, 3.4584007, 8.084904, 5.191313, 7.6618457, 4.4006915, 7.024435, 6.09239, 3.5689466, 1.9299178, 4.4323215, 5.3170485, 4.14909, 1.1269037, 4.692573, 5.7870955, 8.738985, 6.673396, 6.3123755, 5.220232, 6.202381, 4.4071426, 3.3304665, 7.602394, 2.9342864, 6.279873, 5.7408485, 2.7463446, 5.004148, 6.4897056, 3.5954988, 6.9529166, 5.743101, 3.7655158, 6.3365145, 6.2631803, 3.5223372, 2.3993008, 1.9211528, 3.8707457, 4.6625295, 2.0149918, 2.8402524, 6.572088, 2.9724026, 6.4455395, 5.2988853, 3.9614987, 7.098683, 4.876604, 6.878234, 6.5794735, 3.0002291, 4.102235, 4.3532677, 3.5752358, 9.536295, 3.4383025, 4.668837, 3.4580507, 6.0483174, 6.4855595, 1.5592432, 3.4427226, 2.676259, 5.5181036, 4.2931147, 3.5971599, 2.7443666, 3.6961133, 6.880809, 4.046635, 2.2250404, 3.205945, 5.2906704, 9.320695, 4.826659, 5.3698025, 2.3459935, 5.262518, 2.8299503, 2.9705431, 5.034303, 3.8032706, 5.198593, 6.075488, 5.182043, 8.950624, 1.9378406, 5.319623, 6.4678354, 8.605945, 5.616948, 5.7116585, 3.8058338, 3.7149272, 6.4351206, 2.200038, 4.4352674, 1.9099827, 3.172277, 3.8455143, 4.7816105, 3.5992055, 2.7023644, 3.8305078, 3.6152153, 4.796829, 5.6486683, 2.7743454, 4.3432446, 3.4590788, 6.265885, 7.04965, 7.362891, 5.3381805, 4.656315, 1.7975944, 4.899841, 4.8659062, 3.5946589, 4.292653, 5.3950386, 3.1216986, 5.119528, 5.182312, 3.4124322, 8.985613, 1.8660945, 3.3195064, 4.7061634, 4.0357385, 4.871989, 4.451509, 6.417264, 4.1746144, 3.4662046, 2.2790475, 4.9822426, 2.5248992, 6.4916215, 4.1841555, 1.9145067, 2.9209247, 4.416959, 3.6231651, 3.2829223, 4.036396, 5.8264437, 6.391039, 2.9488745, 4.843322, 3.3023424, 2.7389772, 4.76725, 3.044109, 3.1171808, 3.7945251, 2.6499317, 5.8539, 3.9132361, 1.7065314, 4.2863865, 3.9626818, 4.9678135, 6.659288, 6.114916, 5.3206787, 3.3230133, 3.957014, 4.4983406, 3.9507556, 3.665478, 1.2769259, 4.19202, 3.303228, 2.3173733, 4.632065, 4.0620246, 6.527341, 3.0238247, 7.011365, 7.4315877, 6.603541, 5.916198, 2.6729865, 3.9788747, 1.5644624, 5.0160866, 4.231529, 3.6996717, 3.7075305, 7.8737955, 4.512393, 4.747253, 4.2663383, 8.08337, 1.8589878, 3.3389, 5.09055, 6.418705, 5.5251455, 1.929812, 4.890628, 6.2784567, 3.8552284, 3.6106749, 6.0379972, 4.774414, 3.5439951, 4.7956333, 3.7651541, 5.830654, 3.9427698, 4.9848404, 4.8505597, 5.4839106, 2.1570575, 3.9001763, 6.001669, 7.096027, 5.0213757, 6.0510125, 6.92482, 3.805143, 4.354531, 5.157263, 6.037734, 1.67449, 5.6985283, 5.078864, 2.7479022, 3.95931, 4.8256097, 3.3186235, 5.4948435, 6.9749975, 2.8008747, 6.4293723, 3.109624, 4.677306, 5.936387, 2.631953, 5.33037, 3.5039344, 6.12914, 10.3050785, 7.0409937, 3.0621977, 4.1441727, 4.782274, 6.654963, 8.131157, 3.788263, 4.2091427, 5.9625554, 2.9142897, 3.6972673, 3.5521667, 4.225659, 4.659603, 3.6350522, 6.8748355, 5.0361967, 4.932847, 3.776836, 5.740223, 2.192501, 5.4786205, 4.70079, 3.063458, 4.1019764, 5.1844425, 5.815158, 2.9183676, 2.3900564, 1.2150301, 5.415758, 3.3613627, 6.67456, 6.9642744, 2.935454, 3.0458179, 1.913695, 3.6955063, 7.054083, 7.891863, 5.1261463, 2.2948937, 1.2907411, 2.0074458, 4.3896565, 6.0717688, 4.1308494, 3.0270534, 4.428467, 5.136878, 4.3974752, 3.6429787, 4.2224913, 2.4988518, 4.604283, 2.5763865, 6.2174373, 5.9232635, 1.9359618, 3.0332904, 3.9056635, 5.0674534, 3.094325, 2.3742912, 2.4403043, 5.8187723, 3.6411176, 2.4500566, 4.69706, 6.450844, 2.9381151, 3.4086282, 6.6517076, 2.4016366, 3.7942085, 6.036813, 5.440147, 3.9135165, 2.0911095, 0.94422686, 1.9997152, 7.297142, 3.1669126, 4.7367444, 5.533065, 5.4199567, 6.0151052, 1.3200893, 4.413304, 4.739374, 5.8760686, 8.283188, 3.1253614, 4.446741, 6.6086617, 6.6696835, 4.7617106, 2.9467614, 2.9561098, 1.6766579, 2.5858703, 4.6157827, 2.9029527, 4.334332, 4.584755, 4.855384, 4.7249794, 4.1663504, 2.5496984, 5.4660172, 5.2559323, 3.917594, 5.565445, 4.855844, 5.462283, 3.1160235, 8.171022, 2.0283408, 6.388624, 8.356686, 4.0729637, 3.790107, 4.1554976, 3.226324, 4.727974, 4.1347337, 3.828861, 5.720769, 5.1606255, 4.524884, 6.7412004, 2.6869552, 3.6833737, 6.483245, 5.8364553, 3.4559686, 5.3909407, 5.9122114, 4.264368, 6.303826, 4.9759817, 4.8070087, 5.8954287, 3.6575193, 7.3086524, 9.936203, 4.211965, 5.8278656, 4.1250987, 4.9602404, 3.143806, 2.4319959, 5.569073, 2.9510827, 3.756906, 5.48575, 5.1760263, 4.3973885, 3.2701297, 4.5185137, 4.6795397, 7.098632, 5.9591637, 4.7802896, 3.8372436, 2.8302174, 3.4871755, 3.4301677, 7.0524006, 5.8959894, 4.1195354, 1.8947191, 4.8349476, 3.0138664, 5.4452696, 8.212953, 4.557913, 6.9782944, 2.2974043, 4.0526457, 2.0420532, 4.0363455, 9.644094, 5.7293806, 6.4695826, 4.496849, 6.8926167, 5.8060966, 2.529976, 2.6490736, 5.711667, 4.602915, 2.3467755, 3.8464394, 5.929167, 7.6956215, 4.5510635, 4.3177176, 4.3439217, 3.837113, 1.3882172, 2.2051597, 2.3919506, 3.5940042, 3.7458513, 4.7587547, 2.590963, 3.2446163, 4.248267, 1.1991508, 2.2315125, 2.340323, 2.2610905, 3.0613837, 3.4982052, 6.9771767, 4.4544315, 4.484186, 3.6169677, 2.8297017, 2.4468513, 3.5872846, 1.7181797, 3.4025087, 7.3429523, 3.0006123, 4.4530396, 2.724113, 3.414414, 2.578619, 4.2960835, 3.5997381, 2.072865, 4.234526, 6.714918, 5.8387885, 3.7879376, 8.11846, 4.5636063, 1.867971, 1.9624374, 1.4700782, 3.2391253, 4.333329, 2.8167386, 5.5988436, 3.6758575, 4.761102, 2.947519, 0.6559389, 1.5674366, 5.692426, 4.5204067, 1.0908525, 5.9109077, 10.629614, 3.967706, 2.7601812, 6.479347, 1.2002149, 8.248945, 3.7738228, 3.0351903, 3.6882064, 3.8340547, 4.377926, 2.0312018, 4.332165, 2.6442618, 5.182713, 5.2608194, 1.4711479, 1.837154, 6.028577, 3.0554633, 2.5246608, 5.052034, 3.452982, 2.4420795, 5.8593035, 3.3672986, 4.3304505, 3.97635, 3.8905013, 5.6906767, 8.522657, 3.199273, 3.0735137, 8.113884, 3.481353, 4.6395254, 3.9347346, 2.9808521, 3.0213377, 4.764181, 5.989197, 7.228749, 2.2299843, 4.9558372, 2.8477325, 6.048706, 2.7751179, 2.9229612, 4.4246607, 1.1816128, 4.945533, 7.1173873, 1.7848256, 5.583478, 6.8299985, 5.048512, 1.8898809, 3.5868073, 2.997888, 2.5557828, 5.3539014, 5.139865, 3.4924526, 6.0550756, 6.110904, 4.6112423, 5.6332364, 2.959828, 5.3527207, 8.22967, 4.730653, 9.116556, 3.5572817, 6.952654, 5.0105042, 3.6604805, 3.3930945, 7.594966, 3.2002158, 6.3619184, 2.1948037, 3.0830052, 5.30288, 4.1223555, 5.471742, 4.308015, 2.1157076, 5.695058, 6.373421, 2.3280783, 3.558302, 3.1235616, 3.9196057, 4.168942, 3.3278418, 4.903963, 5.5206275, 4.6207094, 3.588111, 3.895374, 5.9330606, 7.5732455, 2.8237317, 3.7727761, 4.887427, 2.875434, 5.650483, 6.1718707, 3.2263966, 4.6996946, 5.246826, 2.7461503, 1.5392926, 5.109394, 4.379116, 1.069462, 3.71231, 4.1031623, 3.121674, 2.0751271, 3.7792544, 5.5648823, 4.530777, 3.9549265, 4.220384, 5.1974583, 6.0016437, 3.9524572, 5.73755, 5.593856, 4.4042025, 2.8249817, 6.7152886, 3.773515, 3.2983103, 3.1245718, 4.8059545, 4.79041, 2.4784389, 2.130747, 5.518093, 2.424744, 4.429386, 3.5932994, 5.23588, 6.1960754, 2.8657255, 3.2972238, 3.6887937, 7.6052737, 3.8363047, 7.866387, 4.6335278, 3.362216, 4.2453146, 3.5397346, 7.541276, 6.951657, 4.3679376, 5.117456, 1.7021343, 1.4396398, 3.500714, 8.6815605, 3.7933059, 3.8131034, 4.555477, 3.6372712, 2.1454115, 3.7445946, 2.138972, 3.8607178, 2.6148715, 4.2232356, 2.7067714, 5.674084, 3.1938298, 5.522571, 5.0335903, 5.26349, 7.6204333, 2.593512, 1.7449663, 4.1833754, 2.8396714, 2.4611268, 4.184853, 5.758962, 4.465786, 3.7069561, 2.4952953, 5.238478, 5.5212545, 5.4016542, 2.5874815, 8.308414, 4.4251294, 4.4987597, 4.868052, 3.6724167, 3.541375, 6.559208, 2.449081, 8.363931, 2.3916316, 5.891328, 2.8091817, 1.5094688, 2.8461719, 7.994215, 4.1095343, 3.5620055, 3.9578567, 1.6328145, 3.3984766, 3.4710245, 3.0871747, 3.447937, 2.9175804, 3.8451831, 4.611618, 5.551736, 3.1051154, 4.098505, 3.0256739, 3.5097365, 3.308132, 3.926496, 2.2842174, 5.4238167, 3.7706037, 3.0024638, 4.2748218, 4.7018375, 2.3570952, 3.9380007, 2.124483, 6.6484776, 5.0487022, 5.449438, 2.6255653, 4.19999, 4.7669096, 5.5882125, 2.9758337, 8.047309, 6.3062916, 5.2696114, 5.172819, 2.5868134, 4.496704, 4.966236, 5.1048465, 3.444036, 4.444997, 2.824296, 3.8844104, 4.925549, 6.695841, 2.3094573, 4.777768, 3.277412, 1.2515792, 3.814017, 3.0839705, 2.2420447, 6.1314464, 2.347511, 3.9117293, 6.318823, 7.1467533, 5.1398335, 3.6272674, 1.5182393, 1.2375077, 6.4727526, 2.1279554, 1.5348058, 2.8356855, 5.703623, 4.139675, 4.815259, 3.9026093, 4.686527, 5.7025003, 1.9962485, 4.4411163, 5.8825107, 4.286067, 1.0616986, 6.218489, 3.785953, 4.119264, 3.5510192, 3.1265392, 3.563466, 4.399575, 3.3923845, 3.7873724, 8.872223, 3.6774325, 4.606208, 4.3424945, 2.8049636, 5.693863, 2.0508552, 6.3295746, 5.4655685, 4.388583, 4.091895, 1.0691922, 3.8288622, 5.0472894, 2.2426152, 3.0411568, 3.3033197, 3.5268936, 5.78761, 3.0356836, 2.4517689, 3.2848308, 2.1106086, 2.137316, 7.0483694, 2.6244032, 3.0816193, 1.7419018, 4.5486565, 4.142003, 5.8558526, 6.2558126, 5.490681, 3.256742, 5.5602646, 8.289543, 3.6122239, 7.3157387, 4.95566, 5.9409924, 4.470796, 5.0888824, 5.354099, 5.0419836, 3.6131587, 1.9677956, 4.095756, 5.6596193, 6.03703, 3.5322313, 3.7154987, 1.7060782, 3.55847, 5.146503, 3.840168, 2.7802677, 3.3930025, 3.178609, 3.1017072, 5.96039, 3.691913, 5.094571, 3.2558308, 4.119813, 3.7251935, 4.4724503, 4.646316, 7.1288795, 3.6386423, 5.1461473, 4.3665056, 6.994087, 4.8173876, 5.3314214, 4.6776834, 3.3396907, 3.9528403, 3.4730392, 4.600096, 7.012136, 4.8207607, 5.424056, 8.605185, 3.6792202, 6.379283, 3.1563635, 5.4854097, 5.5117397, 7.3358154, 3.2594085, 5.1356373, 1.6124597, 5.137445, 4.8275213, 4.4966316, 5.7254558, 2.5454907, 4.643535, 3.9557283, 3.225003, 2.6364274, 6.715291, 3.6532261, 2.0825553, 4.616206, 6.6347427, 7.932814, 2.8700356, 4.571648, 3.3646576, 2.3438044, 3.0980265, 3.2618253, 4.5596695, 6.2012706, 3.7852578, 3.2394905, 7.69559, 1.8089933, 2.6623726, 6.1461263, 3.300473, 3.6576552, 4.686699, 2.0348196, 1.8744919, 3.142787, 4.120282, 2.761345, 2.2457142, 3.3289094, 5.0741425, 2.6536884, 1.1278015, 3.9752789, 3.5618324, 4.470446, 7.083149, 1.7881368, 4.089009, 3.6325417, 3.8890557, 7.3965154, 3.4306324, 3.5282433, 4.9630013, 4.969145, 3.6787796, 2.904654, 4.8765087, 2.74249, 3.3645768, 3.7513893, 4.8471537, 3.4665015, 3.7419066, 2.685044, 3.018694, 4.0745664, 8.311564, 4.4163036, 4.2310686, 2.8481526, 3.2576072, 4.2848344, 4.6818438, 4.618696, 2.8460727, 4.3310156, 4.074725, 3.2492752, 2.2715046, 2.184473, 1.9819278, 3.7252603, 4.153123, 3.7100766, 1.647762, 1.5342532, 3.4336295, 1.2537763, 2.6130242, 5.1662765, 5.53771, 4.068618, 2.146479, 3.39151, 3.4427593, 2.8660092, 3.3345084, 4.6817336, 5.2249002, 3.1189418, 2.926017, 6.1226406, 5.7142243, 8.580589, 9.432542, 4.23901, 2.948102, 2.2357044, 3.1254673, 4.076227, 0.65231496, 2.2746637, 3.2930598, 3.320159, 2.5837061, 2.3342147, 5.9449434, 3.96987, 4.687665, 3.8835208, 4.712158, 5.077364, 1.9290692, 2.725, 2.6322904, 2.7747653, 2.7268515, 5.220868, 4.178664, 2.793991, 4.175192, 3.7041306, 3.9820611, 1.9278231, 4.5473514, 4.4270806, 5.398104, 2.2195556, 6.932103, 3.0877929, 2.6777232, 5.103153, 4.3388953, 3.5081625, 2.478379, 3.5895028, 2.790719, 3.671745, 2.679183, 3.0669847, 3.570261, 4.7221446, 4.632212, 3.7713485, 4.1417527, 2.1978638, 3.0149, 4.6242642, 2.8207202, 4.115032, 2.8428936, 4.845739, 7.5297155, 5.5205536, 5.423059, 7.5239525, 1.443574, 2.62568, 1.6323156, 2.4706736, 3.8518488, 9.182334, 5.4358954, 4.6507187, 5.059994, 6.144781, 4.8666778, 1.6530637, 2.4428167, 5.7857027, 2.0172892, 5.356409, 3.3214717, 6.5613422, 3.648026, 4.0128484, 3.4248416, 4.2857113, 3.0018559, 2.6893094, 2.104425, 5.7527466, 3.519, 1.2415701, 6.99918, 9.8299675, 4.059345, 1.9477869, 5.7565737, 3.9716754, 4.0181055, 6.3108616, 5.4554315, 4.3750124, 6.837188, 4.804574, 3.8052804, 3.6546342, 1.4815972, 3.0500965, 1.168693, 6.1806536, 3.9156735, 3.0005293, 4.358873, 4.6375732, 5.132246, 5.019456, 3.3989713, 2.2950048, 3.9134636, 5.872691, 3.0627584, 1.9723747, 3.0347576, 3.427303, 2.306316, 3.6016304, 2.6360152, 1.9797533, 3.5062246, 4.4359684, 5.643734, 5.0714765, 1.7554214, 3.7995894, 3.8518262, 3.137702, 2.0469851, 6.7784452, 3.1257052, 3.8711474, 3.5516174, 3.9238572, 6.714205, 3.251188, 3.0363297, 6.164697, 6.011865, 4.898488, 10.050189, 3.9182496, 5.714272, 2.773932, 5.446053, 4.676758, 5.221673, 6.2712946, 2.349537, 3.5212643, 5.2918787, 2.2759242, 3.999925, 2.180986, 2.7216084, 5.710988, 4.2811747, 2.7209811, 7.5397406, 5.5651584, 3.0685945, 3.9715023, 2.9585645, 7.4801245, 5.216488, 5.677207, 6.9328833, 3.370799, 8.138882, 4.73353, 7.2046, 2.7720118, 2.7668066, 2.993866, 3.5389633, 2.5419009, 6.0289497, 1.9235973, 1.8212094, 7.164813, 2.575017, 2.6254528, 1.8378934, 2.2216785, 2.435164, 1.4038601, 3.3893666, 7.166704, 3.8256133, 7.1071634, 5.035695, 2.3122008, 4.3355284, 4.261226, 5.31618, 5.5369735, 3.9170692, 2.6844492, 2.4355602, 3.607277, 2.8653035, 3.1720514, 4.9961643, 5.3722086, 2.0711432, 3.697465, 3.0258732, 3.8209584, 5.507369, 4.970125, 4.339552, 2.6697583, 3.4761057, 4.119132, 4.490323, 5.3350625, 4.759696, 2.4914472, 2.8027325, 5.521006, 3.8595803, 2.67312, 3.6383505, 3.4466152, 6.570385, 1.7253144, 5.133016, 3.7169821, 4.045451, 6.122286, 2.8865242, 3.9626951, 2.8428261, 3.5751576, 5.4761024, 3.492569, 8.058002, 1.7355148, 1.9357696, 6.52685, 4.768409, 4.3961983, 4.7991753, 6.6391306, 3.5161738, 6.0849023, 2.3935313, 1.9065193, 7.046978, 2.482704, 3.4321043, 4.3080544, 4.3461447, 3.7085955, 3.8897948, 4.22087, 2.2234225, 4.1112957, 5.3615184, 6.4420233, 2.4789603, 7.930146, 6.504528, 1.9643159, 2.4668756, 3.721245, 2.5021741, 4.548089, 3.2978625, 3.7405593, 3.0407183, 6.2525206, 4.555358, 3.5764143, 4.399807, 4.5960817, 2.514853, 5.296523, 3.447459, 3.422133, 3.751565, 1.9888775, 4.4588785, 1.3273299, 2.145637, 1.9492697, 2.4533236, 6.510466, 3.475529, 5.348606, 3.7144136, 5.8388276, 2.3823261, 3.7358143, 5.3463364, 4.179183, 4.4826756, 5.0246487, 3.321771, 2.0278175, 1.1820143, 2.4685113, 2.9605126, 4.12646, 5.0516734, 4.9337707, 2.1483564, 4.2196026, 6.2566195, 3.854325, 4.0498376, 2.965087, 5.540109, 6.0666733, 1.623441, 4.058697, 2.5165708, 2.836254, 5.916562, 4.3227053, 6.6159477, 4.0606194, 5.8442326, 6.0488725, 1.3346685, 5.5444145, 2.4318075, 5.1288066, 3.8772357, 2.6388674, 5.233839, 7.1222825, 3.69028, 3.9175735, 5.104064, 4.467232, 3.4978342, 1.0129731, 3.2253966, 2.4710743, 1.792015, 5.6407547, 2.083575, 4.948231, 3.6037724, 2.3669844, 7.3904815, 3.1044123, 3.2184734, 4.2615023, 4.1824117, 3.9281998, 5.982095, 5.361276, 1.3311893, 6.5508885, 5.9466705, 4.5856276, 5.5943975, 0.69125974, 3.018783, 3.6814656, 3.0980039, 3.7905316, 2.5440128, 4.9201784, 3.5678144, 2.2568755, 4.9707727, 2.9196496, 4.146481, 2.3613906, 2.5774431, 5.2376504, 4.9896564, 1.8034751, 3.7479377, 3.357933, 1.6863579, 4.1319046, 4.592006, 3.807795, 4.368543, 6.3920627, 6.632007, 3.6649885, 3.6286645, 4.0660963, 2.9399614, 2.5697908, 4.3830605, 3.5311682, 1.1900179, 1.0265467, 1.4931692, 3.4779348, 4.948244, 4.6883936, 2.1054463, 4.9145336, 2.9787588, 2.5754375, 2.5978355, 4.0537305, 2.9990978, 3.0096164, 4.248828, 5.503733, 6.399353, 6.1035748, 3.8492522, 6.5726805, 2.940667, 7.1152916, 3.5905461, 3.0963423, 2.758232, 2.2980099, 2.8558564, 3.0300465, 2.4959583, 3.6842446, 3.483069, 1.4291581, 5.2376456, 4.2085705, 2.9960003, 3.8375447, 3.6202316, 2.9093826, 2.5570252, 3.5138893, 2.4815564, 2.6366353, 3.741457, 3.989652, 1.4916061, 2.8102725, 3.7572556, 1.4981121, 4.9663672, 7.9222107, 2.981218, 3.2241316, 5.407444, 2.0225308, 5.434987, 5.5226326, 2.050024, 4.766473, 1.8542018, 2.4035497, 2.703931, 4.443943, 6.255521, 2.5009873, 2.7823756, 6.9799485, 3.4485562, 2.4574413, 6.853863, 2.5886302, 3.694119, 5.2698913, 3.3533766, 2.367145, 2.5548081, 3.2250998, 2.8514285, 4.2141337, 2.499179, 4.793717, 6.4041004, 2.0798028, 3.736412, 1.9367883, 1.6889013, 3.981471, 2.5028133, 5.3148084, 4.0689287, 3.3021295, 3.1427531, 3.18231, 5.8064694, 2.9766865, 5.1534104, 5.5512896, 3.1512544, 4.453024, 1.6104317, 3.7195663, 3.4123785, 5.714386, 6.974573, 3.364934, 1.9834563, 4.5260625, 4.321003, 2.6588187, 5.3281794, 2.7697632, 4.1942816, 1.2080545, 5.6003914, 8.0769, 5.2234755, 1.9436566, 6.204317, 5.7846813, 2.791903, 3.5238843, 1.566848, 3.75173, 2.7011957, 3.0382204, 3.9591727, 5.4281187, 3.7021134, 3.5622458, 4.19242, 3.3596816, 2.2308652, 2.2997248, 1.541083, 4.1523466, 3.8396568, 6.4893465, 3.909469, 4.2061934, 1.9032853, 3.110325, 3.341405, 2.4462264, 4.6307936, 4.039854, 4.077716, 3.6981, 3.2430649, 5.218327, 4.0368466, 3.1327162, 2.1888723, 2.2976904, 2.701295, 3.1494403, 7.4071374, 4.3267765, 6.931343, 5.674741, 3.466989, 1.4493359, 3.2369113, 1.3936069, 3.2020895, 0.5765197, 2.5110664, 5.5674105, 3.5694818, 4.294353, 2.3982315, 6.4114895, 3.0797372, 4.6337113, 2.0626683, 5.458082, 6.494509, 3.1898685, 3.1646962, 2.5746932, 3.638339, 2.929513, 3.8752913, 3.6884267, 4.6214776, 4.4703636, 3.836576, 4.41495, 9.948444, 6.9036045, 3.94814, 3.768353, 4.000135, 4.3074493, 2.8353038, 3.0440624, 3.067033, 3.3391454, 2.2922626, 5.367491, 5.7693667, 3.1214182, 1.9500439, 2.1046894, 3.132457, 2.1634393, 5.799115, 4.428919, 3.4525335, 2.9929874, 4.3398447, 1.960977, 4.042966, 5.1009007, 5.3582745, 5.398394, 6.846449, 1.5815579, 3.0976133, 2.7547479, 3.3633919, 2.4594908, 2.5517619, 3.9761586, 5.1026344, 5.1399326, 8.181292, 2.4144738, 5.3265905, 2.1156435, 1.4754902, 5.146617, 5.3301916, 2.9241438, 3.1834881, 3.4522371, 2.9673343, 3.5688977, 4.8047495, 2.382387, 4.681674, 4.297185, 3.0822196, 4.22099, 5.3167896, 3.7490516, 2.2216988, 3.4703646, 2.8423004, 5.6467266, 1.981516, 5.6871324, 6.012793, 2.9325733, 3.7352762, 3.3239236, 2.8892388, 7.7460017, 2.9862566, 2.3191047, 3.1222382, 2.4347968, 4.6149426, 4.3695498, 5.3648353, 7.499506, 1.417367, 2.1442595, 4.647257, 4.534639, 5.0107474, 2.5412514, 4.4459677, 2.3104768, 5.9892163, 3.174153, 4.018906, 2.4999352, 4.0372524, 4.012165, 3.5716496, 4.6660643, 4.12114, 4.784074, 4.0074015, 2.8069978, 2.4901938, 2.8868055, 2.6529403, 1.855926, 4.0401363, 2.5858135, 2.9219296, 6.509039, 6.585509, 4.247968, 2.8789845, 6.3126545, 0.79146135, 3.1277018, 6.7936506, 1.9339776, 4.651991, 2.428576, 5.07523, 5.1112323, 6.2533684, 2.5722442, 4.111314, 3.9335947, 4.795689, 4.2030773, 4.1244283, 2.0940776, 4.291271, 2.1050184, 6.4003034, 3.3325117, 1.2814167, 2.0138376, 3.3239667, 1.9197739, 4.562657, 3.2626395, 1.7388425, 2.3496692, 2.5423348, 5.1307693, 2.6170216, 5.1365705, 3.635305, 6.4202976, 4.904819, 2.778625, 4.893542, 3.8337383, 2.102395, 1.9885799, 2.6718464, 4.956251, 2.9734411, 3.6864147, 4.423255, 3.842101, 2.457014, 2.3026536, 4.285617, 5.0303326, 3.9749236, 3.0860517, 3.4754677, 3.1093998, 0.79016614, 3.2550387, 6.6410503, 4.212028, 3.3092425, 3.8615532, 2.0219305, 3.2232528, 1.8194776, 1.7867752, 2.5712368, 2.5589051, 6.5897694, 4.651552, 4.4969273, 2.312179, 3.3752677, 2.0838442, 4.4530888, 7.749551, 4.7755547, 4.9399776, 5.028172, 3.7499754, 4.877654, 2.4096746, 1.3952115, 3.384523, 2.043776, 2.5943615, 3.9982972, 4.3580475, 3.74298, 5.2395134, 6.616084, 4.8123627, 2.2847776, 6.039401, 13.270237, 4.3424816, 4.3128624, 3.8519154, 2.1576502, 6.916774, 2.312611, 2.5773668, 2.7952564, 3.2508535, 3.590852, 5.9217577, 3.436317, 5.22828, 2.934196, 4.5298524, 1.9659667, 4.3473186, 4.332938, 4.516656, 6.419738, 3.9891229, 2.425668, 2.4865966, 2.6880715, 1.9528432, 2.9101963, 2.509534, 2.746794, 2.660983, 5.264558, 3.5075974, 3.4266098, 1.4920411, 3.9523058, 2.5315895, 4.5427823, 1.15605, 5.7154207, 2.440908, 4.0329723, 6.805015, 10.57754, 3.080051, 4.8070283, 2.277842, 2.7653127, 4.666891, 3.615535, 4.0478873, 2.3884602, 1.8351369, 1.1312009, 4.1341505, 3.890592, 3.7991905, 4.7517586, 4.9679255, 6.9494205, 6.7451444, 3.486022, 3.9256468, 7.0879116, 4.314917, 2.4208891, 1.5673277, 5.756558, 5.8419886, 2.052218, 3.6437101, 3.3533885, 2.0744507, 3.3650608, 4.4146004, 4.525408, 2.566358, 2.9886367, 3.4676383, 2.9385524, 4.854459, 3.1511726, 3.7648108, 2.4548059, 2.8473938, 4.3633595, 3.8554258, 4.7276525, 4.357562, 1.5613648, 1.0836072, 5.0374346, 3.2794523, 5.1594014, 3.2603686, 3.6735497, 2.1603923, 4.5158415, 2.1027336, 2.0473294, 3.859224, 4.5254683, 0.47235084, 3.386139, 2.1717556, 2.0468264, 3.2304907, 3.0500472, 1.632511, 3.4000764, 0.914933, 2.1798766, 3.5761974, 3.162286, 3.540918, 4.8059516, 1.8605577, 4.9572635, 3.5633512, 3.95607, 3.7503347, 2.3583558, 4.5634146, 2.7802129, 1.9841584, 3.304134, 3.4296224, 4.937334, 2.0145729, 2.1522923, 4.549077, 5.6360598, 5.2173033, 7.69806, 4.5076733, 2.861707, 5.0513363, 2.620438, 5.0819983, 6.1623583, 3.1279585, 3.2796803, 2.1606653, 4.999139, 4.1638074, 3.5255098, 0.5907924, 2.680884, 5.2924643, 2.830966, 4.131509, 2.351778, 2.4578762, 7.407336, 3.8029437, 4.36861, 4.0781913, 1.0897126, 1.9826331, 1.2120769, 4.773011, 4.544217, 3.683954, 3.8575912, 2.8730717, 4.341946, 5.6139345, 3.351173, 2.825231, 3.8722024, 3.8247304, 2.9340196, 4.215786, 2.7046983, 4.717, 6.997269, 6.905612, 4.3497953, 2.3291585, 4.6215324, 3.0334344, 4.516021, 3.5036142, 4.519455, 3.5824354, 3.1778045, 1.9339355, 4.314338, 3.415042, 1.8920991, 5.00008, 3.7040486, 2.4614859, 4.9050627, 3.4493966, 3.5683827, 3.5197291, 4.350051, 3.1257172, 4.8356986, 2.8954763, 3.7366128, 2.3281689, 4.0745516, 3.133854, 4.507968, 2.8197494, 1.4708455, 2.238022, 3.3708751, 3.469636, 3.4774537, 4.0070934, 4.780633, 3.4493272, 3.5485802, 2.2476304, 4.3151584, 5.3349385, 4.2568207, 2.487411, 3.5298138, 4.750736, 3.1065018, 5.0402737, 1.895696, 3.1769419, 2.0241559, 3.5950296, 4.212055, 3.5139134, 2.1587381, 5.7699547, 4.5159645, 2.3674366, 4.2862945, 2.1781878, 5.202342, 5.7466316, 7.7690067, 5.1635365, 4.6511803, 3.8765109, 0.8891369, 3.0792482, 3.6567273, 5.041177, 4.692213, 4.34185, 2.8173704, 5.4293623, 5.665634, 5.033553, 3.0809212, 5.4997454, 4.9109945, 3.5333016, 2.3658042, 2.7320242, 2.3520818, 2.504365, 2.8604248, 4.5630426, 2.4583561, 7.9968305, 4.1246634, 1.8876598, 3.094729, 5.2034016, 2.1566665, 3.030334, 2.330925, 3.95966, 3.6190507, 4.798182, 2.864152, 2.2506542, 1.928544, 1.4636333, 3.0654123, 3.2681546, 3.496973, 5.253832, 5.0334835, 1.7862246, 3.6711755, 4.705272, 2.6582108, 2.1269703, 3.7948246, 4.749655, 2.141112, 3.1645062, 8.48918, 3.8777237, 2.7035952, 2.8821697, 1.9125743, 2.6976218, 5.4792223, 5.8696337, 3.592176, 7.7364874, 6.020792, 3.5850961, 3.7584574, 7.376663, 5.1853533, 1.4987595, 2.3057628, 3.6813455, 3.1057332, 3.4207492, 5.106781, 3.2219436, 4.850135, 1.2043235, 4.571665, 2.1614876, 2.745305, 2.6081402, 2.593792, 3.108302, 2.500237, 2.0845218, 1.3678551, 4.788663, 3.4567568, 4.739349, 3.974534, 2.5406015, 3.711659, 4.0900927, 4.576302, 3.9483764, 4.4682584, 2.8739512, 8.022008, 3.0667164, 2.5742884, 4.150431, 4.9865756, 4.54294, 4.2003975, 2.2304597, 4.7114463, 2.4204988, 5.1522264, 2.797241, 3.666228, 2.3784392, 5.794989, 6.5540075, 3.2491243, 1.9908453, 2.7057261, 3.3817062, 6.5238037, 3.1076372, 1.6909776, 3.4242277, 3.1540282, 5.115562, 1.7614417, 2.9969497, 2.3757071, 3.2471926, 3.5909715, 6.8678656, 3.9577703, 6.1276035, 2.9072208, 5.114358, 4.641463, 4.217205, 3.1042795, 1.9795818, 3.3650973, 3.665719, 2.2437077, 6.020466, 4.503158, 3.183877, 3.6615562, 2.8327017, 4.97913, 2.3873725, 2.709021, 1.4582345, 2.2243989, 3.2165818, 5.688504, 2.2682886, 3.3236365, 3.3994784, 1.9183741, 4.29146, 2.8678093, 2.72145, 2.624545, 2.2092662, 5.062352, 6.5291653, 3.5217376, 4.3079767, 4.2109394, 4.1423054, 4.1431465, 1.3830799, 4.8558936, 2.4312189, 4.3993177, 5.5246043, 3.922166, 5.5440974, 3.8115702, 4.0492315, 3.0197728, 5.8054967, 1.9930236, 4.1541023, 5.015812, 3.8302233, 5.62753, 4.4671116, 3.5542781, 3.7985675, 2.9773185, 2.240477, 5.16713, 4.8029366, 2.4737077, 3.6674385, 2.5238328, 4.5129304, 5.662286, 4.0900893, 3.3501306, 8.153056, 6.8751698, 3.58984, 1.9431506, 3.057809, 3.9968948, 3.3957548, 5.9304733, 2.4963021, 4.1378274, 5.44441, 2.7442498, 4.602852, 4.70164, 4.770859, 3.021762, 5.0561156, 1.9660803, 0.81264657, 1.7764409, 2.9888208, 2.7359343, 2.9496477, 4.411956, 4.0792513, 4.803787, 3.2847617, 3.6338348, 4.290699, 4.594521, 3.6996703, 1.9515429, 1.5055761, 4.1707783, 6.252119, 2.3784957, 3.1451077, 1.8839562, 1.7958233, 2.032523, 3.0564601, 2.452929, 4.805993, 2.7566743, 5.6823463, 3.6649609, 2.0052438, 1.1076176, 4.8042216, 5.1699886, 7.860621, 5.3403387, 2.1539485, 5.3672204, 2.2914157, 2.417022, 4.4311666, 5.611371, 2.182426, 4.1187525, 4.701848, 1.5026908, 6.1237464, 2.4837434, 6.860298, 2.7398186, 3.4786222, 1.5118512, 2.8127096, 1.7410592, 3.7394147, 3.223239, 1.6613556, 2.658408, 4.6712904, 3.118496, 4.495529, 5.546688, 2.0491834, 2.0607355, 5.0177603, 7.2588835, 4.359947, 0.51980996, 4.863638, 7.7025237, 1.0249572, 3.7928827, 2.397174, 4.64456, 3.6713805, 3.5343406, 5.0388956, 3.398449, 2.7718563, 4.557967, 4.698209, 1.7325902, 3.0097537, 4.22244, 2.3216033, 0.804348, 3.8447137, 1.4876832, 4.631707, 5.7908916, 4.692535, 2.43559, 0.7022935, 2.2827792, 4.891493, 3.7987807, 3.7204776, 3.518723, 2.1412203, 3.7184374, 3.8583953, 2.158404, 4.4691772, 3.2550175, 1.1087552, 5.1526394, 5.002272, 3.7909493, 3.485375, 5.306916, 3.016429, 1.7791532, 1.5400205, 2.9495592, 5.1649036, 2.2935524, 2.6749372, 1.3809531, 3.549891, 4.168695, 3.714106, 3.1704974, 4.763145, 3.6139755, 2.9542449, 3.166247, 3.4230437, 3.9379106, 1.2226406, 4.6233034, 3.34003, 1.2309382, 1.6001337, 3.4018183, 2.288913, 4.3285356, 4.720697, 5.6329904, 5.592882, 3.70688, 3.9270604, 1.8168333, 3.623654, 2.565196, 2.7503555, 1.8408353, 4.002921, 4.9306383, 3.0768733, 4.186086, 5.2087593, 5.3922157, 1.6830461, 2.3203695, 3.390134, 3.0691128, 5.954439, 2.680346, 2.1244955, 0.9421313, 2.483224, 3.5884814, 4.408293, 3.3432202, 2.7589333, 5.7886868, 4.765539, 4.9661655, 1.2699828, 7.0280275, 2.1990786, 4.511898, 1.9113128, 6.0827665, 5.138468, 3.3008356, 5.8392696, 2.016036, 2.7384596, 1.8640292, 2.4801817, 2.5522332, 3.047236, 3.8109388, 2.1933317, 2.2783632, 4.607072, 2.9795678, 5.1729546, 2.156715, 4.6345572, 2.1367717, 2.2902184, 3.3411493, 2.8468685, 3.324596, 1.8307928, 5.126716, 6.648452, 4.691513, 2.7675004, 3.6370218, 4.9562426, 3.1019073, 1.8363981, 3.8140588, 2.3818676, 3.7691257, 1.4834394, 2.0544066, 2.4043567, 1.5000077, 2.37883, 4.659627, 3.3257678, 1.8858984, 2.9330945, 3.4660397, 4.6338515, 5.1427317, 5.9862757, 6.456087, 4.0794716, 3.8552241, 1.8690859, 2.0724854, 5.745336, 1.7709067, 6.8596334, 8.1581335, 3.1857378, 3.4094238, 3.3688152, 3.1109881, 0.35892242, 1.900102, 2.4109921, 4.8233128, 4.513954, 2.9537106, 3.5074916, 5.4121404, 2.3118534, 2.3089008, 4.5788593, 4.9111805, 2.3537374, 1.6945157, 1.2840216, 2.2891815, 2.8668303, 2.9741635, 5.725484, 3.062523, 4.5255747, 4.3035116, 2.8350513, 5.8000207, 3.9244378, 2.6041088, 2.4071236, 3.1889274, 2.1648157, 1.5563709, 3.1260142, 3.7185192, 1.1136067, 5.7717323, 4.2817206, 3.1430764, 5.0453596, 1.840695, 2.8368602, 5.4433775, 2.9727633, 4.7054315, 7.0197973, 2.1766586, 2.7419124, 2.183774, 2.4199138, 3.3319483, 1.9049115, 2.4297593, 2.7694724, 3.0319672, 2.9203758, 4.290202, 3.0350332, 4.226111, 3.1463375, 3.8902614, 3.3873992, 1.2442955, 2.7302337, 3.6247888, 7.889807, 4.923671, 6.704587, 5.4969535, 8.154211, 6.992527, 2.7654216, 2.7775927, 0.69431496, 4.137578, 3.2489, 3.6194944, 2.1090662, 3.0652053, 3.7860277, 4.0741405, 1.910925, 5.123339, 2.522135, 1.9189208, 2.595589, 2.53757, 3.2866983, 9.486951, 5.7031174, 3.3926826, 6.04424, 7.201417, 1.9540081, 3.6242158, 2.8326406, 4.7218785, 1.7828563, 3.3941255, 1.1326529, 3.9308124, 5.847659, 2.582991, 2.6420503, 3.4304724, 3.3200064, 3.2510567, 2.9940774, 3.6162689, 7.204195, 2.6748955, 6.444559, 2.7130978, 6.028196, 2.7719154, 2.132237, 3.141351, 3.567698, 5.710438, 4.5664687, 5.1837864, 5.227275, 4.111871, 2.9747381, 4.6239157, 7.7457, 7.320371, 3.862394, 2.7614813, 3.7169476, 11.811287, 1.4684818, 3.4961526, 3.964284, 3.803187, 0.5536532, 3.5301657, 4.0634193, 3.1989722, 3.492579, 2.0869412, 4.4763637, 3.3943677, 1.7441769, 3.5140228, 5.250309, 1.9141251, 5.3515506, 5.3366814, 3.8189807, 1.8011599, 2.1484396, 2.400173, 3.5268798, 3.8899283, 3.8496656, 2.2538786, 4.574464, 2.5202365, 2.0411448, 3.0395665, 7.3486786, 2.4871655, 2.8848197, 2.5962753, 5.5354543, 2.8563766, 1.7984977, 3.1814232, 3.203906, 4.6100135, 2.658418, 4.732554, 6.1410832, 6.6634684, 3.8798428, 5.831272, 6.4690013, 5.1615543, 2.0315247, 3.6671953, 1.2279843, 2.5212011, 2.4874716, 2.401586, 3.43342, 3.208664, 4.9449816, 4.906226, 2.733551, 4.2752576, 3.3043835, 4.5285764, 5.702111, 4.1366963, 3.6660233, 1.8023255, 2.8345172, 1.7694297, 4.5873384, 5.724189, 3.3735607, 3.2896185, 4.8957596, 5.282172, 5.5919886, 2.3639915, 1.3515182, 1.1135526, 4.177652, 3.3548782, 1.5035444, 4.954012, 2.6157632, 3.0357776, 5.350203, 5.0703025, 6.204055, 1.5743151, 5.532015, 6.918334, 4.596221, 2.4622216, 4.2790184, 6.2085266, 6.2231197, 5.9390426, 1.1404812, 4.45289, 2.4418695, 3.8757021, 1.4378166, 1.5611804, 4.9463444, 2.4843998, 5.6286335, 4.949071, 3.7201853, 2.830309, 3.973101, 3.7198315, 2.4156175, 3.240125, 6.8380866, 4.054189, 3.0711699, 4.053432, 2.2091646, 3.440009, 2.1746655, 3.1790423, 3.6638844, 3.7060738, 5.1001735, 4.8915367, 3.6086621, 2.7897751, 1.8642616, 2.8466327, 2.7785616, 4.648532, 2.2460976, 4.2571516, 4.460683, 4.0492444, 2.4442687, 3.1052783, 1.9052806, 2.168395, 2.7310658, 5.96212, 3.425095, 4.510313, 3.5035617, 1.9200982, 1.7206675, 3.695448, 5.16031, 3.4658859, 3.5203474, 5.091671, 5.326027, 3.9781075, 2.3394318, 4.19186, 0.9894741, 2.386384, 3.1958134, 3.3681266, 3.7283247, 4.2759337, 3.1779346, 3.6091888, 3.7839131, 3.042059, 3.7823186, 3.556587, 3.530726, 3.4899373, 2.822957, 1.915597, 4.3466578, 2.7918825, 1.755672, 3.0374165, 4.5401335, 1.9446945, 3.8287897, 4.063625, 2.250461, 4.991823, 3.641309, 4.049472, 2.1656692, 3.4128637, 4.997917, 1.2279739, 6.745528, 6.8784685, 3.9629235, 6.848941, 3.4677367, 3.1278543, 2.8300753, 5.4023757, 1.4594336, 1.0876638, 4.063373, 4.108706, 7.3209405, 5.3017473, 2.5273771, 5.6264057, 2.799254, 1.1732259, 0.9623003, 1.7784379, 2.1687412, 2.7966518, 2.197983, 3.6684592, 2.2457755, 2.2194505, 1.7139075, 2.36018, 3.9156232, 6.689946, 4.4508724, 4.619371, 4.9375324, 3.1002264, 3.2015681, 2.7382045, 3.703485, 2.7797437, 2.2736382, 3.7537804, 5.112629, 2.9296203, 3.0737042, 3.5149062, 3.4744852, 3.5228062, 3.4157832, 4.394785, 3.1395087, 5.01089, 8.582215, 3.2878141, 3.2022665, 2.203246, 1.1983875, 2.6082807, 2.0739942, 4.100555, 3.9271674, 5.104088, 3.7256618, 2.97931, 4.431528, 5.8809347, 2.7558303, 3.6938772, 4.2993956, 1.5691853, 0.60635066, 2.0443306, 2.1113143, 2.228351, 4.0251284, 3.9001274, 1.4349304, 7.502179, 2.1992135, 2.9507174, 1.7523215, 2.1733866, 4.030158, 1.3458831, 3.5038092, 1.9526095, 1.8467758, 2.8707602, 1.8519299, 2.1106725, 3.5105963, 2.2141848, 3.9341981, 1.7559366, 2.3820248, 2.83707, 3.864246, 4.5724673, 5.79904, 3.5919616, 3.1841578, 3.5068202, 3.5307636, 2.7389343, 2.7123528, 4.77555, 4.4195776, 4.5464816, 1.8797191, 6.7302756, 6.4303484, 6.94788, 4.2422194, 4.057811, 4.4277906, 3.647141, 2.2522602, 3.6667113, 1.8817611, 0.9971688, 4.986149, 3.8787255, 5.377791, 3.1206024, 1.3777825, 5.1186914, 1.892476, 3.638113, 1.9927883, 3.4658334, 2.4601612, 3.464815, 2.0289752, 3.1725736, 4.3938475, 4.1032686, 7.770097, 2.7270107, 3.906272, 4.345741, 4.9890575, 2.5142584, 3.5515664, 5.220541, 1.8359288, 3.1875243, 1.9959149, 1.9883763, 6.390793, 4.1257915, 4.396141, 5.055408, 7.604438, 3.610288, 2.535555, 5.3830743, 1.1301043, 3.5299866, 2.6183023, 3.970089, 1.3993258, 0.98394173, 2.7201831, 3.1227496, 3.4509315, 4.091282, 3.8411746, 2.9396453, 0.9389663, 6.024574, 3.0585902, 2.2225928, 4.5158496, 3.7431073, 3.3648696, 3.5502057, 3.3656878, 1.6670556, 2.6590595, 2.4839833, 2.9886155, 3.8694758, 8.833771, 2.6626425, 5.0072975, 2.4257927, 2.0594025, 4.145037, 2.3994057, 4.0749636, 1.8593833, 4.3094187, 4.8285675, 4.963744, 5.4029083, 3.1927876, 2.590569, 2.531538, 3.4829369, 3.9720287, 2.7003355, 2.1605597, 5.4061394, 3.1712687, 4.640991, 4.6096773, 3.3119197, 4.841057, 3.690869, 4.306047, 5.2699575, 3.5087419, 3.5455623, 1.3833201, 7.6493855, 3.217835, 4.9933205, 2.070815, 2.6365752, 5.605828, 4.7869864, 3.3188975, 3.3416708, 3.009535, 3.9039655, 2.1531506, 3.005706, 3.8001547, 3.6061456, 4.396951, 2.7875051, 3.2293777, 2.0346832, 4.183021, 0.70686245, 2.6847556, 3.0521822, 2.5725932, 3.086636, 4.1120768, 2.4328861, 4.3549776, 1.6606293, 1.8157389, 4.0599985, 3.8282914, 7.480318, 1.610781, 2.455368, 4.739793, 4.3611307, 4.0252066, 6.9235992, 2.792168, 1.9728047, 6.431362, 3.3087587, 4.8893633, 3.0245914, 3.4852333, 5.0347376, 5.804083, 1.2980609, 1.6737552, 2.9118903, 7.178856, 2.7325866, 5.174785, 5.5674753, 4.7474403, 1.5199647, 2.3655882, 1.8360391, 5.2539525, 4.183653, 5.3008957, 1.5365205, 2.7879415, 6.61046, 4.751543, 4.248016, 3.9448454, 2.4919608, 3.3826582, 5.818511, 3.6871216, 3.3782053, 3.1663141, 2.7727284, 4.0597377, 2.4837325, 7.025017, 4.427471, 1.8256894, 2.6385283, 1.5310442, 1.8376591, 4.7321167, 3.7591043, 2.7344909, 1.9413688, 3.7593966, 4.6375494, 2.7057266, 1.7959331, 0.7021221, 3.281942, 3.1391006, 7.97351, 3.0967913, 3.7979755, 4.6162014, 1.8941133, 3.1180716, 3.9834564, 1.7905141, 2.8499, 4.986167, 4.3650317, 4.3858833, 3.601109, 2.3448858, 2.4821155, 6.5950513, 4.902894, 3.3614006, 2.2168703, 3.1223516, 3.1796348, 3.597254, 4.000638, 2.708313, 2.0464044, 1.7902709, 5.9894905, 3.6698751, 3.4133148, 4.3932858, 3.435749, 4.953531, 4.2204084, 4.444133, 4.4167976, 2.82777, 2.7835588, 2.513269, 2.2491364, 5.5986075, 2.8675838, 2.093279, 4.931855, 7.045014, 3.532556, 3.2437441, 3.3844247, 5.237261, 2.7495172, 3.0544133, 5.784006, 4.4488707, 2.3906884, 1.6341329, 5.015461, 3.660413, 4.5163746, 2.3466353, 2.0052567, 2.9871066, 5.904119, 3.6833172, 4.939064, 4.66336, 4.8850927, 3.158616, 3.0314546, 4.1617146, 3.6120946, 5.0777397, 4.1975794, 3.4154825, 2.3062487, 4.359796, 6.468955, 6.9158974, 4.505848, 0.7297345, 3.1193767, 3.8863754, 2.9862187, 1.3391607, 2.7473264, 1.5432746, 4.1611447, 3.0139334, 2.186595, 2.8226228, 1.3132801, 2.014442, 4.898457, 3.824806, 1.115515, 4.3910494, 5.107641, 3.1175733, 6.971714, 2.1481898, 6.060373, 2.2000086, 4.553781, 3.7651815, 2.2027605, 3.5981798, 3.6881258, 2.1459765, 4.565237, 1.1404293, 2.8688066, 1.8667672, 4.0469613, 4.9384155, 5.2961206, 3.3478582, 5.8200502, 3.9364955, 2.346135, 1.2202234, 0.9802695, 3.8184707, 5.981269, 3.992573, 3.8467116, 5.252283, 3.0868251, 6.8768826, 3.2952547, 0.94757473, 1.8505001, 1.841261, 2.654681, 1.0460484, 1.8124977, 1.9648099, 3.0002646, 3.759057, 4.271027, 1.9890394, 5.1903505, 4.2899804, 2.3459718, 2.4393544, 3.1202183, 2.0994458, 2.7893953, 3.5145938, 1.7661077, 4.010362, 4.71632, 2.0915697, 6.852642, 3.421325, 4.5449877, 3.7381074, 4.692087, 8.92902, 4.0046997, 3.0861168, 5.554288, 1.617544, 2.3585308, 3.857422, 3.042517, 0.6384882, 3.3985465, 1.3780077, 4.5132947, 3.9473693, 0.8303994, 0.9439661, 1.6974955, 3.0899398, 1.783555, 2.6811357, 4.1152267, 2.9905033, 3.0120428, 3.7484112, 1.1983947, 3.4349027, 3.5177238, 3.6194491, 3.165937, 1.876251, 3.0191605, 5.199085, 1.7859625, 4.6153865, 6.71144, 3.8509898, 5.4753604, 4.6323724, 4.1764, 2.2952018, 3.8122697, 3.2465596, 4.416814, 3.146921, 2.5059752, 3.06043, 0.5749324, 2.532762, 4.207149, 2.5397918, 1.2794356, 1.6671312, 1.3280462, 2.0720344, 1.9179975, 5.290509, 3.074314, 1.1847667, 2.4433732, 5.04009, 2.1659598, 2.2541718, 3.5597847, 2.001902, 2.6807985, 4.297025, 7.6818404, 3.0448513, 4.0577416, 2.883439, 1.9247303, 2.779075, 2.3671389, 4.1990986, 14.690035, 3.3999565, 4.365437, 2.1903787, 3.6168637, 2.6824458, 2.7106156, 2.411483, 3.4320495, 2.6462314, 4.276926, 3.1427817, 4.850709, 2.0870686, 4.720775, 3.2667255, 10.313736, 2.9940429, 3.2387066, 2.8498278, 3.038268, 2.006225, 3.170587, 4.908105, 4.401868, 1.2428325, 3.1444507, 4.806415, 2.6657434, 0.6941595, 1.7370572, 4.25032, 2.050251, 3.2409325, 2.8014784, 4.2816005, 1.3966371, 3.86789, 2.2302802, 3.8253913, 3.264306, 5.5980935, 3.1246336, 2.8729725, 2.0632958, 3.756578, 3.753735, 2.6094625, 4.3400965, 4.9969153, 4.5353694, 2.270896, 1.5906775, 3.7428632, 6.5070744, 3.0778985, 3.789649, 3.3048475, 3.2778437, 7.1669893, 5.2082644, 4.7590656, 7.1190176, 3.297651, 1.8171927, 2.4215553, 2.2933583, 2.9836853, 3.0973258, 4.0446935, 1.7936999, 3.309099, 2.8502355, 5.3909235, 5.821458, 7.2352085, 1.8948065, 3.4015148, 4.2089334, 3.1627884, 2.6971161, 3.7214181, 2.4855747, 2.3732462, 2.1903858, 3.1534305, 4.5288105, 3.5767314, 2.004672, 3.2884035, 5.8118377, 3.67785, 3.3103898, 1.4706368, 2.1803112, 0.6249081, 2.5880208, 1.2772043, 3.203504, 4.526053, 2.2438176, 2.4398603, 5.4347215, 3.2435942, 3.7369382, 1.9845685, 5.6003675, 6.8682423, 1.9074271, 3.4121008, 2.9604843, 0.6915877, 2.6953325, 1.8243384, 2.7845201, 0.7112806, 1.4192696, 1.9635482, 3.2825952, 5.301072, 1.3559012, 2.0601342, 3.622293, 3.0655532, 4.103991, 4.7599125, 1.824874, 7.819007, 4.351384, 6.077527, 2.0469394, 3.8985038, 3.7548177, 2.017568, 3.7202835, 7.7018943, 4.146286, 3.0766366, 1.8864412, 3.6091197, 5.8242216, 4.729293, 4.7138186, 4.715019, 1.5233353, 2.8933852, 3.1802382, 2.8113332, 3.467348, 2.1337953, 2.2085462, 2.2610745, 5.619443, 0.93667704, 2.9088175, 5.796409, 3.022742, 2.526791, 1.8037245, 3.781042, 2.4823384, 1.3052608, 2.283746, 2.147566, 3.558456, 6.6628714, 5.456726, 4.8249598, 1.6305656, 4.3211565, 2.010391, 3.8367124, 1.5215085, 2.8891037, 3.0904684, 3.4623837, 1.4628838, 3.7724452, 1.881288, 4.157008, 3.38341, 3.0455751, 4.029608, 2.0421515, 0.86566496, 1.6530104, 3.9903195, 3.4780948, 4.3639116, 4.2931733, 3.7528286, 2.8480866, 2.2965422, 5.4787745, 3.2752712, 3.1337, 3.210495, 4.1562896, 1.2249261, 3.8129735, 4.028044, 5.3468766, 5.69493, 2.719895, 3.4665768, 2.418011, 1.1061115, 3.947484, 3.1899087, 2.5621843, 6.0512476, 5.6016903, 1.475254, 0.6354817, 1.9280796, 4.023733, 3.5350156, 3.961775, 1.6838001, 3.2451622, 3.31709, 2.8668284, 4.9416847, 4.82244, 3.7770343, 5.5768814, 6.343874, 8.080598, 2.7581909, 1.5248091, 1.8977479, 2.9485254, 1.7236674, 1.0431247, 4.0415964, 4.5035057, 1.6616259, 0.8503766, 4.080803, 2.937202, 4.150129, 2.836015, 6.893003, 3.855753, 4.5032835, 3.8822055, 1.8730431, 2.946576, 3.0292299, 1.356791, 2.9745424, 2.404025, 6.2559195, 2.587731, 3.1245842, 3.3942358, 3.8172088, 1.8630621, 3.0519826, 1.2833723, 3.6916819, 6.6793795, 4.3077927, 1.6500857, 1.9975197, 2.4907086, 3.954761, 2.8943594, 2.8697777, 1.8073943, 2.291567, 3.755799, 4.2091746, 6.0640736, 5.251849, 1.7013506, 4.526497, 1.3766478, 4.4244676, 2.066105, 4.7359138, 8.550395, 3.253901, 2.4963663, 0.8438581, 2.5722718, 4.4416647, 4.2505016, 2.4679677, 6.591018, 1.9230807, 3.0447965, 2.8451598, 4.2818656, 2.8628836, 2.4101925, 1.5586715, 0.9103237, 3.3370695, 3.536971, 2.7220156, 3.8488019, 4.0949464, 2.3499475, 2.4079065, 2.608331, 4.578297, 2.014217, 4.5691447, 3.6211822, 3.3675003, 2.7366698, 1.6092777, 2.7736812, 4.748368, 1.5285919, 3.0878305, 3.2254755, 4.3389506, 2.7242064, 4.1806746, 2.3284502, 2.9708567, 3.7531095, 5.7857876, 3.3238413, 3.580472, 3.6801107, 3.095345, 1.569169, 4.2789803, 2.8781219, 3.9561396, 2.4176984, 2.7644815, 3.7558968, 4.0527077, 3.957166, 4.707171, 2.3340926, 4.8854957, 3.935977, 2.4233513, 2.9111962, 2.8651686, 4.1112895, 1.3765887, 2.1112375, 5.262643, 4.728624, 3.181141, 4.5802283, 7.4014626, 4.647605, 2.8095055, 1.0270885, 5.170928, 5.175984, 6.0373163, 3.4548738, 3.9046414, 1.6384828, 1.6850069, 5.18083, 2.5719109, 4.412922, 6.7292843, 3.5832229, 3.6622508, 6.679862, 3.909112, 1.5451975, 2.8882058, 2.794464, 2.0284772, 4.1920166, 5.3833294, 5.471258, 4.460205, 1.6227057, 3.9706635, 4.205078, 3.7865756, 6.2450895, 3.0642967, 1.6934185, 7.3641405, 2.550425, 3.3806717, 3.3481975, 5.078293, 4.167884, 3.6039877, 2.2666354, 2.566596, 4.470192, 2.63976, 1.7878907, 3.0224075, 6.4892488, 1.1594625, 5.0480046, 2.2018504, 5.5166774, 4.435119, 1.1971744, 3.5789282, 4.450432, 6.0170546, 2.18972, 1.6890476, 4.7604837, 3.13315, 5.521693, 1.6295905, 2.5653782, 2.8693056, 1.6633446, 2.7654214, 7.5262117, 5.539263, 3.1446505, 2.2764287, 1.7512286, 3.1254168, 6.6449304, 4.28501, 4.75187, 2.6789894, 2.4681237, 2.953981, 2.5108087, 2.8089728, 1.6284986, 3.127704, 1.8920712, 2.7445865, 2.798246, 3.5160847, 2.7690616, 2.878324, 3.4332933, 1.6452748, 1.390295, 4.500872, 4.292413, 2.2119331, 3.760101, 2.330859, 2.7583947, 2.1265755, 1.6609485, 3.4652648, 4.9521875, 3.7672482, 4.351517, 2.7170577, 2.2130055, 4.315611, 2.55539, 2.8149495, 4.4383802, 5.929539, 2.1531081, 2.9081197, 5.9562597, 4.143425, 2.8243942, 3.4223886, 4.053545, 2.6225471, 1.2719338, 3.6383853, 3.8536887, 1.8075163, 5.4682846, 2.6003833, 1.927937, 2.6937602, 3.515657, 1.5296339, 1.3043607, 4.689893, 3.4989765, 2.6862702, 3.074932, 2.7897773, 2.2539654, 1.4713011, 3.831998, 4.233325, 5.0116177, 4.7055445, 5.9907246, 2.7281504, 2.0547166, 3.440192, 3.1192455, 2.1036592, 3.9708507, 3.6768048, 3.0151904, 3.5573535, 4.0521684, 4.2435493, 4.3705125, 0.46654415, 3.054106, 2.0211844, 3.6490848, 3.9898605, 3.0714417, 4.5425754, 4.39414, 3.4983978, 3.7036407, 4.2420406, 2.6453187, 4.777583, 4.374692, 2.8721309, 1.8032541, 3.882986, 2.4138932, 2.275543, 1.8497615, 3.6629353, 4.11213, 4.5705914, 4.1810393, 7.2369556, 1.8604698, 3.577235, 1.9596738, 5.007942, 2.3343961, 2.3544672, 1.7062182, 1.2582237, 1.8311404, 3.0914197, 4.131181, 2.2500954, 1.2039787, 4.717884, 2.1294367, 1.5175911, 4.2214327, 5.319874, 4.380864, 1.6270032, 2.9557216, 4.508022, 4.0386524, 2.8636725, 4.3750844, 6.6219444, 4.5879436, 5.7070804, 1.7784336, 5.3471947, 7.2976227, 5.49658, 7.3642926, 3.939824, 3.3944464, 2.974275, 3.298609, 1.5814787, 2.264185, 3.6226954, 3.8210063, 2.8419714, 1.7688899, 4.541825, 0.36119524, 2.5052366, 2.5881581, 3.662094, 7.835656, 5.6373563, 1.6341654, 3.7420764, 4.0553937, 4.2086086, 1.3425212, 5.0341234, 0.25205666, 3.1722176, 2.2834895, 4.87192, 0.9279632, 4.685701, 2.768999, 1.7212496, 5.6785526, 4.1606765, 3.4003284, 4.784477, 3.5407481, 5.405838, 1.3085256, 7.533558, 4.636505, 3.2367415, 3.2747638, 2.6179752, 3.986865, 2.5919213, 1.1028742, 2.8819196, 4.304446, 5.16619, 3.8988478, 3.1395278, 4.0294976, 6.1596413, 3.4246345, 3.008329, 1.8673811, 2.2746558, 6.218975, 2.6093245, 2.3391907, 2.910227, 2.4472268, 2.0698235, 1.8571057, 4.721656, 2.5685692, 2.8658388, 3.6244128, 1.9785126, 3.916414, 4.171167, 3.4609623, 3.0706334, 1.7459306, 4.5047426, 4.649561, 1.708458, 3.0541613, 2.0278697, 3.330161, 1.5822386, 4.796796, 4.109889, 2.667461, 4.339856, 3.5994787, 2.121613, 2.2117574, 2.367016, 1.0473423, 0.60381013, 2.5044174, 8.827217, 5.5051003, 4.644847, 1.1557397, 0.9659091, 1.6332542, 3.26117, 4.247757, 5.555643, 2.2280483, 2.6906488, 3.1665428, 1.7508044, 2.2130737, 3.7745104, 3.3613374, 1.961283, 4.464814, 4.4926796, 5.0281596, 2.356966, 1.3139122, 2.466785, 2.6039388, 3.1812987, 5.5572824, 3.807602, 2.7486486, 6.776269, 5.213582, 2.604652, 1.5045842, 1.5969698, 2.6302917, 4.551343, 4.855586, 2.2387772, 2.6098053, 4.206635, 3.026634, 3.3520818, 3.8765402, 1.2222805, 5.1672115, 2.5121434, 4.373704, 5.324552, 7.3568373, 3.9903138, 4.873812, 2.4753668, 1.5148087, 8.477484, 3.115366, 3.1485572, 5.703527, 6.1682997, 5.50006, 1.1253127, 6.280425, 2.7507727, 2.7824883, 3.6551552, 2.0167875, 2.8991737, 1.0857562, 3.6499429, 3.2583961, 1.6283603, 3.4978287, 2.0658514, 2.108707, 2.468054, 3.4210477, 2.5412264, 5.0175943, 4.967708, 2.2050078, 3.2341466, 3.2957807, 3.3422384, 2.7078338, 2.2016327, 2.714943, 1.2299359, 4.646735, 2.6973615, 2.5002604, 4.372487, 2.9087114, 2.7350643, 3.2183852, 3.5413399, 3.349379, 3.383282, 3.9145007, 1.3834572, 4.017731, 2.8287642, 2.5665233, 5.8240967, 2.994689, 2.0942066, 2.7932224, 2.1698027, 1.6374388, 3.0979366, 3.3193479, 3.7366076, 1.0053458, 1.6788318, 2.8618236, 2.9199572, 2.0889502, 5.2539425, 3.6192968, 3.1031177, 4.6318936, 3.4894445, 2.113852, 3.3571687, 2.1216073, 6.749472, 4.3514667, 2.1997123, 3.117739, 2.3961942, 5.021475, 5.988778, 5.4783344, 2.7612116, 3.476495, 2.8029304, 1.7398169, 3.1653776, 2.8335032, 2.613006, 1.756431, 1.5186944, 1.585742, 2.6427429, 3.0773296, 3.4706593, 4.8546724, 5.0168552, 3.858327, 1.7532092, 1.6192139, 1.7562684, 6.1654844, 4.4150815, 3.9872637, 3.5691373, 1.9027538, 3.488419, 4.476512, 3.4787235, 1.9731491, 3.1935956, 1.7686313, 7.198409, 3.668877, 1.7986042, 2.1578634, 1.432372, 2.2403743, 3.3888526, 4.0630903, 3.8741264, 3.259121, 2.8940685, 1.2108306, 4.771014, 5.675246, 1.929547, 5.3071647, 4.398264, 2.7317796, 2.5961006, 4.411296, 2.730015, 3.0512447, 2.3867712, 1.6207521, 1.180469, 2.6475055, 2.3639321, 3.437693, 2.2280138, 3.733458, 3.2189207, 6.075576, 4.1369534, 2.0977414, 3.7253914, 3.983262, 4.574771, 4.3160505, 4.2271786, 8.327593, 2.248467, 2.0777092, 2.021484, 2.7523565, 4.601058, 3.3894339, 5.338185, 0.8116566, 2.6012144, 1.7821536, 1.8244593, 5.2613773, 5.2461433, 2.6632762, 1.0642723, 3.6947155, 2.5673354, 3.4988189, 3.5862823, 4.8375793, 5.3424826, 8.53038, 3.0847857, 2.4597054, 5.7115135, 1.0823404, 3.2246985, 4.021043, 3.66987, 2.0297627, 2.6678972, 5.815441, 2.823203, 1.6509547, 3.2364986, 4.656414, 1.9744788, 3.4076142, 3.0999846, 3.1440053, 2.0316925, 2.0709338, 3.0087056, 2.330935, 2.1824222, 2.4078927, 1.8421744, 4.2167206, 2.1970968, 4.6186094, 2.0816936, 2.8581188, 0.96886986, 2.1740565, 6.033996, 6.756938, 3.6528373, 2.9126577, 2.835849, 3.8916402, 1.8804693, 3.4835007, 2.3335435, 5.256175, 2.7897449, 3.332291, 2.786519, 4.9622207, 2.7135708, 2.6783109, 1.3792192, 2.2838786, 3.6697216, 3.7594535, 3.0416012, 3.0605288, 2.1631472, 3.0520458, 4.035282, 3.3704898, 3.042227, 5.303746, 1.9416927, 2.054461, 1.8593202, 3.2030144, 1.5652237, 5.3075657, 6.4156814, 4.6676574, 2.083411, 2.726043, 2.21247, 2.8523438, 1.8269039, 4.292021, 3.2705777, 2.4183323, 3.4453688, 3.065411, 3.339727, 2.9336436, 4.101706, 4.348771, 6.051862, 2.5646713, 2.1240854, 3.7624722, 5.349642, 2.9901452, 2.1691613, 3.6637518, 2.4497533, 2.2230897, 2.4618099, 1.9578431, 4.086023, 2.2047882, 6.1855435, 2.6556182, 6.0495076, 6.9889755, 3.5821202, 3.0587335, 1.8194809, 5.1260033, 3.213348, 2.666031, 2.1861043, 3.4498453, 2.1499405, 1.416214, 3.8903637, 1.7829355, 1.0062811, 4.1952434, 7.3733845, 1.967429, 2.5531025, 5.590069, 1.7983006, 2.8748991, 2.4237761, 4.728055, 3.1892836, 0.6904123, 2.0873408, 4.1086745, 5.1579814, 3.2299263, 2.3758059, 2.745964, 5.417179, 1.6692322, 3.2527492, 0.8658658, 1.8034348, 5.417344, 3.0542946, 4.9236, 2.72548, 2.1081753, 3.1939254, 2.375421, 4.068697, 4.5158844, 3.5106091, 4.4409194, 5.5017047, 3.2420106, 4.652342, 4.244064, 3.7698364, 1.3430669, 2.8864346, 3.142436, 1.0909895, 1.1950852, 5.4882717, 2.6888938, 5.367154, 4.7654324, 2.9985487, 5.4913073, 2.0449967, 2.1539395, 3.3005157, 4.579796, 0.7562795, 3.9480343, 3.2508388, 2.7950554, 4.827036, 4.691971, 1.4081796, 4.0149264, 4.8956704, 3.9119496, 3.3328626, 4.013754, 3.525834, 4.534062, 3.0007348, 4.378628, 2.330862, 2.1196032, 2.0256045, 3.9512715, 1.5077803, 2.654513, 2.9202783, 3.4899693, 3.7958827, 3.2317605, 2.8184018, 4.5837884, 6.074628, 5.3295307, 4.8554306, 1.0201111, 1.2991168, 2.735176, 2.3197908, 1.3556886, 1.8818086, 3.2137644, 3.0506442, 2.628792, 3.3441408, 3.0943384, 3.185953, 6.5427494, 5.257745, 5.1829042, 3.7251902, 2.3761795, 4.6427193, 5.845996, 1.0405142, 2.7112305, 2.8080423, 2.3406844, 3.477132, 3.812805, 7.804204, 5.948291, 5.592757, 2.8850064, 2.1459913, 4.238374, 3.835905, 4.9536395, 3.1357448, 3.4704707, 3.3375654, 4.7068553, 2.7424133, 4.407093, 3.88758, 5.293712, 3.1968756, 2.9716468, 4.347713, 1.5019689, 4.315511, 2.4412262, 2.2194939, 1.838028, 1.3515894, 2.2921128, 2.9098582, 3.1941996, 4.532269, 4.1053276, 1.0107851, 1.9558811, 3.9347403, 4.8458557, 2.6564233, 3.599955, 3.574849, 0.85765487, 1.8036165, 3.4076867, 2.7165437, 1.4107584, 1.5535314, 3.2199037, 3.6927118, 2.5221884, 2.7577236, 1.2656653, 2.3498516, 2.740449, 0.88265944, 4.3228164, 4.3715916, 1.9215741, 1.5729196, 6.42379, 7.5271297, 4.4287357, 3.9148712, 8.861404, 3.6707535, 2.8418806, 1.6842926, 2.4509234, 1.9369774, 3.9604099, 2.043034, 4.072017, 3.5685873, 4.008816, 1.8192014, 4.7470455, 2.919101, 3.0913334, 1.5156282, 3.8794785, 4.4503775, 3.41015, 5.144186, 2.3268476, 3.0580328, 4.8236685, 2.5742865, 4.9544783, 3.351323, 4.069066, 3.7852802, 4.5943875, 5.569007, 2.2586627, 2.991437, 2.679883, 3.1635437, 3.210442, 1.7354913, 2.078031, 7.735139, 4.7093315, 3.256011, 1.9965558, 3.78773, 2.3746042, 2.1289089, 4.057017, 3.208039, 3.62356, 2.8216786, 2.6014214, 3.1686797, 2.1131637, 1.2287515, 4.2536626, 0.5793836, 2.3467195, 3.197905, 3.262939, 1.2883717, 4.071516, 2.3708158, 5.266135, 1.7192812, 2.5575933, 4.521564, 3.3745885, 1.5776476, 2.404479, 2.204842, 5.4499273, 5.8014135, 4.208955, 6.770401, 5.7310467, 1.9668572, 4.4852734, 1.2923963, 3.5459878, 2.5009286, 1.6079949, 6.0426702, 1.8455251, 2.4567504, 1.3321334, 2.5949678, 1.7279284, 3.594758, 6.1257277, 1.5081545, 3.894309, 5.1959567, 5.1726055, 2.0712068, 2.8921752, 4.5956073, 2.9562912, 4.4759645, 1.8248782, 1.0145702, 1.6907979, 2.3277462, 2.3092194, 5.3364396, 4.170554, 2.9361339, 3.2384205, 3.3153214, 4.427858, 3.9760747, 3.8973734, 3.654534, 6.1622334, 4.289369, 1.8152654, 2.928206, 3.5466464, 1.7565514, 0.7504306, 5.835101, 3.0042436, 3.152424, 2.970426, 2.4022644, 6.394002, 4.8362513, 2.921292, 6.2084794, 4.569088, 3.60172, 4.9444885, 2.0178437, 4.078715, 5.0460186, 2.735269, 2.1892498, 5.638885, 1.8772581, 3.1627288, 2.0653307, 2.0963283, 1.0499667, 3.0174627, 4.5492997, 0.69215, 4.2512097, 0.8200673, 2.278896, 1.0123597, 3.3416004, 11.2314, 3.1302552, 3.4525323, 1.4612842, 3.075312, 2.0575125, 5.544483, 4.767419, 5.383398, 3.1453145, 2.9169257, 4.373228, 4.095333, 1.4842228, 2.8601737, 3.482068, 2.8770776, 1.5774689, 3.1234016, 1.8545771, 1.0184805, 4.9393187, 4.1145597, 4.2081385, 4.7355137, 3.4258661, 4.6220217, 4.4214087, 1.855885, 3.4613981, 3.3868277, 3.7236135, 1.9012579, 1.3898035, 2.1846764, 3.4026194, 0.5726805, 6.5446577, 3.5793762, 3.987133, 5.602601, 6.698637, 4.6793118, 9.001861, 8.111166, 5.7075973, 1.3610955, 5.1709385, 3.439767, 5.566368, 1.7405498, 3.398406, 3.597443, 2.0747359, 1.7678206, 4.8518877, 2.903811, 3.4275732, 1.257135, 2.783102, 1.9296103, 2.8535352, 2.8955207, 2.350984, 1.891569, 2.1298013, 4.466845, 1.6333643, 1.3367307, 3.8841329, 2.381219, 2.6670456, 5.9390664, 4.027231, 4.751791, 2.8163915, 2.4915838, 1.1810334, 1.8460271, 3.509623, 2.0108624, 1.9916877, 3.0408201, 2.7454202, 1.7809254, 2.3463078, 2.3233528, 3.7081704, 1.2931454, 0.84630305, 2.5579906, 2.7560716, 3.4662213, 3.0677214, 6.533105, 4.844473, 3.2983513, 2.5447369, 1.4680028, 3.703197, 2.1379247, 3.6391313, 2.0546937, 1.0519165, 2.6970675, 2.0565128, 7.055541, 3.8734221, 2.122713, 2.0620868, 2.7475543, 4.500606, 5.4574018, 4.80826, 2.4549296, 4.5279503, 1.638936, 1.8019719, 2.4156837, 3.085928, 3.8139992, 1.8493959, 3.013929, 4.6037683, 5.1584206, 2.0327773, 1.0960104, 1.9437538, 3.6697712, 2.6815455, 1.8812288, 2.9431474, 1.6525716, 4.926128, 1.8133602, 3.5998297, 1.9124458, 5.6415644, 7.698678, 2.7728786, 4.7935553, 3.957343, 4.4951673, 2.286439, 2.3662734, 2.050439, 2.5807781, 1.4963176, 1.3145411, 3.3677435, 4.1567936, 3.4414864, 2.2187715, 3.9277294, 2.1053884, 3.4737482, 0.8303216, 3.549831, 2.9843206, 3.4853084, 2.8429258, 4.2768097, 2.1256037, 1.9577339, 1.5702479, 3.5095217, 3.3337305, 2.74805, 1.1867619, 4.250055, 2.2153144, 3.0851116, 2.6326227, 3.4425182, 6.61489, 7.787796, 3.1988106, 2.7656882, 2.6916866, 1.4813647, 3.6143491, 1.283953, 2.6082287, 3.8417115, 1.5239522, 4.2317314, 6.605274, 1.5701941, 7.0138817, 4.951127, 4.297232, 5.227476, 5.0682993, 3.2740717, 2.5028372, 4.1627536, 3.2042453, 2.1234548, 3.4024827, 3.672045, 5.3723993, 4.9760866, 2.8304663, 2.5809922, 3.7731113, 4.5969768, 1.8609804, 0.50851655, 3.1834311, 3.803091, 3.3221095, 3.898848, 2.35667, 4.195156, 2.374016, 2.2825391, 4.1713314, 6.3012, 2.609663, 3.0854073, 5.045601, 4.8845167, 5.852437, 3.627161, 1.2875228, 2.441545, 1.6710093, 4.504409, 3.9727702, 4.249069, 5.2234735, 3.0657692, 2.2306159, 2.8990912, 4.24684, 6.3425837, 2.731813, 3.0437665, 2.7291532, 4.1527805, 3.1084085, 2.4674067, 5.182345, 5.052785, 1.9864326, 3.5847893, 5.22633, 2.1071494, 2.8717442, 3.4957461, 3.572641, 5.724611, 4.659609, 3.1739874, 4.0105877, 1.439813, 3.9681163, 1.9662606, 3.868616, 1.2185647, 2.3220558, 1.6765544, 1.8360916, 2.540907, 2.8512964, 4.6457877, 5.5507555, 2.3996387, 4.497692, 2.291302, 4.5615273, 2.1317291, 4.6528826, 2.685905, 3.092414, 1.5677106, 2.6528378, 5.1512756, 4.8282776, 4.020941, 5.054004, 2.0194702, 5.76867, 3.0081499, 2.940722, 2.43051, 2.273584, 2.622637, 5.552511, 5.761724, 4.4551325, 3.876101, 2.2294524, 2.9477377, 3.7880812, 2.7093887, 2.5473645, 2.174212, 4.948839, 3.5031765, 2.175809, 1.4343538, 4.0182247, 2.8951137, 3.7595263, 1.8543371, 3.4089034, 1.7044849, 1.4656484, 2.8771598, 4.7397947, 4.49854, 3.7476153, 3.6527185, 2.0789888, 4.9337463, 6.577867, 4.600869, 2.854752, 2.807416, 2.0537152, 3.7809973, 5.266012, 3.4748824, 5.414882, 4.556218, 3.448066, 1.674125, 4.7435684, 3.2793944, 2.4791436, 3.1472208, 2.8179564, 3.6862438, 4.3049326, 3.4617605, 4.620268, 3.9309611, 4.1247835, 2.1950321, 2.5505774, 3.0401578, 3.5322096, 2.7305298, 1.8414643, 3.662796, 2.1220608, 2.4502392, 4.244646, 3.349571, 2.5832615, 2.615579, 1.3973508, 5.5072775, 4.3750577, 4.4207478, 2.6040325, 2.3860006, 1.781622, 2.1824362, 4.449233, 1.6799028, 3.3674347, 2.5498548, 8.187641, 3.4564476, 2.6422849, 1.7864172, 6.14396, 3.5861032, 4.0285735, 1.6460452, 2.2952085, 8.2301655, 3.9523742, 6.6778765, 3.187591, 3.7616324, 3.9613981, 5.819619, 3.3670912, 2.3293548, 2.3335457, 5.9764023, 2.2377691, 3.952882, 3.9394703, 3.2908907, 4.338743, 1.849294, 2.5713596, 2.759026, 3.373523, 3.4012697, 6.257985, 2.1627455, 1.2023606, 2.703045, 2.9738479, 4.6592927, 3.8012178, 5.075909, 5.6692877, 2.2476625, 3.2912517, 2.7340994, 4.283258, 5.8525286, 3.9316568, 0.773086, 3.7412438, 7.34921, 1.0307964, 4.0813875, 1.7559178, 5.560713, 3.4148202, 2.4483466, 2.039224, 2.3593493, 2.6850944, 3.3371162, 3.4968476, 5.774934, 2.2495306, 2.6219034, 2.024325, 3.0609508, 3.1046758, 1.7259258, 4.535413, 4.9121227, 2.368353, 6.5862865, 1.5353699, 3.3037539, 4.9802475, 3.2742972, 2.7139459, 1.8134229, 4.1946316, 4.4415646, 5.562024, 5.484937, 2.7045116, 1.4853432, 1.2822884, 3.187406, 5.1422224, 2.4063005, 4.0171976, 0.38150138, 5.8307896, 0.7238578, 1.9457755, 2.648532, 3.1089177, 5.3105044, 3.0446491, 2.926937, 2.684151, 4.8306627, 2.4933982, 3.7377899, 6.245171, 4.5537667, 2.9388113, 1.4069935, 4.9947577, 3.1134305, 1.5612228, 3.7864883, 1.4554589, 1.6364679, 5.452267, 4.4798527, 0.862669, 3.5213954, 0.6491497, 4.0956697, 1.8666315, 3.0416958, 5.0078044, 3.5227008, 4.9184694, 2.9315367, 3.6554203, 1.9061886, 3.4479966, 4.9361124, 2.3990095, 4.5314765, 3.3612711, 5.5818734, 3.2607498, 1.1303463, 2.6357183, 2.0922277, 3.1336765, 2.9125657, 5.8698645, 5.9467688, 4.222337, 3.1592197, 2.7227588, 2.7868702, 2.1580095, 2.497116, 2.442136, 4.164567, 2.909291, 5.1458793, 2.7536714, 2.6905193, 0.8160181, 1.8070269, 1.909147, 4.415993, 2.529617, 2.3365226, 5.0272408, 1.685422, 2.7960432, 1.8584136, 2.4229903, 3.6084137, 3.2621317, 4.9120264, 3.2667558, 0.83432734, 2.559691, 3.4307985, 0.7825041, 3.1290512, 7.9285154, 3.904571, 6.5062566, 3.590994, 3.3469353, 4.305491, 1.8480914, 3.0145833, 3.6903121, 2.6957943, 3.555444, 3.6435483, 1.9586103, 4.2825336, 3.0087042, 2.924735, 0.57074726, 4.612897, 3.4379513, 3.414228, 4.6834583, 5.5190635, 1.3648449, 2.1638746, 5.603073, 3.5704842, 4.022332, 5.2591677, 3.4731088, 3.070352, 4.3910685, 3.1678305, 3.0828817, 3.0108786, 4.874923, 3.9810276, 3.247383, 0.6602117, 2.2711005, 6.1978793, 2.5134022, 5.422442, 3.352689, 4.039604, 4.2397995, 3.3835175, 2.7531364, 3.2620516, 2.230647, 3.5961573, 1.3072526, 2.2315972, 4.7900934, 3.9390783, 1.8050611, 3.338624, 4.294226, 5.541056, 3.1598701, 3.9377265, 2.949295, 4.905101, 3.2199159, 5.0621185, 2.1301923, 3.5123916, 2.5164638, 4.05443, 1.6036218, 4.8427935, 3.824442, 3.3538105, 1.9647194, 1.8594601, 2.3221216, 1.7289565, 2.6324925, 1.9604759, 1.3423288, 2.140239, 1.5964603, 7.3770247, 4.2325244, 3.2225096, 2.2916243, 3.8678484, 4.1225915, 5.12247, 2.9030125, 5.4382644, 9.487774, 8.202635, 2.1552835, 1.1534796, 3.7948835, 2.6007288, 3.853835, 2.4635577, 2.0090585, 4.763031, 7.8056746, 4.2681103, 4.822167, 4.1225376, 1.8596432, 4.753287, 2.962783, 1.5523504, 0.584854, 3.019127, 3.6368551, 1.654887, 3.4875798, 2.0941854, 3.051362, 5.0342884, 3.6492853, 2.909485, 4.124447, 2.4481392, 3.3887396, 4.128132, 1.8252673, 1.6756781, 1.8137429, 2.8486035, 4.2030077, 4.6130667, 2.0529513, 0.9175191, 3.5832691, 7.3334394, 7.541373, 6.257675, 3.4116778, 1.0958067, 0.94440866, 4.611275, 3.9230661, 3.4261804, 3.4452558, 5.247506, 2.2189467, 1.0996428, 2.6688461, 0.9580698, 2.8894427, 4.5623455, 2.1703515, 3.5350344, 3.075026, 2.8779225, 1.5197893, 0.9790769, 4.0919824, 5.0623417, 4.1674786, 1.4139755, 2.788383, 5.0426145, 1.8251227, 1.0950903, 1.4377131, 1.8380773, 2.1739602, 3.4678755, 2.9002438, 3.0893593, 5.8372393, 4.366727, 2.684795, 3.1199174, 4.8143406, 2.076922, 2.7586827, 1.5402794, 2.466042, 2.8471673, 3.9682386, 3.6915443, 2.7563353, 4.1768823, 5.0876937, 3.1058512, 4.011072, 3.1469064, 2.3456116, 4.197879, 5.0752053, 2.2229595, 2.027523, 3.0837562, 3.4255807, 4.942439, 2.9782748, 3.807291, 1.9765022, 1.3043258, 1.6714355, 1.2158943, 2.5334623, 2.2897537, 2.6334805, 2.311678, 6.1336694, 8.138625, 6.075264, 1.9353049, 2.22521, 2.7660685, 4.854805, 4.916019, 2.8658133, 2.3920293, 2.2299037, 2.9442515, 4.3311367, 4.090929, 2.4720716, 2.8752704, 6.5370073, 2.8342028, 2.5500817, 3.4457414, 2.798434, 4.0452724, 2.2651143, 2.9715586, 3.3637974, 5.9418116, 3.5952897, 2.0448627, 4.187495, 1.246685, 4.243064, 2.5370052, 3.9653592, 3.1049247, 3.142507, 1.6755017, 3.462332, 2.3595304, 5.4740787, 3.2564578, 5.555531, 3.4127898, 4.588614, 4.1104984, 4.002084, 2.1286228, 3.253366, 2.8949275, 4.850547, 3.4289262, 2.1525354, 2.5877633, 4.3105874, 3.074098, 3.4473836, 3.1124065, 5.1749053, 3.566044, 4.870302, 3.804058, 2.5329988, 4.6331053, 4.341277, 5.2661905, 3.6601965, 3.5284123, 3.0408008, 4.0355277, 1.931133, 2.6365829, 3.3744216, 5.4057035, 3.69735, 3.152288, 4.467405, 3.1744795, 1.3641274, 3.5491083, 2.4240189, 4.6593647, 4.3736787, 1.988605, 2.3206534, 3.440843, 1.8268275, 1.7232413, 1.5943744, 4.483556, 2.1415617, 3.658101, 3.2479875, 3.6410944, 4.6145487, 1.8056463, 4.79619, 2.4295936, 1.5915027, 5.788843, 2.6448472, 1.7792141, 1.9560196, 3.4211855, 3.4489267, 5.085415, 2.4121165, 1.3153024, 1.3502002, 3.4502752, 3.8357008, 3.638588, 3.3147974, 3.3703353, 3.788659, 2.556078, 2.9339643, 4.5847235, 3.0095248, 4.645581, 3.7785342, 1.6565157, 3.6853297, 3.5062351, 3.9799373, 3.9064193, 5.142505, 5.842836, 2.4437058, 1.6586199, 3.8078256, 3.3393302, 3.2604833, 7.377894, 2.0415583, 6.1131654, 3.4227648, 4.0806646, 4.59123, 6.8946695, 5.255459, 4.396754, 2.089807, 4.8728704, 2.1514192, 2.9836493, 3.541706, 1.1200323, 2.2797022, 3.7449064, 2.5857985, 4.9103475, 3.3272448, 3.4729726, 3.9343183, 3.794592, 6.3724937, 4.140746, 5.354293, 2.5565858, 1.3316087, 3.3521686, 2.0290456, 1.5774113, 2.8349876, 2.1358352, 3.2720623, 5.9627237, 3.9722052, 2.2777884, 1.1138937, 4.50054, 3.3353715, 3.1186771, 1.8216001, 2.514425, 1.5691653, 2.5881681, 2.7604432, 3.81292, 3.7306075, 2.783942, 2.67546, 1.8097813, 2.8626113, 3.4858353, 5.1170664, 5.3485913, 3.753597, 1.4076988, 3.053946, 3.8719497, 7.903889, 2.1016345, 5.2670946, 5.2531633, 3.4707432, 1.3283166, 3.9882808, 3.8480444, 4.7308416, 2.121479, 2.7018685, 2.5457945, 3.3423018, 6.651818, 1.9755893, 6.4088984, 2.4443674, 6.434705, 4.101723, 1.8154334, 3.481014, 1.6285248, 2.3337772, 5.013091, 3.723632, 1.2870011, 5.9197927, 4.940419, 2.2873745, 4.1447954, 3.617308, 5.0477486, 4.341029, 1.3818096, 3.7902882, 2.2935226, 4.4712296, 1.8925352, 2.5060837, 1.5611752, 1.613801, 1.606466, 5.0080404, 4.1355267, 2.1826096, 2.7758026, 2.7968569, 2.2342184, 3.1198432, 3.2578127, 2.7300224, 1.7285047, 4.469167, 2.8071563, 2.1969204, 1.5298096, 4.496679, 1.7865921, 3.9269724, 1.6076498, 5.4052515, 2.970379, 3.098962, 2.1340306, 1.515028, 5.3861647, 3.9523413, 4.61802, 3.1379218, 3.012436, 4.119342, 1.4863019, 1.9900506, 3.5089536, 3.4550023, 4.5464077, 4.1967163, 2.9539194, 3.2303336, 3.6654377, 2.0771523, 1.358016, 5.113484, 2.4161026, 1.4172525, 3.2764807, 3.1544514, 4.91235, 5.0499463, 3.595902, 3.6606636, 2.014721, 1.5241922, 2.6134791, 2.9294899, 1.3988898, 2.3597734, 1.5223652, 1.8374579, 2.7922316, 3.5893116, 3.227505, 0.9566835, 6.8590007, 4.76428, 5.5995827, 5.3275337, 4.4907365, 1.1182045, 3.396422, 1.6554033, 3.0480418, 2.102149, 1.2688897, 3.5217028, 2.5045085, 2.894548, 2.7788801, 4.0009866, 4.844256, 1.6945989, 0.6008576, 3.4036465, 5.7552824, 7.4084244, 2.3478432, 3.8362837, 4.2223415, 1.1666621, 1.4092453, 2.573169, 3.4277492, 2.9932857, 4.511215, 6.9418516, 4.2266264, 4.282297, 1.7441113, 3.2386353, 1.8108017, 3.9303377, 4.077355, 2.1775913, 3.4213846, 4.134787, 3.003397, 4.8811283, 3.620466, 2.2828612, 2.9843764, 2.205365, 4.735627, 3.4930763, 3.2046642, 3.3761168, 4.9084215, 2.5924907, 3.6157212, 4.4142513, 2.2513175, 3.865004, 2.2322624, 2.5002065, 2.4328718, 1.8171759, 0.78725183, 4.1818204, 4.235759, 3.7205637, 5.308283, 5.0384026, 3.1186757, 2.4370086, 5.992795, 6.4826393, 6.014902, 4.1688375, 1.7855644, 5.421558, 7.7555213, 2.534061, 0.99543023, 3.3525157, 1.99294, 2.5695376, 3.9067187, 1.9707143, 2.2209985, 1.9698749, 2.0779514, 2.4722514, 2.5876327, 2.9177508, 5.3982325, 1.6046003, 2.8796406, 1.6575557, 1.9477917, 5.4454355, 0.54342693, 1.3517765, 1.7758033, 2.0253558, 3.055852, 4.760607, 3.888136, 4.815804, 1.9093938, 4.0630283, 2.5189776, 5.40324, 3.7565174, 5.3789797, 2.3281136, 1.8069631, 4.1391506, 3.0625396, 2.3686128, 2.7433622, 1.5196407, 2.6378574, 1.2679676, 5.2937436, 6.969309, 4.1019173, 1.2047853, 2.2648299, 2.8608487, 3.2455907, 3.8506343, 2.25227, 3.4373307, 5.2240906, 1.6181576, 2.5227773, 3.3055768, 3.11915, 2.553876, 1.6483951, 2.8980384, 4.3531256, 1.7676969, 4.202634, 4.545928, 2.3941126, 5.8370857, 3.8975, 4.6898837, 3.6203742, 3.1678197, 1.6556969, 2.936772, 1.6515994, 2.9915264, 3.4019494, 4.0000963, 2.1565375, 4.351165, 2.9521446, 5.389019, 2.7123523, 1.917268, 2.0274386, 1.3611357, 2.4002013, 1.5166239, 2.7310998, 3.150982, 6.3634295, 4.936967, 1.1174176, 3.148213, 2.0268166, 2.6866484, 5.304096, 4.9376793, 4.0219893, 1.3878386, 3.6524312, 1.4486439, 2.7786903, 3.78312, 2.1317873, 1.3789723, 2.5905252, 4.2447762, 5.735432, 1.5785989, 3.463062, 2.3389065, 2.0348022, 3.42729, 4.675399, 7.0836196, 4.20056, 4.994277, 1.8429314, 5.901254, 3.0923638, 7.410842, 6.3860946, 1.9275913, 5.784759, 3.1129763, 1.2332604, 5.3084955, 2.5850737, 2.8580713, 2.3862202, 4.735998, 1.2303939, 3.5234456, 1.8436372, 1.6378976, 2.3018422, 2.583646, 3.2184114, 3.2619495, 4.0079765, 1.9883119, 1.0326061, 4.624326, 2.8156521, 2.319973, 2.457892, 2.9261239, 3.1525712, 2.106594, 3.356952, 0.35783148, 1.0720625, 2.0482457, 3.179027, 5.816491, 7.1261764, 3.5372338, 2.6964612, 3.2168493, 3.6589086, 5.5134144, 3.46076, 4.6640267, 2.8511848, 4.408368, 3.0628715, 2.9121356, 4.012886, 2.8344104, 2.9759645, 4.753419, 2.8333168, 3.9933739, 1.9726167, 3.0256715, 3.0800076, 1.8282832, 1.3035722, 5.1341276, 3.7634754, 3.198855, 3.9821932, 5.800905, 6.591501, 2.996164, 1.1778808, 3.0270014, 3.8839617, 2.3327272, 3.1078267, 2.5096624, 1.147155, 2.7347114, 1.985347, 2.2715309, 2.507084, 1.8970807, 2.6898255, 4.1185794, 2.543154, 3.4017277, 2.766912, 2.6735253, 4.6804347, 1.4127629, 1.8916888, 1.434416, 3.1614184, 1.773669, 3.537116, 3.567031, 3.8378215, 3.1564415, 6.7878294, 3.2692785, 4.9703965, 2.1491811, 2.5847538, 2.1479445, 5.4203305, 5.009043, 3.9365165, 2.2340064, 1.622713, 2.0905275, 5.437093, 3.8221507, 5.179329, 7.4995317, 3.0924878, 4.9825706, 1.0250208, 1.8131766, 2.8722005, 5.885562, 6.187542, 3.3368464, 3.7635138, 3.6062503, 3.8108535, 7.15237, 4.4938354, 1.7959117, 1.6832991, 2.4630952, 2.3439453, 6.5640574, 5.223216, 1.9707316, 3.807213, 1.7962741, 2.4902663, 3.8059707, 2.7756498, 1.9455996, 2.1759496, 4.312841, 3.9682837, 2.8803985, 2.025458, 2.7406614, 3.7427464, 4.168503, 5.303587, 4.940159, 2.1163964, 3.7816133, 3.5493166, 2.8961086, 5.416554, 5.0933166, 1.7512985, 4.904603, 2.6930075, 5.7852087, 3.2530274, 1.1201841, 1.9952564, 1.9268955, 2.4312027, 2.7937808, 4.45945, 4.395141, 3.3694448, 1.8949962, 2.6990533, 4.082713, 4.407322, 3.7236824, 1.5035119, 2.0541983, 1.6836462, 3.91016, 1.358217, 3.8812618, 4.055061, 3.7562542, 4.347036, 3.8068314, 5.219606, 4.6639414, 2.975123, 2.5632696, 4.3078804, 5.264719, 4.2632976, 2.6521125, 2.2731292, 1.8305483, 1.8412004, 4.5756063, 3.7891302, 1.3385322, 2.1375008, 3.0005856, 5.6730585, 3.1622539, 3.3496735, 3.2642798, 6.6427217, 5.5441113, 6.287165, 3.523117, 3.554048, 1.2994707, 2.6205058, 3.5794733, 1.2542198, 3.0958872, 1.6857111, 1.6369278, 2.382964, 5.2384224, 3.8848946, 4.9618726, 2.9893193, 1.8780183, 3.7333653, 5.373499, 3.8241332, 3.119998, 4.7301946, 3.950379, 1.8934189, 3.0600257, 2.2286825, 2.1351337, 4.6770887, 2.7151265, 4.8509607, 3.6099195, 3.7716694, 1.9817661, 2.6559649, 1.8606998, 5.314251, 6.9624176, 6.629362, 1.501144, 7.4576, 5.4236565, 4.9234066, 3.887635, 1.7189043, 1.0148473, 2.7745361, 4.0670776, 2.6352859, 2.9004633, 2.1569855, 0.70585525, 1.4551258, 2.6216965, 3.1135263, 1.9401056, 1.1990358, 0.6130593, 2.8679504, 2.0827775, 4.163187, 4.121309, 5.258732, 4.169421, 5.3842716, 4.9127793, 7.3547697, 4.7782516, 2.2745922, 1.442347, 2.852865, 2.5996842, 2.119245, 4.2301083, 3.0287356, 1.028693, 3.0335474, 1.3792776, 2.3843613, 3.1112554, 1.8204129, 2.4061542, 4.0342045, 2.4082007, 2.7656863, 4.1075277, 1.2773527, 3.069034, 3.3032587, 1.8106024, 1.2421566, 2.203888, 4.0443068, 3.5542946, 2.5487013, 1.1075002, 0.895815, 2.8170893, 5.133497, 4.5206957, 4.6806436, 6.245752, 2.3072145, 4.5527506, 2.1735191, 1.4546299, 2.0712912, 3.2200382, 1.3158169, 2.9159403, 3.527614, 2.9478228, 1.4657478, 1.4695895, 2.9789197, 3.315558, 1.9685457, 5.426792, 6.784422, 1.8523742, 2.0066862, 4.7040234, 5.5440097, 1.7489035, 1.1751585, 3.347137, 2.8737879, 4.599851, 1.4570055, 2.7984781, 2.8846974, 4.673399, 1.7628585, 2.9540412, 3.4452884, 2.6599967, 3.952045, 2.0099428, 2.9117422, 2.403596, 2.251086, 3.2407117, 1.5385472, 0.45991904, 2.5937371, 3.1192136, 3.803647, 2.7159715, 2.291523, 1.2415252, 0.8143368, 2.4282079, 2.1514454, 3.734498, 2.3605676, 6.8827157, 2.8130362, 3.4376426, 1.1995206, 2.4325628, 3.9457753, 4.431905, 3.9657083, 2.315732, 1.1146624, 5.030939, 5.4168963, 5.721873, 4.1861463, 4.499091, 1.9100914, 1.8751353, 2.5610828, 3.2010071, 3.1809783, 2.3456116, 2.5149305, 4.0913796, 4.358114, 5.7131543, 2.4958358, 3.3726606, 2.2103505, 2.8376527, 3.0044303, 2.4059334, 2.2695837, 4.314513, 2.9173558, 4.125971, 2.0304775, 2.2237186, 2.2909834, 3.4867728, 3.8275175, 1.8675433, 4.7693357, 4.6229186, 4.1191297, 1.5749681, 3.1154215, 5.303242, 4.4523406, 5.045045, 3.443565, 3.2876804, 1.4889851, 4.800589, 1.7525141, 3.5299644, 3.907552, 3.4435542, 4.5056305, 2.4635353, 2.3593326, 2.4218264, 1.882119, 4.4400115, 3.634332, 2.7762172, 3.4446635, 1.4447006, 2.2664728, 3.363814, 3.6202307, 2.2906017, 1.3963908, 3.0653296, 3.137944, 5.1146984, 3.7652812, 3.3981583, 2.8674116, 5.2836475, 3.7594438, 2.432742, 1.950111, 3.5116677, 2.8230069, 4.288045, 3.85103, 3.951214, 2.2148123, 4.4054704, 6.463927, 7.2249374, 2.292848, 2.180864, 1.8154851, 2.5823753, 3.4654028, 5.210971, 4.6125727, 2.6331637, 4.562906, 2.0175114, 3.2119472, 3.7223873, 3.5437899, 3.7696862, 5.1099486, 2.0693889, 2.5620022, 3.9208841, 3.8990083, 3.3304586, 3.2876463, 5.6439567, 1.9666137, 4.1101837, 4.23005, 3.8023365, 3.5608974, 3.2948532, 2.2747636, 1.7175336, 2.3421495, 1.5865483, 3.696446, 6.1167607, 3.906712, 5.0627356, 5.1421537, 2.6677399, 4.720194, 3.3488266, 3.1308439, 1.2150137, 3.9269054, 6.101179, 6.55762, 3.2760844, 3.1803694, 4.4812913, 3.5862978, 2.1790466, 3.5759664, 1.3909303, 3.0590553, 1.3366095, 2.6458385, 2.286265, 2.0553336, 3.1517045, 3.5961065, 4.4214573, 3.1656477, 3.707353, 4.5817733, 3.2130587, 2.017182, 2.4245164, 2.2789822, 2.4731512, 4.1103163, 4.0124125, 3.8883843, 2.5146873, 3.7049131, 3.726625, 2.5228386, 3.9455714, 3.427046, 3.6728287, 2.7573493, 5.2438607, 3.3632765, 3.6807191, 5.559052, 4.5803165, 1.8348529, 4.8245554, 1.5363526, 2.3741107, 4.2102213, 1.5220808, 1.2648859, 2.700292, 1.0616273, 2.808735, 2.6441762, 2.167522, 3.5139472, 3.2868009, 4.206112, 3.0506215, 2.0690386, 2.0363216, 3.6150298, 1.6509978, 2.0851657, 2.7136636, 2.335282, 3.7465856, 1.4923971, 2.1877189, 4.4354467, 3.814433, 2.6938572, 2.4666145, 3.8131862, 4.5416546, 6.756746, 4.10194, 4.5255356, 3.4435024, 3.074584, 4.94081, 1.1005828, 3.6247325, 4.1524534, 5.2278996, 2.0164473, 3.0567145, 1.8874519, 4.872899, 4.09754, 3.43062, 2.7247915, 4.6511703, 4.268837, 1.938266, 3.7501583, 3.2000904, 1.677736, 2.3741531, 2.9774468, 2.6264956, 5.660894, 4.843823, 1.0193857, 2.1233048, 1.6689383, 5.7614493, 4.7725716, 2.8734708, 4.8403482, 2.8398843, 1.3547611, 3.2082903, 4.3892303, 4.282295, 0.41138083, 2.1448855, 3.3318546, 4.3935833, 3.1494527, 1.6265112, 6.050276, 1.2234538, 4.7933993, 4.223075, 5.375766, 4.882004, 3.5250087, 5.5913963, 2.604258, 2.9987206, 4.6347494, 2.9669838, 3.2108672, 2.388927, 2.7733722, 3.8255587, 3.0402064, 4.3399973, 2.1872501, 5.675915, 4.129147, 2.1544657, 1.9595113, 3.6672368, 3.9915707, 3.9991045, 2.1056814, 1.8300526, 1.8911977, 4.8738346, 3.899656, 1.6477436, 4.9408216, 4.5449495, 1.9634674, 3.943995, 6.732552, 4.458767, 2.7807267, 1.6343682, 3.5028925, 3.0796523, 3.7378223, 2.1083686, 3.6191933, 2.1774902, 3.8706927, 7.1789813, 3.7092626, 2.2080884, 2.9489017, 3.0683022, 5.1973257, 4.5820065, 6.3701277, 2.5550637, 2.8424296, 4.7235193, 3.238043, 1.490957, 2.7558427, 3.9765334, 2.3244774, 3.0457635, 5.3499365, 7.8069754, 4.336025, 4.7826424, 0.89779156, 5.1664953, 2.3698602, 3.5490901, 2.2749023, 1.5660381, 2.1748476, 2.2791038, 1.9424313, 6.034087, 3.6973133, 5.4147325, 2.0999346, 0.79481214, 3.413273, 3.7725217, 2.347715, 5.8262315, 2.6749797, 4.0124493, 3.4714165, 4.9853697, 2.652866, 4.0486436, 4.458192, 2.918388, 2.1614914, 4.5230417, 1.8529851, 1.7661661, 3.8816087, 2.7410746, 1.707179, 3.5050442, 2.975943, 4.5461383, 5.2375164, 4.463299, 2.3563595, 1.9911687, 1.1243122, 1.9678454, 3.8630128, 5.6098304, 1.5392207, 2.26119, 4.300063, 5.270087, 0.8851324, 2.7483597, 2.1029909, 2.9556046, 2.4078248, 2.4131632, 2.1440523, 2.3739748, 3.3694527, 4.6331367, 5.5963535, 2.4309864, 3.571631, 3.747418, 2.9425676, 4.9591846, 2.580357, 4.8556204, 5.802792, 2.6016636, 2.4694457, 2.4228017, 2.7351146, 4.057803, 3.4150548, 4.1935987, 3.5758393, 2.4825985, 1.5682323, 0.39772505, 5.060818, 3.415382, 3.7137256, 3.1399107, 2.1637952, 4.7978287, 2.663534, 3.031797, 3.6536157, 5.253271, 4.7909527, 2.4123755, 0.46816635, 2.0318618, 1.8892117, 4.5415163, 1.9741307, 0.8677502, 2.8656244, 2.5000095, 3.5838637, 3.1750677, 2.2219791, 4.7559023, 2.617826, 2.8841212, 1.6424804, 3.276873, 1.9334517, 3.0021334, 1.4749861, 3.1168704, 2.0853202, 1.8629793, 2.8502545, 4.742834, 2.004452, 3.1421244, 2.4350343, 3.8557057, 10.016748, 8.870758, 4.2171583, 3.937467, 4.663948, 3.5266013, 2.4034371, 3.0244203, 4.0620604, 2.0930624, 2.8304107, 3.1802154, 1.3771851, 4.499028, 2.913209, 3.2916412, 1.5943187, 6.2190113, 3.990501, 2.9515066, 2.1912396, 4.008643, 3.893507, 3.2332587, 2.5040545, 3.2124362, 4.593075, 5.0550313, 2.912926, 2.7642553, 3.9227242, 4.328, 2.738163, 1.0888319, 1.5715346, 1.0732926, 2.4680333, 2.709859, 2.9580426, 1.5705384, 2.547911, 2.525357, 1.710269, 2.546824, 2.0220017, 2.8253257, 6.532695, 5.0550165, 5.349185, 3.8174205, 2.045754, 0.9193076, 2.6653194, 1.9761574, 2.6302702, 3.7555332, 2.9441533, 5.1196995, 6.1708508, 2.0145195, 3.9579725, 0.9867059, 4.0066566, 3.1548457, 2.4207041, 1.93542, 3.6473205, 4.283054, 5.0504627, 3.4933634, 1.9052941, 6.4099436, 4.0365076, 4.305586, 3.6344318, 4.4204617, 2.9903898, 2.0501633, 2.233498, 1.645778, 4.4817367, 2.0660722, 3.0959363, 3.110019, 4.258783, 6.267648, 1.9257631, 1.6955245, 1.5560024, 4.0234885, 3.2116823, 1.4241587, 3.9129522, 1.447176, 1.9339186, 4.815297, 3.663255, 5.546132, 6.157073, 4.169527, 3.2699971, 2.2996638, 4.5067163, 2.8181171, 2.235663, 3.7928915, 2.9430556, 1.3983557, 2.343534, 6.091689, 3.4577045, 4.032598, 4.9179773, 1.8225541, 2.3254838, 2.7622385, 2.6735108, 2.8251538, 2.7749524, 2.4930773, 5.3123674, 4.5610986, 4.9589243, 7.5186005, 5.576344, 1.5453091, 5.205613, 1.0516098, 1.5679977, 3.3243752, 5.7332015, 0.9839704, 3.3063552, 3.3538263, 2.7278516, 3.4717474, 1.532679, 1.3502825, 3.092113, 2.5283964, 2.6580007, 2.4719443, 2.733407, 1.8766136, 4.7938805, 7.2474823, 5.884091, 1.9546729, 2.894979, 0.81795186, 1.3147671, 3.0608363, 5.205579, 2.5433326, 3.74859, 2.4851222, 2.0711432, 1.9983431, 1.3819901, 4.3412, 3.580966, 4.4424586, 1.8042123, 1.312376, 1.9809021, 2.1471632, 3.5477147, 1.9188225, 2.1661315, 1.6064863, 4.365759, 1.7186456, 2.7026224, 3.6784515, 3.117448, 5.3583813, 2.2354002, 1.8493631, 2.7366617, 3.3359513, 5.460042, 3.6205378, 2.687404, 1.4698005, 2.913366, 2.6905708, 1.7436465, 3.0858705, 3.5538301, 1.5592705, 2.6253564, 3.4814248, 3.545977, 5.013974, 4.645549, 2.7330012, 4.9501343, 2.5645452, 2.1827664, 2.4060307, 1.9458731, 3.4360926, 2.8428202, 2.2307549, 4.6610026, 4.648536, 6.432769, 5.0783606, 4.8129077, 1.961438, 1.232068, 1.9605389, 1.1652678, 1.22819, 2.8843184, 3.4657369, 0.60235363, 0.9758095, 2.918062, 2.136561, 4.2240376, 3.109935, 5.2441964, 4.0252333, 1.9429715, 2.052348, 1.9364197, 2.2768521, 3.0894592, 3.8880203, 1.5788126, 3.9898946, 3.9195442, 2.437173, 2.4955459, 1.6515113, 1.842282, 4.208176, 2.8862793, 3.4822986, 6.9983034, 2.7658372, 3.5056026, 2.539814, 5.9821568, 4.094656, 5.563278, 2.761641, 2.2599475, 3.5041316, 2.6150546, 5.5353403, 3.3445885, 3.4251487, 6.3566093, 3.0869823, 2.878036, 2.9050913, 1.7105446, 3.7755084, 3.5974925, 4.859236, 5.2775335, 2.805437, 5.1820207, 1.6648985, 2.391182, 4.9021215, 3.0671635, 2.4383662, 4.0291123, 2.6112628, 3.3657608, 6.3234015, 4.1631517, 4.2819657, 1.9625057, 3.6046422, 2.0276809, 4.171659, 2.3993332, 2.7550328, 4.349534, 2.4358644, 2.4006453, 3.4752116, 2.0295718, 4.87277, 1.7325037, 1.9143364, 3.101082, 2.56278, 2.2091231, 4.05054, 3.1032925, 3.471355, 4.3035154, 3.5811257, 3.581934, 3.6971598, 10.297176, 7.7041893, 2.0858784, 2.1435874, 3.1177793, 2.747, 2.893756, 4.5803003, 5.5163217, 2.449026, 3.0844934, 6.6642613, 3.0223143, 1.3736372, 1.9972019, 0.3974616, 6.681835, 3.0462613, 3.1258576, 4.0016665, 2.510047, 1.8340452, 2.1162856, 4.2117753, 3.1065493, 1.426672, 4.8542204, 3.316184, 1.7863084, 4.546817, 0.73517716, 2.8755884, 3.3705444, 2.5145998, 5.49464, 1.6563125, 6.621414, 4.4975786, 4.878727, 4.7499914, 4.9811034, 4.350158, 3.821898, 4.4450626, 3.59558, 3.378406, 1.5891263, 2.9459555, 3.4161987, 0.97317994, 2.2670503, 2.8057702, 1.6627979, 3.488438, 1.4810282, 4.7712765, 2.950534, 3.489873, 4.7086763, 4.359034, 3.0645494, 3.620222, 1.0826888, 1.3384767, 3.5338283, 2.7160137, 2.07714, 1.9093591, 2.8882456, 0.83972144, 2.6109767, 2.2253356, 3.144158, 5.312704, 2.1781852, 5.1727195, 5.1684084, 1.461292, 2.2568603, 1.9607583, 2.9822235, 4.108995, 3.3906488, 2.310835, 4.3884187, 4.0237017, 6.5675216, 4.560089, 5.0827, 2.3558626, 2.5993223, 3.957723, 6.604765, 1.8789454, 3.4694288, 2.607061, 3.559537, 4.740935, 2.3845506, 1.9194074, 0.9715998, 1.0664103, 1.3324001, 2.7017395, 4.058821, 2.2055688, 5.3347807, 1.8811457, 1.4428089, 2.5624096, 2.265389, 3.8374171, 0.86231816, 3.3671122, 5.207377, 2.2330458, 2.3495438, 3.0540745, 3.980177, 5.9824777, 4.181032, 4.6750174, 3.2365465, 4.494087, 6.636626, 3.527773, 3.557694, 3.6796474, 1.1462042, 1.6540612, 1.9034317, 4.0138025, 3.1110227, 3.668744, 2.834713, 4.191331, 2.5032375, 1.1931798, 2.9250474, 2.7720704, 3.510837, 3.3759594, 1.5698035, 4.784727, 3.8265686, 2.7664886, 3.0214999, 2.4535027, 1.5235521, 2.3314128, 3.4088454, 2.569282, 3.1121602, 3.2358756, 3.5551524, 1.1972541, 2.831389, 1.435782, 4.887836, 2.2530499, 2.120935, 4.526705, 3.9227648, 3.2438147, 1.2839969, 2.185301, 0.9140306, 2.3942547, 4.8709207, 3.1780381, 1.3737736, 1.1073009, 2.2919054, 6.4016476, 3.6921625, 1.357457, 1.149298, 2.2549338, 1.1730564, 4.134968, 2.1910048, 2.5992868, 3.0493436, 1.0971884, 2.5770352, 6.064089, 3.6362567, 4.2646236, 2.963001, 2.668787, 0.43762136, 2.3972518, 3.6401634, 0.9839334, 4.105957, 3.8347065, 3.3764548, 1.7418748, 1.3915708, 2.8405004, 4.0355277, 4.1358747, 2.1480732, 3.1023273, 3.258937, 3.7701912, 2.3118372, 2.0489454, 4.6314077, 2.6078062, 2.7014735, 2.4007537, 3.9847846, 5.8191433, 6.8620048, 3.2078533, 2.8087225, 2.7226682, 3.028749, 3.286704, 3.3215146, 2.038262, 2.4163988, 1.4819521, 3.9686902, 2.7867565, 5.222214, 1.5617898, 2.619635, 2.1633275, 1.975947, 2.3560014, 3.339982, 1.9336646, 4.460986, 4.769166, 3.2971978, 6.4284687, 3.623169, 3.8043911, 4.584552, 4.299932, 3.4997523, 4.5164723, 2.074102, 2.2098303, 2.306122, 1.7655994, 3.9369287, 3.7040067, 1.7708157, 3.7381973, 3.5333047, 4.664484, 7.187051, 4.315962, 3.8572662, 2.338816, 2.2385304, 1.64247, 1.7705487, 3.1320004, 1.4364548, 4.5660534, 4.7968645, 3.507483, 4.2814746, 3.280851, 2.3457086, 1.6416152, 7.1626215, 2.7629476, 3.0867856, 3.4673996, 2.576318, 2.4853828, 4.8176174, 3.4192019, 2.7719884, 2.3141246, 4.286287, 3.4441366, 2.4889545, 2.9844794, 1.7047085, 4.584527, 2.332614, 2.3704412, 1.9904901, 2.0932333, 0.66482484, 2.0870538, 0.9734595, 2.75119, 3.0692718, 3.1986122, 4.7443314, 5.749847, 5.2871275, 5.1966877, 4.251019, 4.8882127, 1.0575718, 3.420467, 3.2861884, 1.8137901, 1.1079583, 1.2082953, 1.810957, 2.3580298, 1.9538612, 1.9878669, 2.1980886, 4.871821, 3.6566901, 3.5121007, 4.878626, 4.572499, 5.5547767, 2.9209146, 3.881646, 2.613855, 2.9064064, 2.705944, 3.625079, 1.8647684, 6.452858, 3.7446005, 4.1304345, 4.526926, 6.8383718, 2.0912912, 2.7595654, 3.144134, 6.485368, 3.8393083, 3.8103719, 2.7473876, 1.8355346, 1.6568211, 3.2949548, 4.0481477, 5.0835886, 2.6791067, 3.222516, 5.7025394, 3.3111525, 1.6750586, 4.6757746, 3.4541113, 3.9887142, 7.26518, 5.0694313, 2.5304177, 1.7516291, 4.549523, 2.1673062, 2.7537236, 4.965026, 3.260328, 4.785353, 1.8438606, 1.6051781, 3.2019522, 2.8511314, 2.9102066, 2.2098107, 1.4191326, 3.5441225, 1.3448412, 3.860993, 1.1876577, 2.59128, 1.2325783, 3.2046447, 2.8743298, 2.6575713, 3.3538551, 2.335205, 3.2421198, 1.9308143, 3.5490775, 4.5177364, 4.8713236, 6.4062314, 2.6981065, 2.4355986, 3.360341, 3.4530802, 6.6823664, 4.4862523, 1.8532298, 1.3410472, 2.3464308, 4.202908, 1.6615568, 2.1018324, 2.7042363, 3.2717268, 3.6724687, 6.071826, 2.1119487, 2.3802266, 4.1053214, 0.80990475, 4.1138525, 2.465383, 3.2479677, 4.778466, 2.9144354, 3.6968832, 7.0611897, 7.48616, 2.9078336, 2.9107523, 5.2661257, 2.9792345, 2.372653, 3.0778677, 2.2189069, 3.5535612, 5.5102873, 0.81924725, 3.1427116, 4.458305, 2.607206, 5.135367, 4.371633, 4.9058065, 5.0375776, 3.0305796, 2.442793, 5.1369696, 3.6992042, 1.5735825, 3.5213163, 1.5313897, 1.5443103, 1.7978915, 4.866148, 3.0066268, 4.8593583, 4.618796, 5.871525, 5.3264422, 2.6491003, 5.050615, 2.017016, 0.7873326, 3.417132, 1.9568613, 1.6865625, 2.4089227, 2.8221073, 1.4263896, 3.9255552, 1.2263658, 3.8143847, 7.492717, 5.613365, 4.3207593, 3.5457797, 3.0359278, 3.6009111, 4.7062783, 1.904151, 4.408457, 3.9920392, 5.388034, 2.1746294, 3.6569595, 3.8633673, 2.8821657, 2.0183759, 3.891869, 1.8901092, 2.6858816, 1.0437887, 5.013298, 2.393077, 2.0901716, 5.0056863, 1.6193459, 4.8354387, 3.5347369, 3.0848732, 2.2538729, 3.8669264, 1.8518074, 3.8202357, 1.8202628, 2.1982498, 6.672619, 5.331867, 2.838344, 6.175162, 3.4805787, 2.9368467, 3.8758714, 5.2274857, 2.208683, 1.4773554, 2.5120032, 3.7936623, 3.0697377, 2.7502959, 3.4643092, 3.8190937, 4.9752207, 4.082638, 2.7218208, 1.5284295, 1.8594897, 3.2125988, 2.2133389, 2.5421095, 2.9018414, 3.8949594, 3.4709258, 2.062872, 2.4088175, 2.8474028, 2.1682117, 1.4471846, 2.7502735, 2.2734878, 4.6221437, 6.0244064, 1.7474239, 1.2032738, 3.187129, 4.667184, 5.803707, 1.8279543, 4.0059485, 2.935576, 4.433776, 4.3899207, 3.6216555, 2.8628542, 2.5049567, 4.943714, 1.4877971, 2.7270732, 2.3198478, 4.0701494, 2.461998, 2.6844983, 4.1392508, 1.7973228, 1.2911804, 0.8882711, 1.6291763, 3.9388952, 1.0667214, 2.0322156, 1.9293649, 4.2074456, 4.7736278, 2.8789423, 3.5282307, 3.1145678, 3.336339, 4.441709, 2.8667178, 2.155436, 5.847995, 2.7351494, 1.7300001, 2.587215, 1.8662245, 1.4168441, 3.1568184, 1.5180583, 2.1721888, 2.6953375, 2.7431307, 1.849859, 3.304575, 3.7833376, 4.580112, 2.8336706, 6.1238947, 5.05062, 4.177828, 3.7699623, 2.7812567, 4.686329, 5.7311554, 6.363083, 7.3976617, 1.9023833, 3.0442889, 2.6619918, 3.1534805, 2.9321382, 0.13349408, 3.3111577, 0.63596106, 4.8489494, 3.7442355, 3.2179723, 2.7157922, 1.469959, 2.8642523, 1.4769708, 2.8566434, 2.8694496, 1.640279, 3.8739436, 1.8846593, 2.0367656, 1.8421147, 3.829202, 1.9019818, 3.6350584, 3.8908365, 1.9641871, 3.9659266, 2.339116, 2.896008, 1.3355372, 2.5871446, 1.7743063, 1.6048787, 3.6510775, 2.7680016, 3.917262, 4.117081, 1.6002669, 4.1575, 6.5736237, 0.7543335, 1.8492107, 2.0400991, 3.2162156, 3.8558192, 2.5497947, 3.8945897, 4.2414794, 2.2185934, 0.99637604, 4.2359247, 5.1143622, 3.676746, 2.5673208, 3.373353, 3.8345237, 3.3348436, 8.130874, 3.7070832, 4.5807304, 1.6140854, 2.9744906, 2.0335784, 4.778494, 2.1244247, 2.8081133, 3.5411026, 2.9757047, 2.8208797, 1.3599511, 2.1297894, 0.77061665, 4.7900705, 3.4776611, 3.7768025, 2.6284769, 4.8077865, 1.1334835, 4.9504814, 3.2426338, 1.7712348, 1.9719676, 5.5697145, 2.5337424, 2.173939, 2.7822485, 1.331099, 3.1367574, 6.34711, 5.958294, 5.1896706, 3.5149927, 1.301672, 2.5447397, 1.2068944, 3.2694235, 2.9925005, 2.9693384, 2.1041942, 2.2806551, 4.0428743, 4.018507, 6.440234, 2.7216287, 3.3366795, 2.7616954, 6.289215, 4.5079727, 3.2282748, 1.2439904, 3.9976878, 4.236229, 3.4124641, 3.887928, 2.907567, 3.964377, 1.3883896, 1.5447086, 1.3871344, 5.49064, 4.745495, 3.7405438, 2.9046006, 2.8080091, 3.9678442, 1.9502871, 2.9127831, 4.183035, 2.1723523, 5.332817, 1.579009, 5.611816, 2.9550822, 4.755315, 2.5387304, 2.169518, 5.0490766, 2.8199706, 4.5463, 2.8178825, 4.1421256, 2.2871828, 3.9150126, 2.8224216, 2.4780998, 6.8569126, 3.8833714, 2.3459032, 1.9790747, 2.7052171, 2.989104, 2.5263383, 2.439523, 1.490211, 2.3339949, 3.8296554, 1.645447, 0.9157027, 3.051322, 3.235743, 2.9666276, 4.8560944, 2.6469836, 2.52145, 3.770885, 3.4483209, 4.278661, 1.6293, 0.71950614, 3.3697085, 2.3491898, 2.320276, 4.9974136, 4.412551, 3.0194573, 2.9091454, 2.2874322, 2.341877, 2.3217983, 2.141488, 3.9802127, 4.1719074, 3.4985535, 2.5800636, 1.5539842, 5.1144896, 5.4020967, 3.804922, 2.227078, 2.1807206, 3.7383296, 3.8019104, 2.0730562, 5.3197947, 5.408762, 4.3751936, 3.08515, 2.96175, 2.887957, 3.4225452, 1.8350725, 1.4385467, 2.0526361, 2.00575, 3.0584886, 3.7735915, 5.1227765, 4.7355003, 2.867108, 4.6020827, 1.3716724, 1.7159986, 3.161481, 1.7652469, 2.86972, 2.2373424, 0.94330704, 2.734254, 1.1943444, 1.2644928, 3.5854597, 2.9229202, 3.9091325, 0.73908985, 2.5133665, 2.399231, 2.53451, 3.114475, 3.6572962, 4.681242, 2.9550064, 2.0466518, 2.421444, 2.8737538, 2.2436984, 4.877492, 4.690378, 6.2291584, 3.7077394, 4.6380186, 5.6247506, 4.217785, 2.067924, 0.84513295, 6.141497, 2.7156723, 2.2941995, 1.5850542, 3.2535, 5.838848, 3.1749766, 2.395461, 3.718176, 5.9359694, 1.2994018, 3.0477397, 2.6635838, 4.096648, 2.4631577, 5.664097, 2.9298825, 2.6727004, 5.181712, 4.816189, 2.9233294, 5.5803666, 3.5527558, 2.3582773, 2.3554442, 2.1738977, 4.5822873, 2.6151915, 0.8779388, 2.0717916, 5.223256, 3.7391095, 2.6984391, 2.3169544, 1.0589507, 3.311169, 1.2617021, 0.8237531, 5.7903385, 7.4450912, 7.408412, 4.3287687, 4.6914215, 2.9881225, 3.2331727, 2.7348633, 2.7458997, 1.6774821, 5.025836, 1.4843624, 1.4945302, 4.086443, 6.859954, 5.9108787, 3.1775923, 3.2998958, 3.9267912, 3.0367079, 2.5568218, 4.3750477, 4.4334927, 3.459879, 3.6464462, 3.330453, 2.999118, 2.1335964, 3.6597552, 2.3878133, 6.016922, 3.2374995, 2.6815884, 2.9346104, 4.095635, 2.4322147, 1.1785483, 1.625721, 2.506381, 3.0569096, 3.4510531, 1.6488411, 3.0207074, 3.2340338, 3.9992492, 3.5917115, 3.3952236, 1.5971634, 4.212065, 6.7761674, 8.014061, 3.6686478, 2.988341, 3.353794, 1.9106901, 3.6004899, 4.031144, 4.5658445, 1.7338581, 1.508657, 3.7660124, 1.4106845, 5.3294687, 3.0655093, 1.6140006, 2.2716398, 4.4555235, 4.4541783, 4.7045155, 2.1962707, 4.6457987, 4.453429, 2.2113667, 2.3792953, 3.9357524, 5.1103306, 1.9301968, 2.6395497, 1.0490024, 1.6781032, 4.01929, 5.920355, 6.6680694, 3.033287, 2.47385, 2.73524, 2.2833276, 4.5579815, 1.327312, 6.587612, 2.5933325, 2.8236609, 2.4856842, 2.2911105, 6.4355903, 2.1387935, 3.7486272, 4.073321, 4.1310763, 2.0275714, 3.785678, 3.498949, 7.2525945, 5.497547, 6.0176187, 4.5883365, 5.2259502, 4.09997, 2.4273715, 1.9117178, 3.3785124, 3.3676095, 2.4300869, 3.7205336, 3.789444, 5.664881, 2.9286726, 4.7507505, 4.6346765, 5.682497, 3.966167, 6.812396, 4.9845324, 1.7711372, 1.6387695, 3.8885689, 1.9273176, 4.107497, 3.5143895, 1.0434092, 1.6009055, 3.1188927, 2.4242525, 3.465345, 4.307297, 2.0452743, 1.9983191, 1.502367, 2.6372294, 3.8721848, 3.6773849, 3.053578, 3.8968472, 4.5240517, 3.9248886, 3.754454, 2.743463, 1.7164844, 3.4199247, 2.771357, 0.9972021, 3.1288104, 2.7089856, 1.8457534, 1.0080917, 1.9906031, 1.6669062, 3.8052192, 1.0116597, 2.0826907, 2.009468, 4.646332, 2.627127, 5.0387974, 2.0251606, 1.7339218, 1.3729603, 1.793644, 1.3834423, 2.8309174, 2.7426887, 6.866184, 4.0452166, 2.2775812, 1.7925127, 5.071815, 4.8287063, 1.7516034, 5.1954355, 3.4746156, 1.7289293, 3.4612691, 1.2390271, 4.738119, 2.0150127, 2.927161, 1.6209097, 4.1251264, 3.9964812, 4.36375, 2.5618188, 2.6646724, 4.269768, 4.1505194, 2.8190746, 5.961502, 3.5378032, 2.8435245, 3.874249, 2.5969024, 1.7400888, 4.170623, 4.8075333, 5.146871, 5.694887, 2.537101, 3.073792, 1.3071703, 0.52214706, 2.4752405, 3.2915268, 1.6967891, 2.074865, 2.8964787, 5.5780997, 3.5604446, 4.107001, 3.05972, 3.3387785, 4.8167324, 2.436214, 3.9062638, 1.6726449, 2.9027944, 6.6999345, 1.5667937, 2.1822777, 5.083788, 2.7860615, 5.0644727, 5.065877, 2.4660847, 1.1889064, 1.5972447, 1.6184834, 1.9757026, 2.529392, 2.5245616, 3.6826284, 3.2189717, 3.1029081, 3.686905, 4.350727, 2.460392, 3.150649, 1.304561, 2.6432128, 1.8411288, 3.7664647, 4.878034, 5.6608963, 4.3793764, 1.5042343, 1.6190495, 4.7982545, 3.499434, 4.5439434, 2.133605, 5.6438065, 2.07718, 2.8992968, 4.400736, 5.2360573, 2.2971153, 4.039983, 6.6667233, 2.4855762, 4.982434, 2.9681945, 0.7066723, 3.3985217, 4.0816393, 1.1539938, 2.5516024, 4.7157784, 1.8793873, 3.0737433, 5.014521, 3.015727, 3.2310257, 2.4848084, 2.7065575, 2.8845937, 3.7376876, 3.0120401, 4.4424086, 3.7460468, 2.7770662, 2.9732134, 2.7372017, 6.5860863, 4.007557, 2.516128, 1.0310751, 1.1939999, 1.1494198, 3.9073582, 2.9647012, 2.0655932, 4.4565725, 2.346061, 3.8811727, 3.5424814, 1.8813467, 1.6742986, 2.0159752, 2.9430413, 2.000311, 3.267892, 1.5125673, 4.06029, 4.5120077, 2.7306552, 4.2639055, 2.1258564, 3.170333, 1.773711, 4.260033, 1.3279595, 1.7279775, 4.5119905, 2.9071414, 2.029122, 4.53314, 2.5829585, 1.4683495, 3.4818773, 2.3286576, 5.530311, 5.582917, 6.201956, 1.8167086, 4.2387094, 3.5526633, 3.5759234, 2.0506222, 3.1239004, 3.143304, 4.0667634, 4.5579624, 1.9491998, 2.538405, 2.1237369, 1.3857793, 2.988686, 3.7287576, 3.1981041, 1.3521657, 2.7077038, 1.933115, 3.4156027, 3.1947768, 3.6468306, 4.328309, 4.270017, 1.7241216, 2.2492876, 3.2803156, 7.6993523, 3.5538917, 2.733013, 2.843391, 2.8527825, 3.2512436, 4.6882524, 2.446012, 1.5306956, 5.7298193, 5.115926, 2.5265837, 7.08958, 4.7920294, 3.5740716, 2.337774, 1.3501467, 2.464704, 6.6126614, 2.1147392, 1.2327223, 2.4568813, 3.1180284, 4.498185, 1.7713623, 2.8844056, 4.7194033, 3.248359, 2.7520938, 1.2581577, 2.4787316, 5.275095, 4.340779, 1.4512501, 2.7106032, 1.8265319, 3.5194259, 2.958639, 5.037276, 5.881772, 5.522727, 3.9652004, 3.271843, 3.3964415, 3.4836168, 3.328507, 3.4233632, 3.1781492, 3.7711277, 4.91535, 2.964919, 4.661125, 1.7960384, 3.6421835, 2.4430306, 4.8535337, 3.1224566, 2.9932857, 2.132454, 2.6575322, 4.700857, 2.8260884, 3.0230486, 1.3884186, 2.2279468, 1.6773102, 4.2696877, 4.6420374, 3.7076938, 0.85785294, 1.9045956, 3.774034, 2.7382412, 4.276826, 3.8049545, 2.6385684, 3.736651, 4.2143927, 6.3801284, 2.2600257, 3.1623085, 3.3042336, 4.1505594, 4.557496, 5.2132545, 0.7395284, 2.4602952, 3.0905342, 4.460146, 1.2595687, 3.3921177, 3.4169807, 1.9017043, 3.2139606, 4.2362285, 1.2194045, 0.83898973, 4.024296, 3.5822954, 4.802659, 4.309947, 2.4404752, 0.9769503, 1.6654649, 3.5026317, 2.4516802, 3.5659983, 2.5456862, 5.260463, 5.3560324, 2.2657318, 7.1803365, 4.2592535, 6.17321, 5.6470227, 3.119339, 2.5236716, 0.8830977, 2.5604215, 4.8106947, 2.5899148, 2.4856772, 3.4988606, 1.6718769, 3.140134, 3.4702492, 2.1485794, 4.100713, 2.7031298, 4.5837927, 4.7471805, 0.48409894, 3.0562625, 4.034454, 2.4117422, 1.585687, 3.5169995, 4.7253094, 3.8818488, 4.327364, 1.3108199, 2.6803164, 4.2376094, 1.5331349, 3.0612292, 2.75593, 1.2593856, 4.699484, 2.8467216, 3.5491579, 2.561259, 1.5095773, 1.9693619, 2.6837478, 2.89889, 3.1298256, 2.225078, 4.0405006, 5.2861648, 1.2009677, 4.9330406, 3.2925186, 3.0453162, 2.123508, 1.7707193, 3.652402, 2.7379365, 3.2060766, 5.5997, 2.396796, 3.7068691, 2.4748805, 6.05505, 1.9920766, 4.0135965, 3.8222005, 3.993235, 5.527101, 3.0953574, 3.639832, 0.33335924, 2.268795, 1.8728104, 1.4590231, 2.9009428, 3.7375858, 5.3922186, 2.57377, 2.2314253, 1.3440464, 4.949708, 4.408845, 2.3096082, 3.6840436, 2.4321108, 4.7966995, 4.2251873, 3.1661978, 2.598297, 2.7010036, 3.3385682, 7.0436516, 1.9405563, 5.0182705, 2.4823852, 3.7569757, 2.6479468, 6.6229167, 3.7226756, 4.5618033, 2.1510048, 3.1033347, 0.6369058, 6.043051, 6.3707075, 3.1819513, 2.7237191, 1.7226417, 4.9858336, 4.383509, 1.3377433, 5.4834785, 3.035208, 1.4055172, 1.6507864, 2.2293096, 2.395174, 2.8718324, 3.956252, 3.4639778, 2.2999961, 3.3905034, 1.719482, 2.2221122, 1.6146071, 2.0641634, 3.503886, 2.42552, 3.5536036, 4.116828, 2.7966452, 1.9163238, 2.9960587, 1.4519295]\n"
     ]
    }
   ],
   "source": [
    "# Similar to making checkpoints, you can train in a loop and persist these metrics periodially\n",
    "# You could also implement a custom callback to stream these data to a CSV or other log file \n",
    "# At the completion of every epoch, or every batch. See: https://keras.io/callbacks/#example-recording-loss-history\n",
    "from tensorflow.keras.callbacks import Callback\n",
    "\n",
    "class LossHistory(Callback):\n",
    "    def on_train_begin(self, logs={}):\n",
    "        self.losses = []\n",
    "\n",
    "    def on_batch_end(self, batch, logs={}):\n",
    "        self.losses.append(logs.get('loss'))\n",
    "        ## Could also add code to write the loss to a file or DB here.\n",
    "        \n",
    "    # Also available...\n",
    "#     def on_epoch_end(self, epoch):\n",
    "#         pass\n",
    "        \n",
    "model = Sequential()\n",
    "model.add(Dense(10, input_dim=784, activation='softmax'))\n",
    "model.compile(loss='categorical_crossentropy', optimizer='rmsprop')\n",
    "\n",
    "history = LossHistory()\n",
    "model.fit(training_data, training_labels, batch_size=128, epochs=20, verbose=0, callbacks=[history])\n",
    "\n",
    "print(history.losses)"
   ]
  },
  {
   "cell_type": "markdown",
   "metadata": {},
   "source": [
    "### Saving Input Data For Later\n",
    "\n",
    "As your system gets used in the wild you won't have access to the true label. That is, you won't know if your model is correct or incorrect for any given prediction. Because of this, it can be hard to tell how well your model is performing. Additionally, if you're in a field with a \"war of attrition\" such as spam or fraud detection, your model might start failing more as your adversaries adapt to your AI. An important aspect of combating these problems is to save some (or all) of the data that is sent to your model. \n",
    "\n",
    "Similar to the advice about persisting metrics, consider establishing a format for saving new inputs to your model along with your model's predictions. You can monitor these for signs that something is going wrong for example:\n",
    "\n",
    "* Humans can periodically look through samples for obvious signs of fraud or adversarial input.\n",
    "* Automatically monitor for low confidence predictions.\n",
    "* Collect metadata such as IP address and monitor that metadata for patterns (did a single user just send 20,000 requests? They're probably trying to abuse your system somehow.)\n",
    "\n",
    "Additionally, if you're in a business where you can sometimes collect the true lables (e.g. Netflix users rating movies, \"Thumbs Up\" on a Pandora song, \"Like\" a Twitter post, and so on) then you can collect these as well and compare them with versions of your model (evaluate its performance) and/or use the labels to train your model (either online, or by adding the newly labeled data to a batch of training data)."
   ]
  },
  {
   "cell_type": "code",
   "execution_count": 12,
   "metadata": {},
   "outputs": [
    {
     "name": "stdout",
     "output_type": "stream",
     "text": [
      "array([2.3939674e-12, 1.6986448e-17, 1.2851826e-08, 1.8124734e-05,\n",
      "       7.4689179e-16, 9.9998176e-01, 1.1526551e-07, 2.0227273e-13,\n",
      "       4.4060511e-09, 9.1414681e-11], dtype=float32)\n"
     ]
    }
   ],
   "source": [
    "# Extract from HTTP... Save to DB... Nothing is actually that specific to keras here EXCEPT:\n",
    "\n",
    "prediction = fresh_model.predict(np.array([training_data[0]]))\n",
    "\n",
    "# You'll probably want to persist the raw prediction confidence :)\n",
    "pprint(prediction[0])"
   ]
  },
  {
   "cell_type": "code",
   "execution_count": null,
   "metadata": {},
   "outputs": [],
   "source": []
  }
 ],
 "metadata": {
  "kernelspec": {
   "display_name": "Python 3",
   "language": "python",
   "name": "python3"
  },
  "language_info": {
   "codemirror_mode": {
    "name": "ipython",
    "version": 3
   },
   "file_extension": ".py",
   "mimetype": "text/x-python",
   "name": "python",
   "nbconvert_exporter": "python",
   "pygments_lexer": "ipython3",
   "version": "3.8.5"
  }
 },
 "nbformat": 4,
 "nbformat_minor": 2
}
