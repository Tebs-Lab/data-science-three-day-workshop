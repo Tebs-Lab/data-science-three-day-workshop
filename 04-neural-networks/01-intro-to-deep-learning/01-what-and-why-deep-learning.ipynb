{
 "cells": [
  {
   "cell_type": "markdown",
   "metadata": {},
   "source": [
    "# Introduction to Deep Learning\n",
    "\n",
    "Deep learning is a subset of machine learning, which is itself a subset of artificial intelligence:\n",
    "\n",
    "![](img/AI-Venn.png)"
   ]
  },
  {
   "cell_type": "markdown",
   "metadata": {},
   "source": [
    "AI is a very broad field whose definition seems to change all the time, for our purposes lets assume AI covers **any computer system designed to automate decision making.** It's not a perfect definition, but it helps us think historically. Early AI systems, under this definition, would include rule based hierarchies. Large nested if statements handling all the possible states. \n",
    "\n",
    "Indeed, classical AI systems do not \"learn\" but instead humans learned a great deal about the problem, then created special algorithms to work in those domains. In many domains, like robotic path planning, these types of AI's are still the state of the art, outperforming machine learning alternatives. \n",
    "\n",
    "Machine learning is a subset of AI where an algorithm takes examples as input, and changes the output based on those examples. There are a few kinds of machine learning, including:\n",
    "\n",
    "* Supervised learning\n",
    "* Reinforcement learning\n",
    "* Unsupervised learning\n",
    "* Semi-supervised learning\n",
    "\n",
    "In this class we'll look at one form of supervised learning (deep learning) and later in the course how to combine deep learning with reinforcement learning. We will not discuss any unsupervised or semi-supervised learning concepts. \n",
    "\n",
    "![](img/AI-and-supervised-learning.png)"
   ]
  },
  {
   "cell_type": "markdown",
   "metadata": {},
   "source": [
    "The most critical difference here is that engineers are not designing a decision making process directly. They are selecting a model, then \"training\" it using a collection of algorithms. Those algorithms produce a \"trained model\" based on a bunch of labeled data, and that model is the thing that ultimately makes decisions."
   ]
  },
  {
   "cell_type": "markdown",
   "metadata": {},
   "source": [
    "# Benefits of Machine Learning\n",
    "\n",
    "If you had to write a computer program to detect pictures of birds... where would you start? Here is a \"classical AI\" approach:\n",
    "\n",
    "* First I'd write some code that could detect edges in a photograph.\n",
    "* Then I'd add some code that could extract shapes based on those edges.\n",
    "* Then I'd manually define all the shapes that birds can have in photographs.\n",
    "* Then I'd process an image, extract the shapes, and compare them to the shapes of birds. \n",
    "\n",
    "The first two parts of this process are often called \"feature extraction\" and it can be quite a challenge for some kinds of data, images included. The 3rd part of this would be exhausting: can you really enumerate all the shapes that birds could take in a photograph?\n",
    "\n",
    "In traditional AI humans would create specific algorithms for feature extraction, and then they would manually create algorithms to process those features. In some machine learning contexts, feature extraction is still a part of the process, but often (and especially with deep learning) feature extraction is automated as part of the training process.\n",
    "\n",
    "![](img/AI-and-supervised-learning-fe.png)"
   ]
  },
  {
   "cell_type": "markdown",
   "metadata": {},
   "source": [
    "Machine learning models have become the state-of-the-art in many AI domains, especially in domains where feature extraction is hard to do, such as computer vision. Some of the most popular ML models are neural networks, a class of very flexible models that excel at feature extraction."
   ]
  },
  {
   "cell_type": "markdown",
   "metadata": {},
   "source": [
    "# Neural Networks and Deep Learning\n",
    "\n",
    "Deep learning is a subset of supervised learning that makes use of a class of models called neural networks. The first neural networks were **inspired** by the way biological neurons work. The fundamental unit of a deep neural network is often called a \"neuron\" because of this history. **However, the connection between biological brains and deep neural networks is mostly superficial** a better way to think about neural networks is as a mathematical function. \n",
    "\n",
    "**The fundamental hypothosis of deep learning is that a mathematical function exists that can map the values of our input data to the labels of that input data.** The purpose of training a neural network is to find that mathematical function through trial and error. In order to understand how this works, it's very useful to think of neural networks in terms of a \"computational graph\". Consider this:\n",
    "\n",
    "```\n",
    "F(x, y, z) = (x + y) * z\n",
    "F(1, 2, 3) = 9\n",
    "```\n",
    "\n",
    "![](img/comGraphWithValues.png)"
   ]
  },
  {
   "cell_type": "markdown",
   "metadata": {},
   "source": [
    "This is a graph structure that represents the function above. Data flows through this network from the left to the right. The nodes represent a mathematical operation to apply, the inbound edges represent the values to be processed by a node, and the outbound edges represent the result of that operation being applied to the inputs. \n",
    "\n",
    "Deep Neural Networks are a special type of computational graph. These graphs have a series of layers where the first layer is made of nodes representing a single example from our data, and the last layer represents the output or prediction from our network. The input and output layers are called \"visible layers\". Between the input and output layer are a series of \"fully connected\" layers: \n",
    "\n",
    "![](img/networkZoom.png)"
   ]
  },
  {
   "cell_type": "markdown",
   "metadata": {},
   "source": [
    "Each node in the hidden layers has an input edge from each of the nodes in the prior layer, and has an outbound edge connected to each of the nodes in the subsequent layer. All the input values are summed, and that sum is sent to an \"activation function\" (in this example the \"sigmoid\" function). We will look at several popular activation functions in more detail later, but it's purpose is more or less to control and bound the output of any one neuron.\n",
    "\n",
    "If we zoom in closer we will see the key features that are changed while \"training\" a neural network\":\n",
    "\n",
    "![](img/networkZoomMore.png)"
   ]
  },
  {
   "cell_type": "markdown",
   "metadata": {},
   "source": [
    "Modern nerual networks combine several layers (hence \"deep\" neural networks) and these layers have often have hundreds to thousands of nodes each. Notice the **weights** w0-w2, and the **bias**. Each edge has a weight that is multiplied by the value coming into the node before the sum, and each neuron has a **bias** that is added to the sum of the incoming values. (The bias is optional, but very common). Finally, the weighted input is passed to the **activation function** which again, is the **sigmoid function** in this example. \n",
    "\n",
    "The result of the activation function is then passed as output to **all** the nodes in the next layer. \n",
    "\n",
    "The **weights** and **baises** are the things that change during training. "
   ]
  },
  {
   "cell_type": "markdown",
   "metadata": {},
   "source": [
    "## Micro Exercise:\n",
    "\n",
    "In groups of 2-4 discuss the following: This variety of Neural Networks, sometimes called Artificial Neural Networks (ANN) have been used sucessfully in a wide variety of applications from computer vision to natural language processing to financial modeling. **Can you explain what makes this type of model so flexible?**"
   ]
  },
  {
   "cell_type": "code",
   "execution_count": null,
   "metadata": {},
   "outputs": [],
   "source": []
  }
 ],
 "metadata": {
  "kernelspec": {
   "display_name": "Python 3",
   "language": "python",
   "name": "python3"
  },
  "language_info": {
   "codemirror_mode": {
    "name": "ipython",
    "version": 3
   },
   "file_extension": ".py",
   "mimetype": "text/x-python",
   "name": "python",
   "nbconvert_exporter": "python",
   "pygments_lexer": "ipython3",
   "version": "3.8.5"
  }
 },
 "nbformat": 4,
 "nbformat_minor": 2
}
