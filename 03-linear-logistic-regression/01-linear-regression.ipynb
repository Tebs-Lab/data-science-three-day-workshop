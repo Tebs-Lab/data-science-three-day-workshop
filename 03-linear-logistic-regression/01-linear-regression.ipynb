{
 "cells": [
  {
   "cell_type": "markdown",
   "metadata": {
    "colab_type": "text",
    "id": "-SE-U33Yb2Dz"
   },
   "source": [
    "# Linear Regression\n",
    "\n",
    "Linear regression is a simple model which assumes there is a linear relationship between the features and the targets. This relationship can be in any number of dimensions, but it must be linear in that dimensional space for linear regression to work well.\n",
    "\n",
    "A linear regression model can be expressed in a simple formula that will take you back to high school algebra:\n",
    "\n",
    "`y = mx + b`\n",
    "\n",
    "In two dimensions x, y, m, and b are all single numbers. In multidimensional problems not much changes, we simply add more m's and x's — one for each feature in the training data:\n",
    "\n",
    "`y = m1x1 + m2x2 + m3x3 ... mnxn + b`\n",
    "\n",
    "Note that we still have only a single \"intercept\" but one coefficent (m) per input feature (x).\n",
    "\n",
    "## A Simple, Contrived Example:"
   ]
  },
  {
   "cell_type": "code",
   "execution_count": 1,
   "metadata": {
    "ExecuteTime": {
     "end_time": "2018-03-16T21:14:52.271291Z",
     "start_time": "2018-03-16T21:14:52.265698Z"
    },
    "colab": {},
    "colab_type": "code",
    "executionInfo": {
     "elapsed": 305,
     "status": "ok",
     "timestamp": 1595520567176,
     "user": {
      "displayName": "Tyler Bettilyon",
      "photoUrl": "https://lh3.googleusercontent.com/a-/AOh14GgiI_fIvmEFVcz6ryPVwL29WmauHPmq4LMu1kGC=s64",
      "userId": "11726282730367601774"
     },
     "user_tz": 360
    },
    "id": "FJemMMV3b2D2"
   },
   "outputs": [],
   "source": [
    "%matplotlib inline\n",
    "import matplotlib.pyplot as plt\n",
    "import numpy as np"
   ]
  },
  {
   "cell_type": "markdown",
   "metadata": {
    "colab_type": "text",
    "id": "3JLayGivb2EB"
   },
   "source": [
    "## First lets create some random data between 0-1"
   ]
  },
  {
   "cell_type": "code",
   "execution_count": 2,
   "metadata": {
    "ExecuteTime": {
     "end_time": "2018-03-16T21:14:52.279350Z",
     "start_time": "2018-03-16T21:14:52.273563Z"
    },
    "colab": {
     "base_uri": "https://localhost:8080/",
     "height": 191
    },
    "colab_type": "code",
    "executionInfo": {
     "elapsed": 539,
     "status": "ok",
     "timestamp": 1595520568392,
     "user": {
      "displayName": "Tyler Bettilyon",
      "photoUrl": "https://lh3.googleusercontent.com/a-/AOh14GgiI_fIvmEFVcz6ryPVwL29WmauHPmq4LMu1kGC=s64",
      "userId": "11726282730367601774"
     },
     "user_tz": 360
    },
    "id": "PowcpCRtb2EG",
    "outputId": "b3b9f122-6ac5-4a96-f7f9-9908b6e340b6"
   },
   "outputs": [
    {
     "data": {
      "text/plain": [
       "array([1.54162842, 7.40049697, 2.63315015, 5.33739393, 0.14574962,\n",
       "       9.18747008, 9.00714854, 0.33421428, 9.56949336, 1.37209321,\n",
       "       2.83828353, 6.06083184, 9.44225136, 8.52735541, 0.02259234,\n",
       "       5.21226027, 5.52037633, 4.85377414, 7.68134154, 1.60716753,\n",
       "       7.6456045 , 0.20809798, 1.35210178, 1.16273017, 3.09897584,\n",
       "       6.71452645, 4.71229778, 8.16168298, 2.89586784, 7.33125978,\n",
       "       7.02622355, 3.27569476, 3.34647529, 9.78058079, 6.24582112,\n",
       "       9.50313525, 7.67475651, 8.25009253, 4.06640302, 4.51308411,\n",
       "       4.00631627, 9.9513816 , 1.77564176, 9.62596903, 4.1925027 ,\n",
       "       4.24052447, 4.6314887 , 3.73723149, 4.655081  , 0.35168261])"
      ]
     },
     "execution_count": 2,
     "metadata": {},
     "output_type": "execute_result"
    }
   ],
   "source": [
    "rng = np.random.RandomState(12)\n",
    "x = 10 * rng.rand(50) \n",
    "x"
   ]
  },
  {
   "cell_type": "code",
   "execution_count": 3,
   "metadata": {
    "ExecuteTime": {
     "end_time": "2018-03-16T21:14:52.365634Z",
     "start_time": "2018-03-16T21:14:52.281306Z"
    },
    "colab": {
     "base_uri": "https://localhost:8080/",
     "height": 265
    },
    "colab_type": "code",
    "executionInfo": {
     "elapsed": 466,
     "status": "ok",
     "timestamp": 1595522340239,
     "user": {
      "displayName": "Tyler Bettilyon",
      "photoUrl": "https://lh3.googleusercontent.com/a-/AOh14GgiI_fIvmEFVcz6ryPVwL29WmauHPmq4LMu1kGC=s64",
      "userId": "11726282730367601774"
     },
     "user_tz": 360
    },
    "id": "kL8Bm7YRb2EN",
    "outputId": "cf7708b1-2484-4197-d6a7-f1b87fdc3dd0"
   },
   "outputs": [
    {
     "data": {
      "image/png": "[encoded data removed]",
      "text/plain": [
       "<Figure size 432x288 with 1 Axes>"
      ]
     },
     "metadata": {
      "needs_background": "light"
     },
     "output_type": "display_data"
    }
   ],
   "source": [
    "# Now, use that data as part of a linear equation, plus some random noise on each point.\n",
    "y = 2 * x - 6 + rng.randn(50) \n",
    "plt.scatter(x, y);"
   ]
  },
  {
   "cell_type": "markdown",
   "metadata": {},
   "source": [
    "## Note:\n",
    "\n",
    "We created some syntetic data. This data is governed by the function `y = 2x - 6` with some small amount of noise thrown in. When we fit a linear regression model, we expect something very close to `m=2` and `b=-6`.\n",
    "\n",
    "The random noise may pull those values slightly in one direction or another, but we should expect them to be close.\n",
    "\n",
    "## Now, lets import and fit a model.\n",
    "\n",
    "Because of the way SK learn works, we'll need to modify the shape of our data slightly. Currently we have x as a single list but because SK-Learn expects each \"row\" to be a single datapoint (possibly with many features) we need to switch our input data to be a \"column vector.\"\n",
    "\n",
    "That is, our x currently looks like:\n",
    "\n",
    "```\n",
    "[1, 2, 3, 4, 5 ... 10]\n",
    "```\n",
    "\n",
    "And we need it to look like:\n",
    "\n",
    "```\n",
    "[\n",
    "    [1],\n",
    "    [2],\n",
    "    [3],\n",
    "    [4],\n",
    "    [5],\n",
    "    ...\n",
    "    [10]\n",
    "]\n",
    "```\n",
    "\n",
    "The ultimate reason for this is, suppose we have a dataset with 3 features per datapoint, we could use:\n",
    "\n",
    "```\n",
    "[\n",
    "    [1, 3, 7],\n",
    "    [4, 6, 2],\n",
    "    ...\n",
    "    [9, 5, 7]\n",
    "]\n",
    "```"
   ]
  },
  {
   "cell_type": "code",
   "execution_count": 4,
   "metadata": {
    "ExecuteTime": {
     "end_time": "2018-03-16T21:14:52.466703Z",
     "start_time": "2018-03-16T21:14:52.367693Z"
    },
    "colab": {
     "base_uri": "https://localhost:8080/",
     "height": 34
    },
    "colab_type": "code",
    "executionInfo": {
     "elapsed": 415,
     "status": "ok",
     "timestamp": 1595522262096,
     "user": {
      "displayName": "Tyler Bettilyon",
      "photoUrl": "https://lh3.googleusercontent.com/a-/AOh14GgiI_fIvmEFVcz6ryPVwL29WmauHPmq4LMu1kGC=s64",
      "userId": "11726282730367601774"
     },
     "user_tz": 360
    },
    "id": "a5I4_Sanb2EU",
    "outputId": "4706d41d-f600-4080-bb37-1c74e22a25e1"
   },
   "outputs": [
    {
     "name": "stdout",
     "output_type": "stream",
     "text": [
      "(50,) \n",
      " [1.54162842 7.40049697 2.63315015 5.33739393 0.14574962 9.18747008\n",
      " 9.00714854 0.33421428 9.56949336 1.37209321 2.83828353 6.06083184\n",
      " 9.44225136 8.52735541 0.02259234 5.21226027 5.52037633 4.85377414\n",
      " 7.68134154 1.60716753 7.6456045  0.20809798 1.35210178 1.16273017\n",
      " 3.09897584 6.71452645 4.71229778 8.16168298 2.89586784 7.33125978\n",
      " 7.02622355 3.27569476 3.34647529 9.78058079 6.24582112 9.50313525\n",
      " 7.67475651 8.25009253 4.06640302 4.51308411 4.00631627 9.9513816\n",
      " 1.77564176 9.62596903 4.1925027  4.24052447 4.6314887  3.73723149\n",
      " 4.655081   0.35168261] \n",
      "\n",
      "\n",
      "(50, 1) \n",
      " [[1.54162842]\n",
      " [7.40049697]\n",
      " [2.63315015]\n",
      " [5.33739393]\n",
      " [0.14574962]\n",
      " [9.18747008]\n",
      " [9.00714854]\n",
      " [0.33421428]\n",
      " [9.56949336]\n",
      " [1.37209321]\n",
      " [2.83828353]\n",
      " [6.06083184]\n",
      " [9.44225136]\n",
      " [8.52735541]\n",
      " [0.02259234]\n",
      " [5.21226027]\n",
      " [5.52037633]\n",
      " [4.85377414]\n",
      " [7.68134154]\n",
      " [1.60716753]\n",
      " [7.6456045 ]\n",
      " [0.20809798]\n",
      " [1.35210178]\n",
      " [1.16273017]\n",
      " [3.09897584]\n",
      " [6.71452645]\n",
      " [4.71229778]\n",
      " [8.16168298]\n",
      " [2.89586784]\n",
      " [7.33125978]\n",
      " [7.02622355]\n",
      " [3.27569476]\n",
      " [3.34647529]\n",
      " [9.78058079]\n",
      " [6.24582112]\n",
      " [9.50313525]\n",
      " [7.67475651]\n",
      " [8.25009253]\n",
      " [4.06640302]\n",
      " [4.51308411]\n",
      " [4.00631627]\n",
      " [9.9513816 ]\n",
      " [1.77564176]\n",
      " [9.62596903]\n",
      " [4.1925027 ]\n",
      " [4.24052447]\n",
      " [4.6314887 ]\n",
      " [3.73723149]\n",
      " [4.655081  ]\n",
      " [0.35168261]]\n"
     ]
    }
   ],
   "source": [
    "print(x.shape, '\\n', x, '\\n\\n')\n",
    "\n",
    "# This slightly funny syntax says, \"Insert a dimension along the second axis\"\n",
    "# Which converts this array to a column vector format.\n",
    "column_x = x[:, np.newaxis]\n",
    "print(column_x.shape, '\\n', column_x)"
   ]
  },
  {
   "cell_type": "markdown",
   "metadata": {},
   "source": [
    "# Now the data has been reshaped, we can fit the model.\n",
    "\n",
    "As usual, we just use the model.fit method."
   ]
  },
  {
   "cell_type": "code",
   "execution_count": 5,
   "metadata": {
    "colab": {
     "base_uri": "https://localhost:8080/",
     "height": 265
    },
    "colab_type": "code",
    "executionInfo": {
     "elapsed": 435,
     "status": "ok",
     "timestamp": 1595522264354,
     "user": {
      "displayName": "Tyler Bettilyon",
      "photoUrl": "https://lh3.googleusercontent.com/a-/AOh14GgiI_fIvmEFVcz6ryPVwL29WmauHPmq4LMu1kGC=s64",
      "userId": "11726282730367601774"
     },
     "user_tz": 360
    },
    "id": "J0AiuAHfb2EZ",
    "outputId": "570ee27f-4b78-4634-bd75-257c742f535f"
   },
   "outputs": [
    {
     "name": "stdout",
     "output_type": "stream",
     "text": [
      "[1.93665786]\n",
      "-5.728259340779379\n",
      "\n",
      "y = 1.94x + -5.73\n"
     ]
    }
   ],
   "source": [
    "from sklearn.linear_model import LinearRegression\n",
    "\n",
    "model = LinearRegression()\n",
    "model.fit(column_x, y)\n",
    "\n",
    "# Note, one value because we have a single feature in each of our x datapoints!\n",
    "print(model.coef_)\n",
    "\n",
    "# Note, always one value, regardless of the shape of X\n",
    "print(model.intercept_)\n",
    "print()\n",
    "\n",
    "# We can even be fancy and print out the formula that our model just found:\n",
    "print(f'y = {model.coef_[0]:.2f}x + {model.intercept_:.2f}')"
   ]
  },
  {
   "cell_type": "markdown",
   "metadata": {
    "colab_type": "text",
    "id": "ceEta4zvb2Ef"
   },
   "source": [
    "## Note\n",
    "\n",
    "Looks like it worked quite well! Our \"true\" slope was 2 and our \"true\" intercept was -6.\n",
    "\n",
    "### A picture is worth a thousand words...\n",
    "\n",
    "Lets plot our data along with the line we just created with the linear model!"
   ]
  },
  {
   "cell_type": "code",
   "execution_count": 6,
   "metadata": {
    "ExecuteTime": {
     "end_time": "2018-03-16T21:14:52.473891Z",
     "start_time": "2018-03-16T21:14:52.468821Z"
    },
    "colab": {
     "base_uri": "https://localhost:8080/",
     "height": 34
    },
    "colab_type": "code",
    "executionInfo": {
     "elapsed": 389,
     "status": "ok",
     "timestamp": 1595520833199,
     "user": {
      "displayName": "Tyler Bettilyon",
      "photoUrl": "https://lh3.googleusercontent.com/a-/AOh14GgiI_fIvmEFVcz6ryPVwL29WmauHPmq4LMu1kGC=s64",
      "userId": "11726282730367601774"
     },
     "user_tz": 360
    },
    "id": "Y45i1Nqqb2Eg",
    "outputId": "dfcc3312-b841-4cff-813a-6ad642597e77"
   },
   "outputs": [
    {
     "data": {
      "text/plain": [
       "array([ 0.        ,  1.11111111,  2.22222222,  3.33333333,  4.44444444,\n",
       "        5.55555556,  6.66666667,  7.77777778,  8.88888889, 10.        ])"
      ]
     },
     "execution_count": 6,
     "metadata": {},
     "output_type": "execute_result"
    },
    {
     "data": {
      "image/png": "[encoded data removed]",
      "text/plain": [
       "<Figure size 432x288 with 1 Axes>"
      ]
     },
     "metadata": {
      "needs_background": "light"
     },
     "output_type": "display_data"
    }
   ],
   "source": [
    "xfit = np.linspace(0, 10, 10)\n",
    "yfit = model.predict(xfit[:, np.newaxis])\n",
    "plt.scatter(x, y)\n",
    "plt.plot(xfit, yfit, color='red');\n",
    "xfit"
   ]
  },
  {
   "cell_type": "markdown",
   "metadata": {},
   "source": [
    "## Problems though...\n",
    "\n",
    "Linear regression works great for data with strong linear corelations, but if the data is noisy or if the relationship is non-linear these simple models breakdown."
   ]
  },
  {
   "cell_type": "code",
   "execution_count": 8,
   "metadata": {},
   "outputs": [
    {
     "name": "stdout",
     "output_type": "stream",
     "text": [
      "[1.98882229]\n",
      "-16.791612039880555\n",
      "\n",
      "y = 1.99x + -16.79\n"
     ]
    },
    {
     "data": {
      "image/png": "[encoded data removed]",
      "text/plain": [
       "<Figure size 432x288 with 1 Axes>"
      ]
     },
     "metadata": {
      "needs_background": "light"
     },
     "output_type": "display_data"
    }
   ],
   "source": [
    "# Here, we're reusing the same 50 random x values, but adding a lot more noise\n",
    "# into their relationship with y\n",
    "y = 2 * x - 6 + (rng.randn(50) * 5) - 10\n",
    "\n",
    "column_x = x[:, np.newaxis]\n",
    "\n",
    "model = LinearRegression()\n",
    "model.fit(column_x, y)\n",
    "\n",
    "# Note, one value because we have a single feature in each of our x datapoints!\n",
    "print(model.coef_)\n",
    "\n",
    "# Note, always one value, regardless of the shape of X\n",
    "print(model.intercept_)\n",
    "print()\n",
    "\n",
    "# We can even be fancy and print out the formula that our model just found:\n",
    "print(f'y = {model.coef_[0]:.2f}x + {model.intercept_:.2f}')\n",
    "xfit = np.linspace(0, 10, 10)\n",
    "yfit = model.predict(xfit[:, np.newaxis])\n",
    "plt.scatter(x, y)\n",
    "plt.plot(xfit, yfit, color='red');"
   ]
  },
  {
   "cell_type": "code",
   "execution_count": 17,
   "metadata": {},
   "outputs": [
    {
     "name": "stdout",
     "output_type": "stream",
     "text": [
      "[100.23711534]\n",
      "-1658.968733931401\n",
      "\n",
      "y = 100.24x + -1658.97\n"
     ]
    },
    {
     "data": {
      "image/png": "[encoded data removed]",
      "text/plain": [
       "<Figure size 432x288 with 1 Axes>"
      ]
     },
     "metadata": {
      "needs_background": "light"
     },
     "output_type": "display_data"
    }
   ],
   "source": [
    "# And if we give the y values a non-linear relationship (squared in this case)\n",
    "# the model becomes even worse:\n",
    "x = rng.rand(50) * 100 # this time making x a number between 0 and 10\n",
    "\n",
    "y = x**2 + (rng.randn(50) * 50) - 25\n",
    "\n",
    "column_x = x[:, np.newaxis]\n",
    "\n",
    "model = LinearRegression()\n",
    "model.fit(column_x, y)\n",
    "\n",
    "# Note, one value because we have a single feature in each of our x datapoints!\n",
    "print(model.coef_)\n",
    "\n",
    "# Note, always one value, regardless of the shape of X\n",
    "print(model.intercept_)\n",
    "print()\n",
    "\n",
    "# We can even be fancy and print out the formula that our model just found:\n",
    "print(f'y = {model.coef_[0]:.2f}x + {model.intercept_:.2f}')\n",
    "xfit = np.linspace(0, 100, 50)\n",
    "yfit = model.predict(xfit[:, np.newaxis])\n",
    "plt.scatter(x, y)\n",
    "plt.plot(xfit, yfit, color='red');\n"
   ]
  },
  {
   "cell_type": "markdown",
   "metadata": {},
   "source": [
    "# Lets try it with a real dataset"
   ]
  },
  {
   "cell_type": "code",
   "execution_count": 26,
   "metadata": {},
   "outputs": [
    {
     "data": {
      "text/html": [
       "<div>\n",
       "<style scoped>\n",
       "    .dataframe tbody tr th:only-of-type {\n",
       "        vertical-align: middle;\n",
       "    }\n",
       "\n",
       "    .dataframe tbody tr th {\n",
       "        vertical-align: top;\n",
       "    }\n",
       "\n",
       "    .dataframe thead th {\n",
       "        text-align: right;\n",
       "    }\n",
       "</style>\n",
       "<table border=\"1\" class=\"dataframe\">\n",
       "  <thead>\n",
       "    <tr style=\"text-align: right;\">\n",
       "      <th></th>\n",
       "      <th>RESIDENTIAL UNITS</th>\n",
       "      <th>COMMERCIAL UNITS</th>\n",
       "      <th>TOTAL UNITS</th>\n",
       "      <th>LAND SQUARE FEET</th>\n",
       "      <th>GROSS SQUARE FEET</th>\n",
       "      <th>YEAR BUILT</th>\n",
       "      <th>SALE PRICE</th>\n",
       "      <th>BOROUGH_Bronx</th>\n",
       "      <th>BOROUGH_Brooklyn</th>\n",
       "      <th>BOROUGH_Manhattan</th>\n",
       "      <th>BOROUGH_Queens</th>\n",
       "      <th>BOROUGH_Staten Island</th>\n",
       "      <th>BUILDING TYPE_COMMERCIAL</th>\n",
       "      <th>BUILDING TYPE_MIXED USE</th>\n",
       "      <th>BUILDING TYPE_RESIDENTIAL</th>\n",
       "      <th>BUILDING TYPE_UNKNOWN - NO UNITS</th>\n",
       "    </tr>\n",
       "  </thead>\n",
       "  <tbody>\n",
       "    <tr>\n",
       "      <th>0</th>\n",
       "      <td>5</td>\n",
       "      <td>0</td>\n",
       "      <td>5</td>\n",
       "      <td>0.000386</td>\n",
       "      <td>0.001717</td>\n",
       "      <td>1900</td>\n",
       "      <td>6625000.0</td>\n",
       "      <td>0</td>\n",
       "      <td>0</td>\n",
       "      <td>1</td>\n",
       "      <td>0</td>\n",
       "      <td>0</td>\n",
       "      <td>0</td>\n",
       "      <td>0</td>\n",
       "      <td>1</td>\n",
       "      <td>0</td>\n",
       "    </tr>\n",
       "    <tr>\n",
       "      <th>1</th>\n",
       "      <td>10</td>\n",
       "      <td>0</td>\n",
       "      <td>10</td>\n",
       "      <td>0.000537</td>\n",
       "      <td>0.001811</td>\n",
       "      <td>1913</td>\n",
       "      <td>3936272.0</td>\n",
       "      <td>0</td>\n",
       "      <td>0</td>\n",
       "      <td>1</td>\n",
       "      <td>0</td>\n",
       "      <td>0</td>\n",
       "      <td>0</td>\n",
       "      <td>0</td>\n",
       "      <td>1</td>\n",
       "      <td>0</td>\n",
       "    </tr>\n",
       "    <tr>\n",
       "      <th>2</th>\n",
       "      <td>6</td>\n",
       "      <td>0</td>\n",
       "      <td>6</td>\n",
       "      <td>0.000560</td>\n",
       "      <td>0.001230</td>\n",
       "      <td>1900</td>\n",
       "      <td>8000000.0</td>\n",
       "      <td>0</td>\n",
       "      <td>0</td>\n",
       "      <td>1</td>\n",
       "      <td>0</td>\n",
       "      <td>0</td>\n",
       "      <td>0</td>\n",
       "      <td>0</td>\n",
       "      <td>1</td>\n",
       "      <td>0</td>\n",
       "    </tr>\n",
       "    <tr>\n",
       "      <th>3</th>\n",
       "      <td>8</td>\n",
       "      <td>0</td>\n",
       "      <td>8</td>\n",
       "      <td>0.000414</td>\n",
       "      <td>0.001127</td>\n",
       "      <td>1920</td>\n",
       "      <td>3192840.0</td>\n",
       "      <td>0</td>\n",
       "      <td>0</td>\n",
       "      <td>1</td>\n",
       "      <td>0</td>\n",
       "      <td>0</td>\n",
       "      <td>0</td>\n",
       "      <td>0</td>\n",
       "      <td>1</td>\n",
       "      <td>0</td>\n",
       "    </tr>\n",
       "    <tr>\n",
       "      <th>4</th>\n",
       "      <td>24</td>\n",
       "      <td>0</td>\n",
       "      <td>24</td>\n",
       "      <td>0.001062</td>\n",
       "      <td>0.004939</td>\n",
       "      <td>1920</td>\n",
       "      <td>16232000.0</td>\n",
       "      <td>0</td>\n",
       "      <td>0</td>\n",
       "      <td>1</td>\n",
       "      <td>0</td>\n",
       "      <td>0</td>\n",
       "      <td>0</td>\n",
       "      <td>0</td>\n",
       "      <td>1</td>\n",
       "      <td>0</td>\n",
       "    </tr>\n",
       "  </tbody>\n",
       "</table>\n",
       "</div>"
      ],
      "text/plain": [
       "   RESIDENTIAL UNITS  COMMERCIAL UNITS  TOTAL UNITS  LAND SQUARE FEET  \\\n",
       "0                  5                 0            5          0.000386   \n",
       "1                 10                 0           10          0.000537   \n",
       "2                  6                 0            6          0.000560   \n",
       "3                  8                 0            8          0.000414   \n",
       "4                 24                 0           24          0.001062   \n",
       "\n",
       "   GROSS SQUARE FEET  YEAR BUILT  SALE PRICE  BOROUGH_Bronx  BOROUGH_Brooklyn  \\\n",
       "0           0.001717        1900   6625000.0              0                 0   \n",
       "1           0.001811        1913   3936272.0              0                 0   \n",
       "2           0.001230        1900   8000000.0              0                 0   \n",
       "3           0.001127        1920   3192840.0              0                 0   \n",
       "4           0.004939        1920  16232000.0              0                 0   \n",
       "\n",
       "   BOROUGH_Manhattan  BOROUGH_Queens  BOROUGH_Staten Island  \\\n",
       "0                  1               0                      0   \n",
       "1                  1               0                      0   \n",
       "2                  1               0                      0   \n",
       "3                  1               0                      0   \n",
       "4                  1               0                      0   \n",
       "\n",
       "   BUILDING TYPE_COMMERCIAL  BUILDING TYPE_MIXED USE  \\\n",
       "0                         0                        0   \n",
       "1                         0                        0   \n",
       "2                         0                        0   \n",
       "3                         0                        0   \n",
       "4                         0                        0   \n",
       "\n",
       "   BUILDING TYPE_RESIDENTIAL  BUILDING TYPE_UNKNOWN - NO UNITS  \n",
       "0                          1                                 0  \n",
       "1                          1                                 0  \n",
       "2                          1                                 0  \n",
       "3                          1                                 0  \n",
       "4                          1                                 0  "
      ]
     },
     "execution_count": 26,
     "metadata": {},
     "output_type": "execute_result"
    }
   ],
   "source": [
    "import pandas as pd\n",
    "\n",
    "path_to_ny_sales = '../datasets/nyc-property/transformed_nyc_housing.csv'\n",
    "sales_df = pd.read_csv(path_to_ny_sales)\n",
    "\n",
    "# This One-Hot encoding is a common way to consider categorical variables.\n",
    "sales_df = pd.get_dummies(sales_df, columns=['BOROUGH', 'BUILDING TYPE'])\n",
    "\n",
    "sales_df.head()"
   ]
  },
  {
   "cell_type": "code",
   "execution_count": 32,
   "metadata": {},
   "outputs": [
    {
     "name": "stdout",
     "output_type": "stream",
     "text": [
      "train: 0.23755306807907373, test: 0.2509755398021448\n",
      "RESIDENTIAL UNITS 372503.9507982693\n",
      "COMMERCIAL UNITS 426420.7155496287\n",
      "TOTAL UNITS -406400.2230039674\n",
      "LAND SQUARE FEET -287039109.68446124\n",
      "GROSS SQUARE FEET 602703938.2550247\n",
      "YEAR BUILT -255.19084895730902\n",
      "SALE PRICE -2456600.7601450277\n",
      "BOROUGH_Bronx -2060364.9237618656\n",
      "BOROUGH_Brooklyn 8311783.475311371\n",
      "BOROUGH_Manhattan -1858963.4978373963\n",
      "BOROUGH_Queens -1935854.2935571128\n",
      "BOROUGH_Staten Island 1912114.0406793547\n",
      "BUILDING TYPE_COMMERCIAL -415053.3598916272\n",
      "BUILDING TYPE_MIXED USE -860588.3679487475\n",
      "BUILDING TYPE_RESIDENTIAL -636472.3128409346\n"
     ]
    }
   ],
   "source": [
    "from sklearn.model_selection import train_test_split\n",
    "\n",
    "# We always need to split off the labels (in our case price) from our features (everything else)\n",
    "labels = sales_df['SALE PRICE']\n",
    "features = sales_df.drop(labels='SALE PRICE', axis=1)\n",
    "\n",
    "# We \"hold out\" some data to test if our model can work\n",
    "# on data it wasn't allowed to see during the training process\n",
    "training_data, test_data, training_labels, test_labels = train_test_split(features, labels, test_size=0.2)\n",
    "\n",
    "model = LinearRegression()\n",
    "model.fit(training_data, training_labels)\n",
    "\n",
    "# We generally \"score\" the model based on the held out data, but it's useful to compare \n",
    "# the training scores to the test scores to look for \"overfitting\"ArithmeticError\n",
    "train_score = model.score(training_data, training_labels)\n",
    "test_score = model.score(test_data, test_labels)\n",
    "\n",
    "print(f\"train: {train_score}, test: {test_score}\")\n",
    "\n",
    "for name, coef in zip(sales_df.columns, model.coef_):\n",
    "    print(name, coef)"
   ]
  },
  {
   "cell_type": "markdown",
   "metadata": {
    "colab_type": "text",
    "id": "jqMTHdm2b2Ev"
   },
   "source": [
    "## Linear Model Assumptions\n",
    "\n",
    "Linear Regression is widely used, but it relies on some assumptions about the data. Linear Regression models will perform better when all of these assumptions are met.\n",
    "\n",
    "### 1. The linear regression model is “linear in parameters.”\n",
    "\n",
    "If the underlying relationship between your features and your targets is actually parabolic, a linear regressor won't model it well.\n",
    "\n",
    "### 2. There is a random sampling of observations.\n",
    "\n",
    "Meaning, there is no systemic bias in the sample with respect to the population. If you only sample health data from wealthy families your model won't work to predict health outcomes from poor families. The sample must accurately represent the population.\n",
    "\n",
    "\n",
    "### 3. The conditional mean should be zero.\n",
    "\n",
    "The conditional mean being zero means the expected value of the error is zero. Which essentially means our model should be predicting \"too low\" and \"too high\" equally as often and in similar magnitudes.\n",
    "\n",
    "This also implies there is no correlation between the value of X and the error at that point. If the errors trend in one direction as X gets larger, this assumption is violated, and it means your model is probably missing something.\n",
    "\n",
    "### 4. There is no multi-collinearity (or perfect collinearity).\n",
    "\n",
    "If two or more of the features are perfectly correlated with each other linear regression has an infinte number of \"correct\" choices to model the coefficents for those two features, and it may choose really weird ones.\n",
    "\n",
    "Say for example, that height and armspan are both inputs. These are strongly correlated. Assume the true relationship is: \n",
    "\n",
    "`y = M1*height + M2*armspan` where `M1 = 1, M2 = 1` \n",
    "\n",
    "Because height and armspan are so strongly correlated any M1 and M2 that \"balance out\" will always work, for example:\n",
    "\n",
    "`M1 = 4 M2 = -2` or worse `M1 = 1000 M2 = -998`\n",
    "\n",
    "With uncorrelated features this \"balancing\" can't be achieved quite so capriciously, it is the strong relationship between height and armspan that allows for this strange balancing.\n",
    "\n",
    "### 5. There aren't many outliers, and the outliers are WAY out there\n",
    "\n",
    "Outliers can mess with any model, but they are particularly rough on linear regression."
   ]
  },
  {
   "cell_type": "markdown",
   "metadata": {
    "colab": {},
    "colab_type": "code",
    "id": "JPsdBOEFb2Ew"
   },
   "source": [
    "## A Final Note\n",
    "\n",
    "Why is this considered Machine Learning? \n",
    "\n",
    "You might remember in a stats class from once upon a time that the Ordinary Least Squares regression line can be found using a closed form solution, and that's true! Even so, it's still a model built from data, not an expert system or some other form of traditional AI.\n",
    "\n",
    "Additionally, with very large datasets with high dimenstionality it is usually faster to use some form of \"gradient descent\" rather than the closed form solution which is often more expensive to compute than finding a good approximation using gradient descent. \n",
    "\n",
    "Read more about gradient descent: [https://medium.com/tebs-lab/gradient-descent-604f6d6c116d](https://medium.com/tebs-lab/gradient-descent-604f6d6c116d)"
   ]
  },
  {
   "cell_type": "code",
   "execution_count": null,
   "metadata": {},
   "outputs": [],
   "source": []
  }
 ],
 "metadata": {
  "colab": {
   "name": "05-linear-models.ipynb",
   "provenance": []
  },
  "kernelspec": {
   "display_name": "Python 3.9.7 ('base')",
   "language": "python",
   "name": "python3"
  },
  "language_info": {
   "codemirror_mode": {
    "name": "ipython",
    "version": 3
   },
   "file_extension": ".py",
   "mimetype": "text/x-python",
   "name": "python",
   "nbconvert_exporter": "python",
   "pygments_lexer": "ipython3",
   "version": "3.9.7"
  },
  "vscode": {
   "interpreter": {
    "hash": "b47da3e1d16d9841097cb752f1ede2845b0b96c0d05ed9610e6015103e57b4fc"
   }
  }
 },
 "nbformat": 4,
 "nbformat_minor": 1
}
