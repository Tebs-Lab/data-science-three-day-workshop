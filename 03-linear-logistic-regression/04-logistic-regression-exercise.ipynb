{
 "cells": [
  {
   "cell_type": "markdown",
   "metadata": {},
   "source": [
    "## Exercise: Build a logistic regression model to predict fish species\n",
    "\n",
    "Using the fish dataset in this repo (location relative to this notebook: `../datasets/fish/Fish.csv`) do the following:\n",
    "\n",
    "1. Split the data into labels and features, with the \"species\" column being the label and the other columns as features.\n",
    "2. Split the fish data into training and validation sets.\n",
    "3. Fit the model!\n",
    "4. Score the model, what is this value? How should you interpret it?\n",
    "5. Examine the coefficents and intercept value...\n",
    "    * These are a strange shape compared to linear regression. \n",
    "    * Can you explain what they are?\n",
    "6. Compute and plot the a \"confusion matrix\"\n",
    "    * Hint 1: [https://machinelearningmastery.com/confusion-matrix-machine-learning/](https://machinelearningmastery.com/confusion-matrix-machine-learning/)\n",
    "    * Hint 2: [https://scikit-learn.org/stable/auto_examples/model_selection/plot_confusion_matrix.html](https://scikit-learn.org/stable/auto_examples/model_selection/plot_confusion_matrix.html)\n",
    "    * Hint 3: [https://stackoverflow.com/questions/35572000/how-can-i-plot-a-confusion-matrix](https://stackoverflow.com/questions/35572000/how-can-i-plot-a-confusion-matrix)\n",
    "    * Is your model good at some classes and bad at others?\n",
    "    * Are there any interesting trends in the confusion matrix?"
   ]
  },
  {
   "cell_type": "code",
   "execution_count": null,
   "metadata": {},
   "outputs": [],
   "source": [
    "# Your code below here... use as many cells as you'd like."
   ]
  }
 ],
 "metadata": {
  "kernelspec": {
   "display_name": "Python 3",
   "language": "python",
   "name": "python3"
  },
  "language_info": {
   "codemirror_mode": {
    "name": "ipython",
    "version": 3
   },
   "file_extension": ".py",
   "mimetype": "text/x-python",
   "name": "python",
   "nbconvert_exporter": "python",
   "pygments_lexer": "ipython3",
   "version": "3.7.9"
  }
 },
 "nbformat": 4,
 "nbformat_minor": 4
}
